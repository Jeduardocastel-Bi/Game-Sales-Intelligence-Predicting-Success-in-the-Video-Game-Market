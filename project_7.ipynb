{
 "cells": [
  {
   "cell_type": "code",
   "execution_count": 79,
   "metadata": {
    "tags": [
     "e5c1f0c2-db9f-43a0-99b9-4875c52427e8"
    ]
   },
   "outputs": [],
   "source": [
    "import pandas as pd\n",
    "import numpy as np\n",
    "import matplotlib.pyplot as plt\n",
    "import seaborn as sns\n",
    "from scipy import stats "
   ]
  },
  {
   "cell_type": "code",
   "execution_count": 5,
   "metadata": {
    "scrolled": true
   },
   "outputs": [
    {
     "data": {
      "text/html": [
       "<div>\n",
       "<style scoped>\n",
       "    .dataframe tbody tr th:only-of-type {\n",
       "        vertical-align: middle;\n",
       "    }\n",
       "\n",
       "    .dataframe tbody tr th {\n",
       "        vertical-align: top;\n",
       "    }\n",
       "\n",
       "    .dataframe thead th {\n",
       "        text-align: right;\n",
       "    }\n",
       "</style>\n",
       "<table border=\"1\" class=\"dataframe\">\n",
       "  <thead>\n",
       "    <tr style=\"text-align: right;\">\n",
       "      <th></th>\n",
       "      <th>Name</th>\n",
       "      <th>Platform</th>\n",
       "      <th>Year_of_Release</th>\n",
       "      <th>Genre</th>\n",
       "      <th>NA_sales</th>\n",
       "      <th>EU_sales</th>\n",
       "      <th>JP_sales</th>\n",
       "      <th>Other_sales</th>\n",
       "      <th>Critic_Score</th>\n",
       "      <th>User_Score</th>\n",
       "      <th>Rating</th>\n",
       "    </tr>\n",
       "  </thead>\n",
       "  <tbody>\n",
       "    <tr>\n",
       "      <th>0</th>\n",
       "      <td>Wii Sports</td>\n",
       "      <td>Wii</td>\n",
       "      <td>2006.0</td>\n",
       "      <td>Sports</td>\n",
       "      <td>41.36</td>\n",
       "      <td>28.96</td>\n",
       "      <td>3.77</td>\n",
       "      <td>8.45</td>\n",
       "      <td>76.0</td>\n",
       "      <td>8</td>\n",
       "      <td>E</td>\n",
       "    </tr>\n",
       "    <tr>\n",
       "      <th>1</th>\n",
       "      <td>Super Mario Bros.</td>\n",
       "      <td>NES</td>\n",
       "      <td>1985.0</td>\n",
       "      <td>Platform</td>\n",
       "      <td>29.08</td>\n",
       "      <td>3.58</td>\n",
       "      <td>6.81</td>\n",
       "      <td>0.77</td>\n",
       "      <td>NaN</td>\n",
       "      <td>NaN</td>\n",
       "      <td>NaN</td>\n",
       "    </tr>\n",
       "    <tr>\n",
       "      <th>2</th>\n",
       "      <td>Mario Kart Wii</td>\n",
       "      <td>Wii</td>\n",
       "      <td>2008.0</td>\n",
       "      <td>Racing</td>\n",
       "      <td>15.68</td>\n",
       "      <td>12.76</td>\n",
       "      <td>3.79</td>\n",
       "      <td>3.29</td>\n",
       "      <td>82.0</td>\n",
       "      <td>8.3</td>\n",
       "      <td>E</td>\n",
       "    </tr>\n",
       "    <tr>\n",
       "      <th>3</th>\n",
       "      <td>Wii Sports Resort</td>\n",
       "      <td>Wii</td>\n",
       "      <td>2009.0</td>\n",
       "      <td>Sports</td>\n",
       "      <td>15.61</td>\n",
       "      <td>10.93</td>\n",
       "      <td>3.28</td>\n",
       "      <td>2.95</td>\n",
       "      <td>80.0</td>\n",
       "      <td>8</td>\n",
       "      <td>E</td>\n",
       "    </tr>\n",
       "    <tr>\n",
       "      <th>4</th>\n",
       "      <td>Pokemon Red/Pokemon Blue</td>\n",
       "      <td>GB</td>\n",
       "      <td>1996.0</td>\n",
       "      <td>Role-Playing</td>\n",
       "      <td>11.27</td>\n",
       "      <td>8.89</td>\n",
       "      <td>10.22</td>\n",
       "      <td>1.00</td>\n",
       "      <td>NaN</td>\n",
       "      <td>NaN</td>\n",
       "      <td>NaN</td>\n",
       "    </tr>\n",
       "  </tbody>\n",
       "</table>\n",
       "</div>"
      ],
      "text/plain": [
       "                       Name Platform  Year_of_Release         Genre  NA_sales  \\\n",
       "0                Wii Sports      Wii           2006.0        Sports     41.36   \n",
       "1         Super Mario Bros.      NES           1985.0      Platform     29.08   \n",
       "2            Mario Kart Wii      Wii           2008.0        Racing     15.68   \n",
       "3         Wii Sports Resort      Wii           2009.0        Sports     15.61   \n",
       "4  Pokemon Red/Pokemon Blue       GB           1996.0  Role-Playing     11.27   \n",
       "\n",
       "   EU_sales  JP_sales  Other_sales  Critic_Score User_Score Rating  \n",
       "0     28.96      3.77         8.45          76.0          8      E  \n",
       "1      3.58      6.81         0.77           NaN        NaN    NaN  \n",
       "2     12.76      3.79         3.29          82.0        8.3      E  \n",
       "3     10.93      3.28         2.95          80.0          8      E  \n",
       "4      8.89     10.22         1.00           NaN        NaN    NaN  "
      ]
     },
     "execution_count": 5,
     "metadata": {},
     "output_type": "execute_result"
    }
   ],
   "source": [
    "#Extraer datos de la fuente:\n",
    "games_data_raw = pd.read_csv('games.csv')\n",
    "games_data_raw.head()"
   ]
  },
  {
   "cell_type": "code",
   "execution_count": 6,
   "metadata": {},
   "outputs": [
    {
     "name": "stdout",
     "output_type": "stream",
     "text": [
      "<class 'pandas.core.frame.DataFrame'>\n",
      "RangeIndex: 16715 entries, 0 to 16714\n",
      "Data columns (total 11 columns):\n",
      " #   Column           Non-Null Count  Dtype  \n",
      "---  ------           --------------  -----  \n",
      " 0   Name             16713 non-null  object \n",
      " 1   Platform         16715 non-null  object \n",
      " 2   Year_of_Release  16446 non-null  float64\n",
      " 3   Genre            16713 non-null  object \n",
      " 4   NA_sales         16715 non-null  float64\n",
      " 5   EU_sales         16715 non-null  float64\n",
      " 6   JP_sales         16715 non-null  float64\n",
      " 7   Other_sales      16715 non-null  float64\n",
      " 8   Critic_Score     8137 non-null   float64\n",
      " 9   User_Score       10014 non-null  object \n",
      " 10  Rating           9949 non-null   object \n",
      "dtypes: float64(6), object(5)\n",
      "memory usage: 1.4+ MB\n"
     ]
    }
   ],
   "source": [
    "# Estraer información relevante del Dataframe\n",
    "games_data_raw.info()"
   ]
  },
  {
   "cell_type": "code",
   "execution_count": 7,
   "metadata": {
    "scrolled": true
   },
   "outputs": [
    {
     "data": {
      "text/html": [
       "<div>\n",
       "<style scoped>\n",
       "    .dataframe tbody tr th:only-of-type {\n",
       "        vertical-align: middle;\n",
       "    }\n",
       "\n",
       "    .dataframe tbody tr th {\n",
       "        vertical-align: top;\n",
       "    }\n",
       "\n",
       "    .dataframe thead th {\n",
       "        text-align: right;\n",
       "    }\n",
       "</style>\n",
       "<table border=\"1\" class=\"dataframe\">\n",
       "  <thead>\n",
       "    <tr style=\"text-align: right;\">\n",
       "      <th></th>\n",
       "      <th>Year_of_Release</th>\n",
       "      <th>NA_sales</th>\n",
       "      <th>EU_sales</th>\n",
       "      <th>JP_sales</th>\n",
       "      <th>Other_sales</th>\n",
       "      <th>Critic_Score</th>\n",
       "    </tr>\n",
       "  </thead>\n",
       "  <tbody>\n",
       "    <tr>\n",
       "      <th>count</th>\n",
       "      <td>16446.000000</td>\n",
       "      <td>16715.000000</td>\n",
       "      <td>16715.000000</td>\n",
       "      <td>16715.000000</td>\n",
       "      <td>16715.000000</td>\n",
       "      <td>8137.000000</td>\n",
       "    </tr>\n",
       "    <tr>\n",
       "      <th>mean</th>\n",
       "      <td>2006.484616</td>\n",
       "      <td>0.263377</td>\n",
       "      <td>0.145060</td>\n",
       "      <td>0.077617</td>\n",
       "      <td>0.047342</td>\n",
       "      <td>68.967679</td>\n",
       "    </tr>\n",
       "    <tr>\n",
       "      <th>std</th>\n",
       "      <td>5.877050</td>\n",
       "      <td>0.813604</td>\n",
       "      <td>0.503339</td>\n",
       "      <td>0.308853</td>\n",
       "      <td>0.186731</td>\n",
       "      <td>13.938165</td>\n",
       "    </tr>\n",
       "    <tr>\n",
       "      <th>min</th>\n",
       "      <td>1980.000000</td>\n",
       "      <td>0.000000</td>\n",
       "      <td>0.000000</td>\n",
       "      <td>0.000000</td>\n",
       "      <td>0.000000</td>\n",
       "      <td>13.000000</td>\n",
       "    </tr>\n",
       "    <tr>\n",
       "      <th>25%</th>\n",
       "      <td>2003.000000</td>\n",
       "      <td>0.000000</td>\n",
       "      <td>0.000000</td>\n",
       "      <td>0.000000</td>\n",
       "      <td>0.000000</td>\n",
       "      <td>60.000000</td>\n",
       "    </tr>\n",
       "    <tr>\n",
       "      <th>50%</th>\n",
       "      <td>2007.000000</td>\n",
       "      <td>0.080000</td>\n",
       "      <td>0.020000</td>\n",
       "      <td>0.000000</td>\n",
       "      <td>0.010000</td>\n",
       "      <td>71.000000</td>\n",
       "    </tr>\n",
       "    <tr>\n",
       "      <th>75%</th>\n",
       "      <td>2010.000000</td>\n",
       "      <td>0.240000</td>\n",
       "      <td>0.110000</td>\n",
       "      <td>0.040000</td>\n",
       "      <td>0.030000</td>\n",
       "      <td>79.000000</td>\n",
       "    </tr>\n",
       "    <tr>\n",
       "      <th>max</th>\n",
       "      <td>2016.000000</td>\n",
       "      <td>41.360000</td>\n",
       "      <td>28.960000</td>\n",
       "      <td>10.220000</td>\n",
       "      <td>10.570000</td>\n",
       "      <td>98.000000</td>\n",
       "    </tr>\n",
       "  </tbody>\n",
       "</table>\n",
       "</div>"
      ],
      "text/plain": [
       "       Year_of_Release      NA_sales      EU_sales      JP_sales  \\\n",
       "count     16446.000000  16715.000000  16715.000000  16715.000000   \n",
       "mean       2006.484616      0.263377      0.145060      0.077617   \n",
       "std           5.877050      0.813604      0.503339      0.308853   \n",
       "min        1980.000000      0.000000      0.000000      0.000000   \n",
       "25%        2003.000000      0.000000      0.000000      0.000000   \n",
       "50%        2007.000000      0.080000      0.020000      0.000000   \n",
       "75%        2010.000000      0.240000      0.110000      0.040000   \n",
       "max        2016.000000     41.360000     28.960000     10.220000   \n",
       "\n",
       "        Other_sales  Critic_Score  \n",
       "count  16715.000000   8137.000000  \n",
       "mean       0.047342     68.967679  \n",
       "std        0.186731     13.938165  \n",
       "min        0.000000     13.000000  \n",
       "25%        0.000000     60.000000  \n",
       "50%        0.010000     71.000000  \n",
       "75%        0.030000     79.000000  \n",
       "max       10.570000     98.000000  "
      ]
     },
     "execution_count": 7,
     "metadata": {},
     "output_type": "execute_result"
    }
   ],
   "source": [
    "#Obtener datos estadisticos\n",
    "games_data_raw.describe()"
   ]
  },
  {
   "cell_type": "code",
   "execution_count": 153,
   "metadata": {},
   "outputs": [
    {
     "data": {
      "text/plain": [
       "11559"
      ]
     },
     "execution_count": 153,
     "metadata": {},
     "output_type": "execute_result"
    }
   ],
   "source": [
    "#Cuantos juegos haynum_juegos = games_data_raw['name'].nunique()\n",
    "num_juegos"
   ]
  },
  {
   "cell_type": "code",
   "execution_count": 8,
   "metadata": {},
   "outputs": [
    {
     "data": {
      "text/plain": [
       "Name                  2\n",
       "Platform              0\n",
       "Year_of_Release     269\n",
       "Genre                 2\n",
       "NA_sales              0\n",
       "EU_sales              0\n",
       "JP_sales              0\n",
       "Other_sales           0\n",
       "Critic_Score       8578\n",
       "User_Score         6701\n",
       "Rating             6766\n",
       "dtype: int64"
      ]
     },
     "execution_count": 8,
     "metadata": {},
     "output_type": "execute_result"
    }
   ],
   "source": [
    "#Extraer los nulos totales del dataframe:\n",
    "nulos_totales = games_data_raw.isna().sum()\n",
    "nulos_totales"
   ]
  },
  {
   "cell_type": "code",
   "execution_count": 9,
   "metadata": {},
   "outputs": [
    {
     "data": {
      "text/plain": [
       "Index(['name', 'platform', 'year_of_release', 'genre', 'na_sales', 'eu_sales',\n",
       "       'jp_sales', 'other_sales', 'critic_score', 'user_score', 'rating'],\n",
       "      dtype='object')"
      ]
     },
     "execution_count": 9,
     "metadata": {},
     "output_type": "execute_result"
    }
   ],
   "source": [
    "#Transformar datos de Mayusculas a minusculas\n",
    "games_data_raw.columns = games_data_raw.columns.str.lower()\n",
    "games_data_raw.columns"
   ]
  },
  {
   "cell_type": "code",
   "execution_count": 10,
   "metadata": {},
   "outputs": [
    {
     "name": "stdout",
     "output_type": "stream",
     "text": [
      "<class 'pandas.core.frame.DataFrame'>\n",
      "RangeIndex: 16715 entries, 0 to 16714\n",
      "Data columns (total 11 columns):\n",
      " #   Column           Non-Null Count  Dtype  \n",
      "---  ------           --------------  -----  \n",
      " 0   name             16713 non-null  object \n",
      " 1   platform         16715 non-null  object \n",
      " 2   year_of_release  16446 non-null  float64\n",
      " 3   genre            16713 non-null  object \n",
      " 4   na_sales         16715 non-null  float64\n",
      " 5   eu_sales         16715 non-null  float64\n",
      " 6   jp_sales         16715 non-null  float64\n",
      " 7   other_sales      16715 non-null  float64\n",
      " 8   critic_score     8137 non-null   float64\n",
      " 9   user_score       10014 non-null  object \n",
      " 10  rating           9949 non-null   object \n",
      "dtypes: float64(6), object(5)\n",
      "memory usage: 1.4+ MB\n"
     ]
    }
   ],
   "source": [
    "games_data_raw.info()"
   ]
  },
  {
   "cell_type": "code",
   "execution_count": 11,
   "metadata": {},
   "outputs": [
    {
     "data": {
      "text/plain": [
       "0        2006.0\n",
       "1        1985.0\n",
       "2        2008.0\n",
       "3        2009.0\n",
       "4        1996.0\n",
       "          ...  \n",
       "16710    2016.0\n",
       "16711    2006.0\n",
       "16712    2016.0\n",
       "16713    2003.0\n",
       "16714    2016.0\n",
       "Name: year_of_release, Length: 16715, dtype: float64"
      ]
     },
     "execution_count": 11,
     "metadata": {},
     "output_type": "execute_result"
    }
   ],
   "source": [
    "#Convertir los datos en los tipos correctos\n",
    "# 1.Convertir los valores nulos de la columna 'year_of_release' a 0\n",
    "games_data_raw['year_of_release']"
   ]
  },
  {
   "cell_type": "code",
   "execution_count": 12,
   "metadata": {},
   "outputs": [],
   "source": [
    "#Colocar los valores del año de lanzamiento en número entero, en la misma columna 'year_of_release'\n",
    "games_data_raw['year_of_release'] = games_data_raw['year_of_release'].fillna(0).astype('int')"
   ]
  },
  {
   "cell_type": "code",
   "execution_count": 13,
   "metadata": {},
   "outputs": [
    {
     "name": "stdout",
     "output_type": "stream",
     "text": [
      "<class 'pandas.core.frame.DataFrame'>\n",
      "RangeIndex: 16715 entries, 0 to 16714\n",
      "Data columns (total 11 columns):\n",
      " #   Column           Non-Null Count  Dtype  \n",
      "---  ------           --------------  -----  \n",
      " 0   name             16713 non-null  object \n",
      " 1   platform         16715 non-null  object \n",
      " 2   year_of_release  16715 non-null  int64  \n",
      " 3   genre            16713 non-null  object \n",
      " 4   na_sales         16715 non-null  float64\n",
      " 5   eu_sales         16715 non-null  float64\n",
      " 6   jp_sales         16715 non-null  float64\n",
      " 7   other_sales      16715 non-null  float64\n",
      " 8   critic_score     8137 non-null   float64\n",
      " 9   user_score       10014 non-null  object \n",
      " 10  rating           9949 non-null   object \n",
      "dtypes: float64(5), int64(1), object(5)\n",
      "memory usage: 1.4+ MB\n"
     ]
    }
   ],
   "source": [
    "games_data_raw.info()"
   ]
  },
  {
   "cell_type": "code",
   "execution_count": 14,
   "metadata": {},
   "outputs": [
    {
     "data": {
      "text/html": [
       "<div>\n",
       "<style scoped>\n",
       "    .dataframe tbody tr th:only-of-type {\n",
       "        vertical-align: middle;\n",
       "    }\n",
       "\n",
       "    .dataframe tbody tr th {\n",
       "        vertical-align: top;\n",
       "    }\n",
       "\n",
       "    .dataframe thead th {\n",
       "        text-align: right;\n",
       "    }\n",
       "</style>\n",
       "<table border=\"1\" class=\"dataframe\">\n",
       "  <thead>\n",
       "    <tr style=\"text-align: right;\">\n",
       "      <th></th>\n",
       "      <th>name</th>\n",
       "      <th>platform</th>\n",
       "      <th>year_of_release</th>\n",
       "      <th>genre</th>\n",
       "      <th>na_sales</th>\n",
       "      <th>eu_sales</th>\n",
       "      <th>jp_sales</th>\n",
       "      <th>other_sales</th>\n",
       "      <th>critic_score</th>\n",
       "      <th>user_score</th>\n",
       "      <th>rating</th>\n",
       "    </tr>\n",
       "  </thead>\n",
       "  <tbody>\n",
       "    <tr>\n",
       "      <th>119</th>\n",
       "      <td>Zumba Fitness</td>\n",
       "      <td>Wii</td>\n",
       "      <td>2010</td>\n",
       "      <td>Sports</td>\n",
       "      <td>3.45</td>\n",
       "      <td>2.59</td>\n",
       "      <td>0.0</td>\n",
       "      <td>0.66</td>\n",
       "      <td>NaN</td>\n",
       "      <td>tbd</td>\n",
       "      <td>E</td>\n",
       "    </tr>\n",
       "    <tr>\n",
       "      <th>301</th>\n",
       "      <td>Namco Museum: 50th Anniversary</td>\n",
       "      <td>PS2</td>\n",
       "      <td>2005</td>\n",
       "      <td>Misc</td>\n",
       "      <td>2.08</td>\n",
       "      <td>1.35</td>\n",
       "      <td>0.0</td>\n",
       "      <td>0.54</td>\n",
       "      <td>61.0</td>\n",
       "      <td>tbd</td>\n",
       "      <td>E10+</td>\n",
       "    </tr>\n",
       "    <tr>\n",
       "      <th>520</th>\n",
       "      <td>Zumba Fitness 2</td>\n",
       "      <td>Wii</td>\n",
       "      <td>2011</td>\n",
       "      <td>Sports</td>\n",
       "      <td>1.51</td>\n",
       "      <td>1.03</td>\n",
       "      <td>0.0</td>\n",
       "      <td>0.27</td>\n",
       "      <td>NaN</td>\n",
       "      <td>tbd</td>\n",
       "      <td>T</td>\n",
       "    </tr>\n",
       "    <tr>\n",
       "      <th>645</th>\n",
       "      <td>uDraw Studio</td>\n",
       "      <td>Wii</td>\n",
       "      <td>2010</td>\n",
       "      <td>Misc</td>\n",
       "      <td>1.65</td>\n",
       "      <td>0.57</td>\n",
       "      <td>0.0</td>\n",
       "      <td>0.20</td>\n",
       "      <td>71.0</td>\n",
       "      <td>tbd</td>\n",
       "      <td>E</td>\n",
       "    </tr>\n",
       "    <tr>\n",
       "      <th>657</th>\n",
       "      <td>Frogger's Adventures: Temple of the Frog</td>\n",
       "      <td>GBA</td>\n",
       "      <td>0</td>\n",
       "      <td>Adventure</td>\n",
       "      <td>2.15</td>\n",
       "      <td>0.18</td>\n",
       "      <td>0.0</td>\n",
       "      <td>0.07</td>\n",
       "      <td>73.0</td>\n",
       "      <td>tbd</td>\n",
       "      <td>E</td>\n",
       "    </tr>\n",
       "    <tr>\n",
       "      <th>...</th>\n",
       "      <td>...</td>\n",
       "      <td>...</td>\n",
       "      <td>...</td>\n",
       "      <td>...</td>\n",
       "      <td>...</td>\n",
       "      <td>...</td>\n",
       "      <td>...</td>\n",
       "      <td>...</td>\n",
       "      <td>...</td>\n",
       "      <td>...</td>\n",
       "      <td>...</td>\n",
       "    </tr>\n",
       "    <tr>\n",
       "      <th>16695</th>\n",
       "      <td>Planet Monsters</td>\n",
       "      <td>GBA</td>\n",
       "      <td>2001</td>\n",
       "      <td>Action</td>\n",
       "      <td>0.01</td>\n",
       "      <td>0.00</td>\n",
       "      <td>0.0</td>\n",
       "      <td>0.00</td>\n",
       "      <td>67.0</td>\n",
       "      <td>tbd</td>\n",
       "      <td>E</td>\n",
       "    </tr>\n",
       "    <tr>\n",
       "      <th>16697</th>\n",
       "      <td>Bust-A-Move 3000</td>\n",
       "      <td>GC</td>\n",
       "      <td>2003</td>\n",
       "      <td>Puzzle</td>\n",
       "      <td>0.01</td>\n",
       "      <td>0.00</td>\n",
       "      <td>0.0</td>\n",
       "      <td>0.00</td>\n",
       "      <td>53.0</td>\n",
       "      <td>tbd</td>\n",
       "      <td>E</td>\n",
       "    </tr>\n",
       "    <tr>\n",
       "      <th>16698</th>\n",
       "      <td>Mega Brain Boost</td>\n",
       "      <td>DS</td>\n",
       "      <td>2008</td>\n",
       "      <td>Puzzle</td>\n",
       "      <td>0.01</td>\n",
       "      <td>0.00</td>\n",
       "      <td>0.0</td>\n",
       "      <td>0.00</td>\n",
       "      <td>48.0</td>\n",
       "      <td>tbd</td>\n",
       "      <td>E</td>\n",
       "    </tr>\n",
       "    <tr>\n",
       "      <th>16704</th>\n",
       "      <td>Plushees</td>\n",
       "      <td>DS</td>\n",
       "      <td>2008</td>\n",
       "      <td>Simulation</td>\n",
       "      <td>0.01</td>\n",
       "      <td>0.00</td>\n",
       "      <td>0.0</td>\n",
       "      <td>0.00</td>\n",
       "      <td>NaN</td>\n",
       "      <td>tbd</td>\n",
       "      <td>E</td>\n",
       "    </tr>\n",
       "    <tr>\n",
       "      <th>16706</th>\n",
       "      <td>Men in Black II: Alien Escape</td>\n",
       "      <td>GC</td>\n",
       "      <td>2003</td>\n",
       "      <td>Shooter</td>\n",
       "      <td>0.01</td>\n",
       "      <td>0.00</td>\n",
       "      <td>0.0</td>\n",
       "      <td>0.00</td>\n",
       "      <td>NaN</td>\n",
       "      <td>tbd</td>\n",
       "      <td>T</td>\n",
       "    </tr>\n",
       "  </tbody>\n",
       "</table>\n",
       "<p>2424 rows × 11 columns</p>\n",
       "</div>"
      ],
      "text/plain": [
       "                                           name platform  year_of_release  \\\n",
       "119                               Zumba Fitness      Wii             2010   \n",
       "301              Namco Museum: 50th Anniversary      PS2             2005   \n",
       "520                             Zumba Fitness 2      Wii             2011   \n",
       "645                                uDraw Studio      Wii             2010   \n",
       "657    Frogger's Adventures: Temple of the Frog      GBA                0   \n",
       "...                                         ...      ...              ...   \n",
       "16695                           Planet Monsters      GBA             2001   \n",
       "16697                          Bust-A-Move 3000       GC             2003   \n",
       "16698                          Mega Brain Boost       DS             2008   \n",
       "16704                                  Plushees       DS             2008   \n",
       "16706             Men in Black II: Alien Escape       GC             2003   \n",
       "\n",
       "            genre  na_sales  eu_sales  jp_sales  other_sales  critic_score  \\\n",
       "119        Sports      3.45      2.59       0.0         0.66           NaN   \n",
       "301          Misc      2.08      1.35       0.0         0.54          61.0   \n",
       "520        Sports      1.51      1.03       0.0         0.27           NaN   \n",
       "645          Misc      1.65      0.57       0.0         0.20          71.0   \n",
       "657     Adventure      2.15      0.18       0.0         0.07          73.0   \n",
       "...           ...       ...       ...       ...          ...           ...   \n",
       "16695      Action      0.01      0.00       0.0         0.00          67.0   \n",
       "16697      Puzzle      0.01      0.00       0.0         0.00          53.0   \n",
       "16698      Puzzle      0.01      0.00       0.0         0.00          48.0   \n",
       "16704  Simulation      0.01      0.00       0.0         0.00           NaN   \n",
       "16706     Shooter      0.01      0.00       0.0         0.00           NaN   \n",
       "\n",
       "      user_score rating  \n",
       "119          tbd      E  \n",
       "301          tbd   E10+  \n",
       "520          tbd      T  \n",
       "645          tbd      E  \n",
       "657          tbd      E  \n",
       "...          ...    ...  \n",
       "16695        tbd      E  \n",
       "16697        tbd      E  \n",
       "16698        tbd      E  \n",
       "16704        tbd      E  \n",
       "16706        tbd      T  \n",
       "\n",
       "[2424 rows x 11 columns]"
      ]
     },
     "execution_count": 14,
     "metadata": {},
     "output_type": "execute_result"
    }
   ],
   "source": [
    "#Ahora analizo la columna 'user_score' y la filtro por tbd =to be determinate \n",
    "\n",
    "#Es importante rellenar los vacios de tbt con NaN ya que esto significa que las personas no han calificado el juego \n",
    "games_data_raw.query('user_score == \"tbd\"')"
   ]
  },
  {
   "cell_type": "code",
   "execution_count": 15,
   "metadata": {},
   "outputs": [],
   "source": [
    "# Cambiare los  valores del 'tbd' por nan\n",
    "games_data_raw.loc[games_data_raw['user_score'] == 'tbd', 'user_score'] =np.nan"
   ]
  },
  {
   "cell_type": "code",
   "execution_count": 16,
   "metadata": {},
   "outputs": [],
   "source": [
    "# Obtenemos los valores en NaN y ahora es necesario cambiar el tipo de datos a 'float'\n",
    "games_data_raw['user_score'] = games_data_raw['user_score'].astype('float')"
   ]
  },
  {
   "cell_type": "code",
   "execution_count": 17,
   "metadata": {
    "scrolled": true
   },
   "outputs": [
    {
     "name": "stdout",
     "output_type": "stream",
     "text": [
      "<class 'pandas.core.frame.DataFrame'>\n",
      "RangeIndex: 16715 entries, 0 to 16714\n",
      "Data columns (total 11 columns):\n",
      " #   Column           Non-Null Count  Dtype  \n",
      "---  ------           --------------  -----  \n",
      " 0   name             16713 non-null  object \n",
      " 1   platform         16715 non-null  object \n",
      " 2   year_of_release  16715 non-null  int64  \n",
      " 3   genre            16713 non-null  object \n",
      " 4   na_sales         16715 non-null  float64\n",
      " 5   eu_sales         16715 non-null  float64\n",
      " 6   jp_sales         16715 non-null  float64\n",
      " 7   other_sales      16715 non-null  float64\n",
      " 8   critic_score     8137 non-null   float64\n",
      " 9   user_score       7590 non-null   float64\n",
      " 10  rating           9949 non-null   object \n",
      "dtypes: float64(6), int64(1), object(4)\n",
      "memory usage: 1.4+ MB\n"
     ]
    }
   ],
   "source": [
    "games_data_raw.info()"
   ]
  },
  {
   "cell_type": "code",
   "execution_count": 18,
   "metadata": {},
   "outputs": [
    {
     "data": {
      "text/plain": [
       "array(['E', nan, 'M', 'T', 'E10+', 'K-A', 'AO', 'EC', 'RP'], dtype=object)"
      ]
     },
     "execution_count": 18,
     "metadata": {},
     "output_type": "execute_result"
    }
   ],
   "source": [
    "#Ahora preparo los datos de la columna 'rating' y obtengo todos los datos sin duplicados \n",
    "games_data_raw['rating'].unique()"
   ]
  },
  {
   "cell_type": "code",
   "execution_count": 19,
   "metadata": {},
   "outputs": [
    {
     "data": {
      "text/plain": [
       "0        82.54\n",
       "1        40.24\n",
       "2        35.52\n",
       "3        32.77\n",
       "4        31.38\n",
       "         ...  \n",
       "16710     0.01\n",
       "16711     0.01\n",
       "16712     0.01\n",
       "16713     0.01\n",
       "16714     0.01\n",
       "Name: total_sales, Length: 16715, dtype: float64"
      ]
     },
     "execution_count": 19,
     "metadata": {},
     "output_type": "execute_result"
    }
   ],
   "source": [
    "#Calcula las ventas totales (la suma de las ventas en todas las regiones) para cada juego y coloca estos valores en una columna separada.\n",
    "#La sumatoria la hacemos a nivel de filas por eso usamos axis=1\n",
    "games_data_raw['total_sales'] = games_data_raw[['na_sales', 'eu_sales', 'jp_sales', 'other_sales']].sum(axis=1)\n",
    "games_data_raw['total_sales']"
   ]
  },
  {
   "cell_type": "code",
   "execution_count": 20,
   "metadata": {},
   "outputs": [
    {
     "data": {
      "text/html": [
       "<div>\n",
       "<style scoped>\n",
       "    .dataframe tbody tr th:only-of-type {\n",
       "        vertical-align: middle;\n",
       "    }\n",
       "\n",
       "    .dataframe tbody tr th {\n",
       "        vertical-align: top;\n",
       "    }\n",
       "\n",
       "    .dataframe thead th {\n",
       "        text-align: right;\n",
       "    }\n",
       "</style>\n",
       "<table border=\"1\" class=\"dataframe\">\n",
       "  <thead>\n",
       "    <tr style=\"text-align: right;\">\n",
       "      <th></th>\n",
       "      <th>name</th>\n",
       "      <th>platform</th>\n",
       "      <th>year_of_release</th>\n",
       "      <th>genre</th>\n",
       "      <th>na_sales</th>\n",
       "      <th>eu_sales</th>\n",
       "      <th>jp_sales</th>\n",
       "      <th>other_sales</th>\n",
       "      <th>critic_score</th>\n",
       "      <th>user_score</th>\n",
       "      <th>rating</th>\n",
       "      <th>total_sales</th>\n",
       "    </tr>\n",
       "  </thead>\n",
       "  <tbody>\n",
       "    <tr>\n",
       "      <th>0</th>\n",
       "      <td>Wii Sports</td>\n",
       "      <td>Wii</td>\n",
       "      <td>2006</td>\n",
       "      <td>Sports</td>\n",
       "      <td>41.36</td>\n",
       "      <td>28.96</td>\n",
       "      <td>3.77</td>\n",
       "      <td>8.45</td>\n",
       "      <td>76.0</td>\n",
       "      <td>8.0</td>\n",
       "      <td>E</td>\n",
       "      <td>82.54</td>\n",
       "    </tr>\n",
       "    <tr>\n",
       "      <th>1</th>\n",
       "      <td>Super Mario Bros.</td>\n",
       "      <td>NES</td>\n",
       "      <td>1985</td>\n",
       "      <td>Platform</td>\n",
       "      <td>29.08</td>\n",
       "      <td>3.58</td>\n",
       "      <td>6.81</td>\n",
       "      <td>0.77</td>\n",
       "      <td>NaN</td>\n",
       "      <td>NaN</td>\n",
       "      <td>NaN</td>\n",
       "      <td>40.24</td>\n",
       "    </tr>\n",
       "    <tr>\n",
       "      <th>2</th>\n",
       "      <td>Mario Kart Wii</td>\n",
       "      <td>Wii</td>\n",
       "      <td>2008</td>\n",
       "      <td>Racing</td>\n",
       "      <td>15.68</td>\n",
       "      <td>12.76</td>\n",
       "      <td>3.79</td>\n",
       "      <td>3.29</td>\n",
       "      <td>82.0</td>\n",
       "      <td>8.3</td>\n",
       "      <td>E</td>\n",
       "      <td>35.52</td>\n",
       "    </tr>\n",
       "    <tr>\n",
       "      <th>3</th>\n",
       "      <td>Wii Sports Resort</td>\n",
       "      <td>Wii</td>\n",
       "      <td>2009</td>\n",
       "      <td>Sports</td>\n",
       "      <td>15.61</td>\n",
       "      <td>10.93</td>\n",
       "      <td>3.28</td>\n",
       "      <td>2.95</td>\n",
       "      <td>80.0</td>\n",
       "      <td>8.0</td>\n",
       "      <td>E</td>\n",
       "      <td>32.77</td>\n",
       "    </tr>\n",
       "    <tr>\n",
       "      <th>4</th>\n",
       "      <td>Pokemon Red/Pokemon Blue</td>\n",
       "      <td>GB</td>\n",
       "      <td>1996</td>\n",
       "      <td>Role-Playing</td>\n",
       "      <td>11.27</td>\n",
       "      <td>8.89</td>\n",
       "      <td>10.22</td>\n",
       "      <td>1.00</td>\n",
       "      <td>NaN</td>\n",
       "      <td>NaN</td>\n",
       "      <td>NaN</td>\n",
       "      <td>31.38</td>\n",
       "    </tr>\n",
       "  </tbody>\n",
       "</table>\n",
       "</div>"
      ],
      "text/plain": [
       "                       name platform  year_of_release         genre  na_sales  \\\n",
       "0                Wii Sports      Wii             2006        Sports     41.36   \n",
       "1         Super Mario Bros.      NES             1985      Platform     29.08   \n",
       "2            Mario Kart Wii      Wii             2008        Racing     15.68   \n",
       "3         Wii Sports Resort      Wii             2009        Sports     15.61   \n",
       "4  Pokemon Red/Pokemon Blue       GB             1996  Role-Playing     11.27   \n",
       "\n",
       "   eu_sales  jp_sales  other_sales  critic_score  user_score rating  \\\n",
       "0     28.96      3.77         8.45          76.0         8.0      E   \n",
       "1      3.58      6.81         0.77           NaN         NaN    NaN   \n",
       "2     12.76      3.79         3.29          82.0         8.3      E   \n",
       "3     10.93      3.28         2.95          80.0         8.0      E   \n",
       "4      8.89     10.22         1.00           NaN         NaN    NaN   \n",
       "\n",
       "   total_sales  \n",
       "0        82.54  \n",
       "1        40.24  \n",
       "2        35.52  \n",
       "3        32.77  \n",
       "4        31.38  "
      ]
     },
     "execution_count": 20,
     "metadata": {},
     "output_type": "execute_result"
    }
   ],
   "source": [
    "#Obtenemos los 5 productos con mayores ventas: Podemos ver los juegos que más han vendido\n",
    "games_data_raw.nlargest(5, ['total_sales'])"
   ]
  },
  {
   "cell_type": "code",
   "execution_count": 21,
   "metadata": {},
   "outputs": [
    {
     "data": {
      "text/html": [
       "<div>\n",
       "<style scoped>\n",
       "    .dataframe tbody tr th:only-of-type {\n",
       "        vertical-align: middle;\n",
       "    }\n",
       "\n",
       "    .dataframe tbody tr th {\n",
       "        vertical-align: top;\n",
       "    }\n",
       "\n",
       "    .dataframe thead th {\n",
       "        text-align: right;\n",
       "    }\n",
       "</style>\n",
       "<table border=\"1\" class=\"dataframe\">\n",
       "  <thead>\n",
       "    <tr style=\"text-align: right;\">\n",
       "      <th></th>\n",
       "      <th>name</th>\n",
       "      <th>platform</th>\n",
       "      <th>year_of_release</th>\n",
       "      <th>genre</th>\n",
       "      <th>na_sales</th>\n",
       "      <th>eu_sales</th>\n",
       "      <th>jp_sales</th>\n",
       "      <th>other_sales</th>\n",
       "      <th>critic_score</th>\n",
       "      <th>user_score</th>\n",
       "      <th>rating</th>\n",
       "      <th>total_sales</th>\n",
       "    </tr>\n",
       "  </thead>\n",
       "  <tbody>\n",
       "    <tr>\n",
       "      <th>16676</th>\n",
       "      <td>G1 Jockey 4 2008</td>\n",
       "      <td>PS3</td>\n",
       "      <td>2008</td>\n",
       "      <td>Sports</td>\n",
       "      <td>0.00</td>\n",
       "      <td>0.00</td>\n",
       "      <td>0.0</td>\n",
       "      <td>0.0</td>\n",
       "      <td>NaN</td>\n",
       "      <td>NaN</td>\n",
       "      <td>NaN</td>\n",
       "      <td>0.00</td>\n",
       "    </tr>\n",
       "    <tr>\n",
       "      <th>16709</th>\n",
       "      <td>SCORE International Baja 1000: The Official Game</td>\n",
       "      <td>PS2</td>\n",
       "      <td>2008</td>\n",
       "      <td>Racing</td>\n",
       "      <td>0.00</td>\n",
       "      <td>0.00</td>\n",
       "      <td>0.0</td>\n",
       "      <td>0.0</td>\n",
       "      <td>NaN</td>\n",
       "      <td>NaN</td>\n",
       "      <td>NaN</td>\n",
       "      <td>0.00</td>\n",
       "    </tr>\n",
       "    <tr>\n",
       "      <th>15384</th>\n",
       "      <td>Order of War</td>\n",
       "      <td>PC</td>\n",
       "      <td>2009</td>\n",
       "      <td>Strategy</td>\n",
       "      <td>0.00</td>\n",
       "      <td>0.01</td>\n",
       "      <td>0.0</td>\n",
       "      <td>0.0</td>\n",
       "      <td>69.0</td>\n",
       "      <td>7.3</td>\n",
       "      <td>T</td>\n",
       "      <td>0.01</td>\n",
       "    </tr>\n",
       "    <tr>\n",
       "      <th>15486</th>\n",
       "      <td>Arslan: The Warriors of Legend</td>\n",
       "      <td>XOne</td>\n",
       "      <td>2016</td>\n",
       "      <td>Action</td>\n",
       "      <td>0.01</td>\n",
       "      <td>0.00</td>\n",
       "      <td>0.0</td>\n",
       "      <td>0.0</td>\n",
       "      <td>NaN</td>\n",
       "      <td>5.8</td>\n",
       "      <td>T</td>\n",
       "      <td>0.01</td>\n",
       "    </tr>\n",
       "    <tr>\n",
       "      <th>15499</th>\n",
       "      <td>Motocross Mania 3</td>\n",
       "      <td>XB</td>\n",
       "      <td>2005</td>\n",
       "      <td>Racing</td>\n",
       "      <td>0.01</td>\n",
       "      <td>0.00</td>\n",
       "      <td>0.0</td>\n",
       "      <td>0.0</td>\n",
       "      <td>38.0</td>\n",
       "      <td>3.6</td>\n",
       "      <td>T</td>\n",
       "      <td>0.01</td>\n",
       "    </tr>\n",
       "  </tbody>\n",
       "</table>\n",
       "</div>"
      ],
      "text/plain": [
       "                                                   name platform  \\\n",
       "16676                                  G1 Jockey 4 2008      PS3   \n",
       "16709  SCORE International Baja 1000: The Official Game      PS2   \n",
       "15384                                      Order of War       PC   \n",
       "15486                    Arslan: The Warriors of Legend     XOne   \n",
       "15499                                 Motocross Mania 3       XB   \n",
       "\n",
       "       year_of_release     genre  na_sales  eu_sales  jp_sales  other_sales  \\\n",
       "16676             2008    Sports      0.00      0.00       0.0          0.0   \n",
       "16709             2008    Racing      0.00      0.00       0.0          0.0   \n",
       "15384             2009  Strategy      0.00      0.01       0.0          0.0   \n",
       "15486             2016    Action      0.01      0.00       0.0          0.0   \n",
       "15499             2005    Racing      0.01      0.00       0.0          0.0   \n",
       "\n",
       "       critic_score  user_score rating  total_sales  \n",
       "16676           NaN         NaN    NaN         0.00  \n",
       "16709           NaN         NaN    NaN         0.00  \n",
       "15384          69.0         7.3      T         0.01  \n",
       "15486           NaN         5.8      T         0.01  \n",
       "15499          38.0         3.6      T         0.01  "
      ]
     },
     "execution_count": 21,
     "metadata": {},
     "output_type": "execute_result"
    }
   ],
   "source": [
    "#Obtenemos los 5 productos con menores ventas\n",
    "games_data_raw.nsmallest(5, ['total_sales'])"
   ]
  },
  {
   "cell_type": "markdown",
   "metadata": {},
   "source": [
    "<h1>Paso 3. Analiza los datos<h1>"
   ]
  },
  {
   "cell_type": "markdown",
   "metadata": {},
   "source": [
    "## 3.1 Lanzamientos por años"
   ]
  },
  {
   "cell_type": "code",
   "execution_count": 22,
   "metadata": {},
   "outputs": [],
   "source": [
    "#Mira cuántos juegos fueron lanzados en diferentes años. ¿Son significativos los datos de cada período?\n",
    "#Agrupamos por los años y los nombres de los productos\n",
    "\n",
    "analisis_ano_lanzamiento = games_data_raw.groupby('year_of_release')['name'].count().sort_values(ascending=False)"
   ]
  },
  {
   "cell_type": "code",
   "execution_count": 23,
   "metadata": {},
   "outputs": [
    {
     "data": {
      "text/plain": [
       "year_of_release\n",
       "2008    1427\n",
       "2009    1426\n",
       "2010    1255\n",
       "2007    1197\n",
       "2011    1136\n",
       "2006    1006\n",
       "2005     939\n",
       "2002     829\n",
       "2003     775\n",
       "2004     762\n",
       "2012     653\n",
       "2015     606\n",
       "2014     581\n",
       "2013     544\n",
       "2016     502\n",
       "2001     482\n",
       "1998     379\n",
       "2000     350\n",
       "1999     338\n",
       "1997     289\n",
       "0        269\n",
       "1996     263\n",
       "1995     219\n",
       "1994     121\n",
       "1993      60\n",
       "1981      46\n",
       "1992      43\n",
       "1991      41\n",
       "1982      36\n",
       "1986      21\n",
       "1989      17\n",
       "1983      17\n",
       "1987      16\n",
       "1990      16\n",
       "1988      15\n",
       "1985      14\n",
       "1984      14\n",
       "1980       9\n",
       "Name: name, dtype: int64"
      ]
     },
     "execution_count": 23,
     "metadata": {},
     "output_type": "execute_result"
    }
   ],
   "source": [
    "analisis_ano_lanzamiento"
   ]
  },
  {
   "cell_type": "code",
   "execution_count": 24,
   "metadata": {},
   "outputs": [],
   "source": [
    "analisis_ano_lanzamiento = games_data_raw.groupby('year_of_release')['name'].count().sort_values(ascending=False).reset_index()"
   ]
  },
  {
   "cell_type": "code",
   "execution_count": 25,
   "metadata": {},
   "outputs": [
    {
     "data": {
      "text/html": [
       "<div>\n",
       "<style scoped>\n",
       "    .dataframe tbody tr th:only-of-type {\n",
       "        vertical-align: middle;\n",
       "    }\n",
       "\n",
       "    .dataframe tbody tr th {\n",
       "        vertical-align: top;\n",
       "    }\n",
       "\n",
       "    .dataframe thead th {\n",
       "        text-align: right;\n",
       "    }\n",
       "</style>\n",
       "<table border=\"1\" class=\"dataframe\">\n",
       "  <thead>\n",
       "    <tr style=\"text-align: right;\">\n",
       "      <th></th>\n",
       "      <th>year_of_release</th>\n",
       "      <th>name</th>\n",
       "    </tr>\n",
       "  </thead>\n",
       "  <tbody>\n",
       "    <tr>\n",
       "      <th>0</th>\n",
       "      <td>2008</td>\n",
       "      <td>1427</td>\n",
       "    </tr>\n",
       "    <tr>\n",
       "      <th>1</th>\n",
       "      <td>2009</td>\n",
       "      <td>1426</td>\n",
       "    </tr>\n",
       "    <tr>\n",
       "      <th>2</th>\n",
       "      <td>2010</td>\n",
       "      <td>1255</td>\n",
       "    </tr>\n",
       "    <tr>\n",
       "      <th>3</th>\n",
       "      <td>2007</td>\n",
       "      <td>1197</td>\n",
       "    </tr>\n",
       "    <tr>\n",
       "      <th>4</th>\n",
       "      <td>2011</td>\n",
       "      <td>1136</td>\n",
       "    </tr>\n",
       "    <tr>\n",
       "      <th>5</th>\n",
       "      <td>2006</td>\n",
       "      <td>1006</td>\n",
       "    </tr>\n",
       "    <tr>\n",
       "      <th>6</th>\n",
       "      <td>2005</td>\n",
       "      <td>939</td>\n",
       "    </tr>\n",
       "    <tr>\n",
       "      <th>7</th>\n",
       "      <td>2002</td>\n",
       "      <td>829</td>\n",
       "    </tr>\n",
       "    <tr>\n",
       "      <th>8</th>\n",
       "      <td>2003</td>\n",
       "      <td>775</td>\n",
       "    </tr>\n",
       "    <tr>\n",
       "      <th>9</th>\n",
       "      <td>2004</td>\n",
       "      <td>762</td>\n",
       "    </tr>\n",
       "    <tr>\n",
       "      <th>10</th>\n",
       "      <td>2012</td>\n",
       "      <td>653</td>\n",
       "    </tr>\n",
       "    <tr>\n",
       "      <th>11</th>\n",
       "      <td>2015</td>\n",
       "      <td>606</td>\n",
       "    </tr>\n",
       "    <tr>\n",
       "      <th>12</th>\n",
       "      <td>2014</td>\n",
       "      <td>581</td>\n",
       "    </tr>\n",
       "    <tr>\n",
       "      <th>13</th>\n",
       "      <td>2013</td>\n",
       "      <td>544</td>\n",
       "    </tr>\n",
       "    <tr>\n",
       "      <th>14</th>\n",
       "      <td>2016</td>\n",
       "      <td>502</td>\n",
       "    </tr>\n",
       "    <tr>\n",
       "      <th>15</th>\n",
       "      <td>2001</td>\n",
       "      <td>482</td>\n",
       "    </tr>\n",
       "    <tr>\n",
       "      <th>16</th>\n",
       "      <td>1998</td>\n",
       "      <td>379</td>\n",
       "    </tr>\n",
       "    <tr>\n",
       "      <th>17</th>\n",
       "      <td>2000</td>\n",
       "      <td>350</td>\n",
       "    </tr>\n",
       "    <tr>\n",
       "      <th>18</th>\n",
       "      <td>1999</td>\n",
       "      <td>338</td>\n",
       "    </tr>\n",
       "    <tr>\n",
       "      <th>19</th>\n",
       "      <td>1997</td>\n",
       "      <td>289</td>\n",
       "    </tr>\n",
       "    <tr>\n",
       "      <th>21</th>\n",
       "      <td>1996</td>\n",
       "      <td>263</td>\n",
       "    </tr>\n",
       "    <tr>\n",
       "      <th>22</th>\n",
       "      <td>1995</td>\n",
       "      <td>219</td>\n",
       "    </tr>\n",
       "    <tr>\n",
       "      <th>23</th>\n",
       "      <td>1994</td>\n",
       "      <td>121</td>\n",
       "    </tr>\n",
       "    <tr>\n",
       "      <th>24</th>\n",
       "      <td>1993</td>\n",
       "      <td>60</td>\n",
       "    </tr>\n",
       "    <tr>\n",
       "      <th>25</th>\n",
       "      <td>1981</td>\n",
       "      <td>46</td>\n",
       "    </tr>\n",
       "    <tr>\n",
       "      <th>26</th>\n",
       "      <td>1992</td>\n",
       "      <td>43</td>\n",
       "    </tr>\n",
       "    <tr>\n",
       "      <th>27</th>\n",
       "      <td>1991</td>\n",
       "      <td>41</td>\n",
       "    </tr>\n",
       "    <tr>\n",
       "      <th>28</th>\n",
       "      <td>1982</td>\n",
       "      <td>36</td>\n",
       "    </tr>\n",
       "    <tr>\n",
       "      <th>29</th>\n",
       "      <td>1986</td>\n",
       "      <td>21</td>\n",
       "    </tr>\n",
       "    <tr>\n",
       "      <th>30</th>\n",
       "      <td>1989</td>\n",
       "      <td>17</td>\n",
       "    </tr>\n",
       "    <tr>\n",
       "      <th>31</th>\n",
       "      <td>1983</td>\n",
       "      <td>17</td>\n",
       "    </tr>\n",
       "    <tr>\n",
       "      <th>32</th>\n",
       "      <td>1987</td>\n",
       "      <td>16</td>\n",
       "    </tr>\n",
       "    <tr>\n",
       "      <th>33</th>\n",
       "      <td>1990</td>\n",
       "      <td>16</td>\n",
       "    </tr>\n",
       "    <tr>\n",
       "      <th>34</th>\n",
       "      <td>1988</td>\n",
       "      <td>15</td>\n",
       "    </tr>\n",
       "    <tr>\n",
       "      <th>35</th>\n",
       "      <td>1985</td>\n",
       "      <td>14</td>\n",
       "    </tr>\n",
       "    <tr>\n",
       "      <th>36</th>\n",
       "      <td>1984</td>\n",
       "      <td>14</td>\n",
       "    </tr>\n",
       "    <tr>\n",
       "      <th>37</th>\n",
       "      <td>1980</td>\n",
       "      <td>9</td>\n",
       "    </tr>\n",
       "  </tbody>\n",
       "</table>\n",
       "</div>"
      ],
      "text/plain": [
       "    year_of_release  name\n",
       "0              2008  1427\n",
       "1              2009  1426\n",
       "2              2010  1255\n",
       "3              2007  1197\n",
       "4              2011  1136\n",
       "5              2006  1006\n",
       "6              2005   939\n",
       "7              2002   829\n",
       "8              2003   775\n",
       "9              2004   762\n",
       "10             2012   653\n",
       "11             2015   606\n",
       "12             2014   581\n",
       "13             2013   544\n",
       "14             2016   502\n",
       "15             2001   482\n",
       "16             1998   379\n",
       "17             2000   350\n",
       "18             1999   338\n",
       "19             1997   289\n",
       "21             1996   263\n",
       "22             1995   219\n",
       "23             1994   121\n",
       "24             1993    60\n",
       "25             1981    46\n",
       "26             1992    43\n",
       "27             1991    41\n",
       "28             1982    36\n",
       "29             1986    21\n",
       "30             1989    17\n",
       "31             1983    17\n",
       "32             1987    16\n",
       "33             1990    16\n",
       "34             1988    15\n",
       "35             1985    14\n",
       "36             1984    14\n",
       "37             1980     9"
      ]
     },
     "execution_count": 25,
     "metadata": {},
     "output_type": "execute_result"
    }
   ],
   "source": [
    "analisis_ano_lanzamiento = analisis_ano_lanzamiento[analisis_ano_lanzamiento['year_of_release'] != 0]\n",
    "analisis_ano_lanzamiento"
   ]
  },
  {
   "cell_type": "code",
   "execution_count": 26,
   "metadata": {
    "scrolled": false
   },
   "outputs": [
    {
     "data": {
      "image/png": "[encoded data removed]",
      "text/plain": [
       "<Figure size 1000x500 with 1 Axes>"
      ]
     },
     "metadata": {},
     "output_type": "display_data"
    }
   ],
   "source": [
    "fig, ax = plt.subplots(figsize=(10,5))\n",
    "ax. vlines(x=analisis_ano_lanzamiento.year_of_release, ymin = 0, ymax=analisis_ano_lanzamiento.name)\n",
    "ax.set_title('Lanzamiento de juegos por anio')\n",
    "ax.set_xticks(analisis_ano_lanzamiento.year_of_release)\n",
    "ax.set_xticklabels(analisis_ano_lanzamiento.year_of_release, rotation=90)\n",
    "plt.show()"
   ]
  },
  {
   "cell_type": "markdown",
   "metadata": {},
   "source": [
    " ## 3.2 Mejores plataformas\n",
    "\n",
    "\n"
   ]
  },
  {
   "cell_type": "code",
   "execution_count": 27,
   "metadata": {},
   "outputs": [
    {
     "data": {
      "text/html": [
       "<div>\n",
       "<style scoped>\n",
       "    .dataframe tbody tr th:only-of-type {\n",
       "        vertical-align: middle;\n",
       "    }\n",
       "\n",
       "    .dataframe tbody tr th {\n",
       "        vertical-align: top;\n",
       "    }\n",
       "\n",
       "    .dataframe thead th {\n",
       "        text-align: right;\n",
       "    }\n",
       "</style>\n",
       "<table border=\"1\" class=\"dataframe\">\n",
       "  <thead>\n",
       "    <tr style=\"text-align: right;\">\n",
       "      <th></th>\n",
       "      <th>platform</th>\n",
       "      <th>total_sales</th>\n",
       "    </tr>\n",
       "  </thead>\n",
       "  <tbody>\n",
       "    <tr>\n",
       "      <th>0</th>\n",
       "      <td>PS2</td>\n",
       "      <td>1255.77</td>\n",
       "    </tr>\n",
       "    <tr>\n",
       "      <th>1</th>\n",
       "      <td>X360</td>\n",
       "      <td>971.42</td>\n",
       "    </tr>\n",
       "    <tr>\n",
       "      <th>2</th>\n",
       "      <td>PS3</td>\n",
       "      <td>939.65</td>\n",
       "    </tr>\n",
       "    <tr>\n",
       "      <th>3</th>\n",
       "      <td>Wii</td>\n",
       "      <td>907.51</td>\n",
       "    </tr>\n",
       "    <tr>\n",
       "      <th>4</th>\n",
       "      <td>DS</td>\n",
       "      <td>806.12</td>\n",
       "    </tr>\n",
       "    <tr>\n",
       "      <th>5</th>\n",
       "      <td>PS</td>\n",
       "      <td>730.86</td>\n",
       "    </tr>\n",
       "    <tr>\n",
       "      <th>6</th>\n",
       "      <td>GBA</td>\n",
       "      <td>317.85</td>\n",
       "    </tr>\n",
       "    <tr>\n",
       "      <th>7</th>\n",
       "      <td>PS4</td>\n",
       "      <td>314.14</td>\n",
       "    </tr>\n",
       "    <tr>\n",
       "      <th>8</th>\n",
       "      <td>PSP</td>\n",
       "      <td>294.05</td>\n",
       "    </tr>\n",
       "    <tr>\n",
       "      <th>9</th>\n",
       "      <td>PC</td>\n",
       "      <td>259.52</td>\n",
       "    </tr>\n",
       "    <tr>\n",
       "      <th>10</th>\n",
       "      <td>3DS</td>\n",
       "      <td>259.00</td>\n",
       "    </tr>\n",
       "    <tr>\n",
       "      <th>11</th>\n",
       "      <td>XB</td>\n",
       "      <td>257.74</td>\n",
       "    </tr>\n",
       "    <tr>\n",
       "      <th>12</th>\n",
       "      <td>GB</td>\n",
       "      <td>255.46</td>\n",
       "    </tr>\n",
       "    <tr>\n",
       "      <th>13</th>\n",
       "      <td>NES</td>\n",
       "      <td>251.05</td>\n",
       "    </tr>\n",
       "    <tr>\n",
       "      <th>14</th>\n",
       "      <td>N64</td>\n",
       "      <td>218.68</td>\n",
       "    </tr>\n",
       "    <tr>\n",
       "      <th>15</th>\n",
       "      <td>SNES</td>\n",
       "      <td>200.04</td>\n",
       "    </tr>\n",
       "    <tr>\n",
       "      <th>16</th>\n",
       "      <td>GC</td>\n",
       "      <td>198.93</td>\n",
       "    </tr>\n",
       "    <tr>\n",
       "      <th>17</th>\n",
       "      <td>XOne</td>\n",
       "      <td>159.32</td>\n",
       "    </tr>\n",
       "    <tr>\n",
       "      <th>18</th>\n",
       "      <td>2600</td>\n",
       "      <td>96.98</td>\n",
       "    </tr>\n",
       "    <tr>\n",
       "      <th>19</th>\n",
       "      <td>WiiU</td>\n",
       "      <td>82.19</td>\n",
       "    </tr>\n",
       "    <tr>\n",
       "      <th>20</th>\n",
       "      <td>PSV</td>\n",
       "      <td>54.07</td>\n",
       "    </tr>\n",
       "    <tr>\n",
       "      <th>21</th>\n",
       "      <td>SAT</td>\n",
       "      <td>33.59</td>\n",
       "    </tr>\n",
       "    <tr>\n",
       "      <th>22</th>\n",
       "      <td>GEN</td>\n",
       "      <td>30.77</td>\n",
       "    </tr>\n",
       "    <tr>\n",
       "      <th>23</th>\n",
       "      <td>DC</td>\n",
       "      <td>15.95</td>\n",
       "    </tr>\n",
       "    <tr>\n",
       "      <th>24</th>\n",
       "      <td>SCD</td>\n",
       "      <td>1.86</td>\n",
       "    </tr>\n",
       "    <tr>\n",
       "      <th>25</th>\n",
       "      <td>NG</td>\n",
       "      <td>1.44</td>\n",
       "    </tr>\n",
       "    <tr>\n",
       "      <th>26</th>\n",
       "      <td>WS</td>\n",
       "      <td>1.42</td>\n",
       "    </tr>\n",
       "    <tr>\n",
       "      <th>27</th>\n",
       "      <td>TG16</td>\n",
       "      <td>0.16</td>\n",
       "    </tr>\n",
       "    <tr>\n",
       "      <th>28</th>\n",
       "      <td>3DO</td>\n",
       "      <td>0.10</td>\n",
       "    </tr>\n",
       "    <tr>\n",
       "      <th>29</th>\n",
       "      <td>GG</td>\n",
       "      <td>0.04</td>\n",
       "    </tr>\n",
       "    <tr>\n",
       "      <th>30</th>\n",
       "      <td>PCFX</td>\n",
       "      <td>0.03</td>\n",
       "    </tr>\n",
       "  </tbody>\n",
       "</table>\n",
       "</div>"
      ],
      "text/plain": [
       "   platform  total_sales\n",
       "0       PS2      1255.77\n",
       "1      X360       971.42\n",
       "2       PS3       939.65\n",
       "3       Wii       907.51\n",
       "4        DS       806.12\n",
       "5        PS       730.86\n",
       "6       GBA       317.85\n",
       "7       PS4       314.14\n",
       "8       PSP       294.05\n",
       "9        PC       259.52\n",
       "10      3DS       259.00\n",
       "11       XB       257.74\n",
       "12       GB       255.46\n",
       "13      NES       251.05\n",
       "14      N64       218.68\n",
       "15     SNES       200.04\n",
       "16       GC       198.93\n",
       "17     XOne       159.32\n",
       "18     2600        96.98\n",
       "19     WiiU        82.19\n",
       "20      PSV        54.07\n",
       "21      SAT        33.59\n",
       "22      GEN        30.77\n",
       "23       DC        15.95\n",
       "24      SCD         1.86\n",
       "25       NG         1.44\n",
       "26       WS         1.42\n",
       "27     TG16         0.16\n",
       "28      3DO         0.10\n",
       "29       GG         0.04\n",
       "30     PCFX         0.03"
      ]
     },
     "execution_count": 27,
     "metadata": {},
     "output_type": "execute_result"
    }
   ],
   "source": [
    "#Para saber cuales son las mejores plataformas de los juegos. \n",
    "df_ventas_plataforma = games_data_raw.groupby('platform')['total_sales'].sum().sort_values(ascending =False).reset_index()\n",
    "df_ventas_plataforma"
   ]
  },
  {
   "cell_type": "code",
   "execution_count": 28,
   "metadata": {},
   "outputs": [],
   "source": [
    "#Busca las plataformas que solían ser populares pero que ahora no tienen ventas. ¿Cuánto tardan generalmente las nuevas plataformas en aparecer y las antiguas en desaparecer?\n",
    "\n",
    "df_ventas_plataforma['z_score'] = (df_ventas_plataforma['total_sales'] - df_ventas_plataforma['total_sales'].mean())/df_ventas_plataforma['total_sales'].std()"
   ]
  },
  {
   "cell_type": "code",
   "execution_count": 29,
   "metadata": {},
   "outputs": [
    {
     "data": {
      "text/html": [
       "<div>\n",
       "<style scoped>\n",
       "    .dataframe tbody tr th:only-of-type {\n",
       "        vertical-align: middle;\n",
       "    }\n",
       "\n",
       "    .dataframe tbody tr th {\n",
       "        vertical-align: top;\n",
       "    }\n",
       "\n",
       "    .dataframe thead th {\n",
       "        text-align: right;\n",
       "    }\n",
       "</style>\n",
       "<table border=\"1\" class=\"dataframe\">\n",
       "  <thead>\n",
       "    <tr style=\"text-align: right;\">\n",
       "      <th></th>\n",
       "      <th>platform</th>\n",
       "      <th>total_sales</th>\n",
       "      <th>z_score</th>\n",
       "    </tr>\n",
       "  </thead>\n",
       "  <tbody>\n",
       "    <tr>\n",
       "      <th>0</th>\n",
       "      <td>PS2</td>\n",
       "      <td>1255.77</td>\n",
       "      <td>2.780807</td>\n",
       "    </tr>\n",
       "    <tr>\n",
       "      <th>1</th>\n",
       "      <td>X360</td>\n",
       "      <td>971.42</td>\n",
       "      <td>1.964085</td>\n",
       "    </tr>\n",
       "    <tr>\n",
       "      <th>2</th>\n",
       "      <td>PS3</td>\n",
       "      <td>939.65</td>\n",
       "      <td>1.872834</td>\n",
       "    </tr>\n",
       "    <tr>\n",
       "      <th>3</th>\n",
       "      <td>Wii</td>\n",
       "      <td>907.51</td>\n",
       "      <td>1.780520</td>\n",
       "    </tr>\n",
       "    <tr>\n",
       "      <th>4</th>\n",
       "      <td>DS</td>\n",
       "      <td>806.12</td>\n",
       "      <td>1.489304</td>\n",
       "    </tr>\n",
       "    <tr>\n",
       "      <th>5</th>\n",
       "      <td>PS</td>\n",
       "      <td>730.86</td>\n",
       "      <td>1.273139</td>\n",
       "    </tr>\n",
       "    <tr>\n",
       "      <th>6</th>\n",
       "      <td>GBA</td>\n",
       "      <td>317.85</td>\n",
       "      <td>0.086875</td>\n",
       "    </tr>\n",
       "    <tr>\n",
       "      <th>7</th>\n",
       "      <td>PS4</td>\n",
       "      <td>314.14</td>\n",
       "      <td>0.076219</td>\n",
       "    </tr>\n",
       "    <tr>\n",
       "      <th>8</th>\n",
       "      <td>PSP</td>\n",
       "      <td>294.05</td>\n",
       "      <td>0.018516</td>\n",
       "    </tr>\n",
       "    <tr>\n",
       "      <th>9</th>\n",
       "      <td>PC</td>\n",
       "      <td>259.52</td>\n",
       "      <td>-0.080663</td>\n",
       "    </tr>\n",
       "    <tr>\n",
       "      <th>10</th>\n",
       "      <td>3DS</td>\n",
       "      <td>259.00</td>\n",
       "      <td>-0.082156</td>\n",
       "    </tr>\n",
       "    <tr>\n",
       "      <th>11</th>\n",
       "      <td>XB</td>\n",
       "      <td>257.74</td>\n",
       "      <td>-0.085775</td>\n",
       "    </tr>\n",
       "    <tr>\n",
       "      <th>12</th>\n",
       "      <td>GB</td>\n",
       "      <td>255.46</td>\n",
       "      <td>-0.092324</td>\n",
       "    </tr>\n",
       "    <tr>\n",
       "      <th>13</th>\n",
       "      <td>NES</td>\n",
       "      <td>251.05</td>\n",
       "      <td>-0.104991</td>\n",
       "    </tr>\n",
       "    <tr>\n",
       "      <th>14</th>\n",
       "      <td>N64</td>\n",
       "      <td>218.68</td>\n",
       "      <td>-0.197965</td>\n",
       "    </tr>\n",
       "    <tr>\n",
       "      <th>15</th>\n",
       "      <td>SNES</td>\n",
       "      <td>200.04</td>\n",
       "      <td>-0.251504</td>\n",
       "    </tr>\n",
       "    <tr>\n",
       "      <th>16</th>\n",
       "      <td>GC</td>\n",
       "      <td>198.93</td>\n",
       "      <td>-0.254692</td>\n",
       "    </tr>\n",
       "    <tr>\n",
       "      <th>17</th>\n",
       "      <td>XOne</td>\n",
       "      <td>159.32</td>\n",
       "      <td>-0.368461</td>\n",
       "    </tr>\n",
       "    <tr>\n",
       "      <th>18</th>\n",
       "      <td>2600</td>\n",
       "      <td>96.98</td>\n",
       "      <td>-0.547517</td>\n",
       "    </tr>\n",
       "    <tr>\n",
       "      <th>19</th>\n",
       "      <td>WiiU</td>\n",
       "      <td>82.19</td>\n",
       "      <td>-0.589997</td>\n",
       "    </tr>\n",
       "    <tr>\n",
       "      <th>20</th>\n",
       "      <td>PSV</td>\n",
       "      <td>54.07</td>\n",
       "      <td>-0.670765</td>\n",
       "    </tr>\n",
       "    <tr>\n",
       "      <th>21</th>\n",
       "      <td>SAT</td>\n",
       "      <td>33.59</td>\n",
       "      <td>-0.729588</td>\n",
       "    </tr>\n",
       "    <tr>\n",
       "      <th>22</th>\n",
       "      <td>GEN</td>\n",
       "      <td>30.77</td>\n",
       "      <td>-0.737688</td>\n",
       "    </tr>\n",
       "    <tr>\n",
       "      <th>23</th>\n",
       "      <td>DC</td>\n",
       "      <td>15.95</td>\n",
       "      <td>-0.780254</td>\n",
       "    </tr>\n",
       "    <tr>\n",
       "      <th>24</th>\n",
       "      <td>SCD</td>\n",
       "      <td>1.86</td>\n",
       "      <td>-0.820724</td>\n",
       "    </tr>\n",
       "    <tr>\n",
       "      <th>25</th>\n",
       "      <td>NG</td>\n",
       "      <td>1.44</td>\n",
       "      <td>-0.821931</td>\n",
       "    </tr>\n",
       "    <tr>\n",
       "      <th>26</th>\n",
       "      <td>WS</td>\n",
       "      <td>1.42</td>\n",
       "      <td>-0.821988</td>\n",
       "    </tr>\n",
       "    <tr>\n",
       "      <th>27</th>\n",
       "      <td>TG16</td>\n",
       "      <td>0.16</td>\n",
       "      <td>-0.825607</td>\n",
       "    </tr>\n",
       "    <tr>\n",
       "      <th>28</th>\n",
       "      <td>3DO</td>\n",
       "      <td>0.10</td>\n",
       "      <td>-0.825779</td>\n",
       "    </tr>\n",
       "    <tr>\n",
       "      <th>29</th>\n",
       "      <td>GG</td>\n",
       "      <td>0.04</td>\n",
       "      <td>-0.825952</td>\n",
       "    </tr>\n",
       "    <tr>\n",
       "      <th>30</th>\n",
       "      <td>PCFX</td>\n",
       "      <td>0.03</td>\n",
       "      <td>-0.825980</td>\n",
       "    </tr>\n",
       "  </tbody>\n",
       "</table>\n",
       "</div>"
      ],
      "text/plain": [
       "   platform  total_sales   z_score\n",
       "0       PS2      1255.77  2.780807\n",
       "1      X360       971.42  1.964085\n",
       "2       PS3       939.65  1.872834\n",
       "3       Wii       907.51  1.780520\n",
       "4        DS       806.12  1.489304\n",
       "5        PS       730.86  1.273139\n",
       "6       GBA       317.85  0.086875\n",
       "7       PS4       314.14  0.076219\n",
       "8       PSP       294.05  0.018516\n",
       "9        PC       259.52 -0.080663\n",
       "10      3DS       259.00 -0.082156\n",
       "11       XB       257.74 -0.085775\n",
       "12       GB       255.46 -0.092324\n",
       "13      NES       251.05 -0.104991\n",
       "14      N64       218.68 -0.197965\n",
       "15     SNES       200.04 -0.251504\n",
       "16       GC       198.93 -0.254692\n",
       "17     XOne       159.32 -0.368461\n",
       "18     2600        96.98 -0.547517\n",
       "19     WiiU        82.19 -0.589997\n",
       "20      PSV        54.07 -0.670765\n",
       "21      SAT        33.59 -0.729588\n",
       "22      GEN        30.77 -0.737688\n",
       "23       DC        15.95 -0.780254\n",
       "24      SCD         1.86 -0.820724\n",
       "25       NG         1.44 -0.821931\n",
       "26       WS         1.42 -0.821988\n",
       "27     TG16         0.16 -0.825607\n",
       "28      3DO         0.10 -0.825779\n",
       "29       GG         0.04 -0.825952\n",
       "30     PCFX         0.03 -0.825980"
      ]
     },
     "execution_count": 29,
     "metadata": {},
     "output_type": "execute_result"
    }
   ],
   "source": [
    "df_ventas_plataforma"
   ]
  },
  {
   "cell_type": "code",
   "execution_count": 30,
   "metadata": {},
   "outputs": [],
   "source": [
    "#Que tan separado estoy de la media \n",
    "df_ventas_plataforma['color'] = ['red' if ventas_z <0 else 'green' for ventas_z in df_ventas_plataforma['z_score']]"
   ]
  },
  {
   "cell_type": "code",
   "execution_count": 155,
   "metadata": {
    "scrolled": false
   },
   "outputs": [
    {
     "data": {
      "text/html": [
       "<div>\n",
       "<style scoped>\n",
       "    .dataframe tbody tr th:only-of-type {\n",
       "        vertical-align: middle;\n",
       "    }\n",
       "\n",
       "    .dataframe tbody tr th {\n",
       "        vertical-align: top;\n",
       "    }\n",
       "\n",
       "    .dataframe thead th {\n",
       "        text-align: right;\n",
       "    }\n",
       "</style>\n",
       "<table border=\"1\" class=\"dataframe\">\n",
       "  <thead>\n",
       "    <tr style=\"text-align: right;\">\n",
       "      <th></th>\n",
       "      <th>platform</th>\n",
       "      <th>total_sales</th>\n",
       "      <th>z_score</th>\n",
       "      <th>color</th>\n",
       "    </tr>\n",
       "  </thead>\n",
       "  <tbody>\n",
       "    <tr>\n",
       "      <th>0</th>\n",
       "      <td>PS2</td>\n",
       "      <td>1255.77</td>\n",
       "      <td>2.780807</td>\n",
       "      <td>green</td>\n",
       "    </tr>\n",
       "    <tr>\n",
       "      <th>1</th>\n",
       "      <td>X360</td>\n",
       "      <td>971.42</td>\n",
       "      <td>1.964085</td>\n",
       "      <td>green</td>\n",
       "    </tr>\n",
       "    <tr>\n",
       "      <th>2</th>\n",
       "      <td>PS3</td>\n",
       "      <td>939.65</td>\n",
       "      <td>1.872834</td>\n",
       "      <td>green</td>\n",
       "    </tr>\n",
       "    <tr>\n",
       "      <th>3</th>\n",
       "      <td>Wii</td>\n",
       "      <td>907.51</td>\n",
       "      <td>1.780520</td>\n",
       "      <td>green</td>\n",
       "    </tr>\n",
       "    <tr>\n",
       "      <th>4</th>\n",
       "      <td>DS</td>\n",
       "      <td>806.12</td>\n",
       "      <td>1.489304</td>\n",
       "      <td>green</td>\n",
       "    </tr>\n",
       "    <tr>\n",
       "      <th>5</th>\n",
       "      <td>PS</td>\n",
       "      <td>730.86</td>\n",
       "      <td>1.273139</td>\n",
       "      <td>green</td>\n",
       "    </tr>\n",
       "    <tr>\n",
       "      <th>6</th>\n",
       "      <td>GBA</td>\n",
       "      <td>317.85</td>\n",
       "      <td>0.086875</td>\n",
       "      <td>green</td>\n",
       "    </tr>\n",
       "    <tr>\n",
       "      <th>7</th>\n",
       "      <td>PS4</td>\n",
       "      <td>314.14</td>\n",
       "      <td>0.076219</td>\n",
       "      <td>green</td>\n",
       "    </tr>\n",
       "    <tr>\n",
       "      <th>8</th>\n",
       "      <td>PSP</td>\n",
       "      <td>294.05</td>\n",
       "      <td>0.018516</td>\n",
       "      <td>green</td>\n",
       "    </tr>\n",
       "    <tr>\n",
       "      <th>9</th>\n",
       "      <td>PC</td>\n",
       "      <td>259.52</td>\n",
       "      <td>-0.080663</td>\n",
       "      <td>red</td>\n",
       "    </tr>\n",
       "    <tr>\n",
       "      <th>10</th>\n",
       "      <td>3DS</td>\n",
       "      <td>259.00</td>\n",
       "      <td>-0.082156</td>\n",
       "      <td>red</td>\n",
       "    </tr>\n",
       "    <tr>\n",
       "      <th>11</th>\n",
       "      <td>XB</td>\n",
       "      <td>257.74</td>\n",
       "      <td>-0.085775</td>\n",
       "      <td>red</td>\n",
       "    </tr>\n",
       "    <tr>\n",
       "      <th>12</th>\n",
       "      <td>GB</td>\n",
       "      <td>255.46</td>\n",
       "      <td>-0.092324</td>\n",
       "      <td>red</td>\n",
       "    </tr>\n",
       "    <tr>\n",
       "      <th>13</th>\n",
       "      <td>NES</td>\n",
       "      <td>251.05</td>\n",
       "      <td>-0.104991</td>\n",
       "      <td>red</td>\n",
       "    </tr>\n",
       "    <tr>\n",
       "      <th>14</th>\n",
       "      <td>N64</td>\n",
       "      <td>218.68</td>\n",
       "      <td>-0.197965</td>\n",
       "      <td>red</td>\n",
       "    </tr>\n",
       "    <tr>\n",
       "      <th>15</th>\n",
       "      <td>SNES</td>\n",
       "      <td>200.04</td>\n",
       "      <td>-0.251504</td>\n",
       "      <td>red</td>\n",
       "    </tr>\n",
       "    <tr>\n",
       "      <th>16</th>\n",
       "      <td>GC</td>\n",
       "      <td>198.93</td>\n",
       "      <td>-0.254692</td>\n",
       "      <td>red</td>\n",
       "    </tr>\n",
       "    <tr>\n",
       "      <th>17</th>\n",
       "      <td>XOne</td>\n",
       "      <td>159.32</td>\n",
       "      <td>-0.368461</td>\n",
       "      <td>red</td>\n",
       "    </tr>\n",
       "    <tr>\n",
       "      <th>18</th>\n",
       "      <td>2600</td>\n",
       "      <td>96.98</td>\n",
       "      <td>-0.547517</td>\n",
       "      <td>red</td>\n",
       "    </tr>\n",
       "    <tr>\n",
       "      <th>19</th>\n",
       "      <td>WiiU</td>\n",
       "      <td>82.19</td>\n",
       "      <td>-0.589997</td>\n",
       "      <td>red</td>\n",
       "    </tr>\n",
       "    <tr>\n",
       "      <th>20</th>\n",
       "      <td>PSV</td>\n",
       "      <td>54.07</td>\n",
       "      <td>-0.670765</td>\n",
       "      <td>red</td>\n",
       "    </tr>\n",
       "    <tr>\n",
       "      <th>21</th>\n",
       "      <td>SAT</td>\n",
       "      <td>33.59</td>\n",
       "      <td>-0.729588</td>\n",
       "      <td>red</td>\n",
       "    </tr>\n",
       "    <tr>\n",
       "      <th>22</th>\n",
       "      <td>GEN</td>\n",
       "      <td>30.77</td>\n",
       "      <td>-0.737688</td>\n",
       "      <td>red</td>\n",
       "    </tr>\n",
       "    <tr>\n",
       "      <th>23</th>\n",
       "      <td>DC</td>\n",
       "      <td>15.95</td>\n",
       "      <td>-0.780254</td>\n",
       "      <td>red</td>\n",
       "    </tr>\n",
       "    <tr>\n",
       "      <th>24</th>\n",
       "      <td>SCD</td>\n",
       "      <td>1.86</td>\n",
       "      <td>-0.820724</td>\n",
       "      <td>red</td>\n",
       "    </tr>\n",
       "    <tr>\n",
       "      <th>25</th>\n",
       "      <td>NG</td>\n",
       "      <td>1.44</td>\n",
       "      <td>-0.821931</td>\n",
       "      <td>red</td>\n",
       "    </tr>\n",
       "    <tr>\n",
       "      <th>26</th>\n",
       "      <td>WS</td>\n",
       "      <td>1.42</td>\n",
       "      <td>-0.821988</td>\n",
       "      <td>red</td>\n",
       "    </tr>\n",
       "    <tr>\n",
       "      <th>27</th>\n",
       "      <td>TG16</td>\n",
       "      <td>0.16</td>\n",
       "      <td>-0.825607</td>\n",
       "      <td>red</td>\n",
       "    </tr>\n",
       "    <tr>\n",
       "      <th>28</th>\n",
       "      <td>3DO</td>\n",
       "      <td>0.10</td>\n",
       "      <td>-0.825779</td>\n",
       "      <td>red</td>\n",
       "    </tr>\n",
       "    <tr>\n",
       "      <th>29</th>\n",
       "      <td>GG</td>\n",
       "      <td>0.04</td>\n",
       "      <td>-0.825952</td>\n",
       "      <td>red</td>\n",
       "    </tr>\n",
       "    <tr>\n",
       "      <th>30</th>\n",
       "      <td>PCFX</td>\n",
       "      <td>0.03</td>\n",
       "      <td>-0.825980</td>\n",
       "      <td>red</td>\n",
       "    </tr>\n",
       "  </tbody>\n",
       "</table>\n",
       "</div>"
      ],
      "text/plain": [
       "   platform  total_sales   z_score  color\n",
       "0       PS2      1255.77  2.780807  green\n",
       "1      X360       971.42  1.964085  green\n",
       "2       PS3       939.65  1.872834  green\n",
       "3       Wii       907.51  1.780520  green\n",
       "4        DS       806.12  1.489304  green\n",
       "5        PS       730.86  1.273139  green\n",
       "6       GBA       317.85  0.086875  green\n",
       "7       PS4       314.14  0.076219  green\n",
       "8       PSP       294.05  0.018516  green\n",
       "9        PC       259.52 -0.080663    red\n",
       "10      3DS       259.00 -0.082156    red\n",
       "11       XB       257.74 -0.085775    red\n",
       "12       GB       255.46 -0.092324    red\n",
       "13      NES       251.05 -0.104991    red\n",
       "14      N64       218.68 -0.197965    red\n",
       "15     SNES       200.04 -0.251504    red\n",
       "16       GC       198.93 -0.254692    red\n",
       "17     XOne       159.32 -0.368461    red\n",
       "18     2600        96.98 -0.547517    red\n",
       "19     WiiU        82.19 -0.589997    red\n",
       "20      PSV        54.07 -0.670765    red\n",
       "21      SAT        33.59 -0.729588    red\n",
       "22      GEN        30.77 -0.737688    red\n",
       "23       DC        15.95 -0.780254    red\n",
       "24      SCD         1.86 -0.820724    red\n",
       "25       NG         1.44 -0.821931    red\n",
       "26       WS         1.42 -0.821988    red\n",
       "27     TG16         0.16 -0.825607    red\n",
       "28      3DO         0.10 -0.825779    red\n",
       "29       GG         0.04 -0.825952    red\n",
       "30     PCFX         0.03 -0.825980    red"
      ]
     },
     "execution_count": 155,
     "metadata": {},
     "output_type": "execute_result"
    }
   ],
   "source": [
    "df_ventas_plataforma"
   ]
  },
  {
   "cell_type": "code",
   "execution_count": 161,
   "metadata": {},
   "outputs": [
    {
     "data": {
      "text/plain": [
       "Text(0.5, 1.0, 'Rentabilidad por PLataforma')"
      ]
     },
     "execution_count": 161,
     "metadata": {},
     "output_type": "execute_result"
    },
    {
     "data": {
      "image/png": "[encoded data removed]",
      "text/plain": [
       "<Figure size 640x480 with 1 Axes>"
      ]
     },
     "metadata": {},
     "output_type": "display_data"
    }
   ],
   "source": [
    "plt.figure()\n",
    "plt.hlines(\n",
    "    y=df_ventas_plataforma.platform, xmin=0, xmax=df_ventas_plataforma.z_score, color=df_ventas_plataforma.color, linewidth=10, alpha=0.5\n",
    ")\n",
    "\n",
    "plt.ylabel('Platform')\n",
    "plt.xlabel('Z score')\n",
    "plt.title('Rentabilidad por PLataforma')"
   ]
  },
  {
   "cell_type": "markdown",
   "metadata": {},
   "source": [
    "#Conclusion: Los valores con color Verde: es positivo: es decir arriba de la media y Rojo es que está por debajo de la media. Es decir los verdes son los más rentables y los rojos no son rentables para la compañia. Es decir la plataforma mas rentable es PS2, seguido del X350"
   ]
  },
  {
   "cell_type": "code",
   "execution_count": 158,
   "metadata": {},
   "outputs": [],
   "source": [
    "#Tiempo de vida de cada plataforma\n",
    "games_data_clean = games_data_raw.query('year_of_release >= 2013')"
   ]
  },
  {
   "cell_type": "code",
   "execution_count": 157,
   "metadata": {},
   "outputs": [],
   "source": [
    "dt_tiempo_de_vida = pd.pivot_table(games_data_clean, index='year_of_release', columns='platform', values='total_sales', aggfunc='sum').fillna(0)"
   ]
  },
  {
   "cell_type": "code",
   "execution_count": 36,
   "metadata": {
    "scrolled": true
   },
   "outputs": [
    {
     "data": {
      "text/html": [
       "<div>\n",
       "<style scoped>\n",
       "    .dataframe tbody tr th:only-of-type {\n",
       "        vertical-align: middle;\n",
       "    }\n",
       "\n",
       "    .dataframe tbody tr th {\n",
       "        vertical-align: top;\n",
       "    }\n",
       "\n",
       "    .dataframe thead th {\n",
       "        text-align: right;\n",
       "    }\n",
       "</style>\n",
       "<table border=\"1\" class=\"dataframe\">\n",
       "  <thead>\n",
       "    <tr style=\"text-align: right;\">\n",
       "      <th>platform</th>\n",
       "      <th>3DS</th>\n",
       "      <th>DS</th>\n",
       "      <th>PC</th>\n",
       "      <th>PS3</th>\n",
       "      <th>PS4</th>\n",
       "      <th>PSP</th>\n",
       "      <th>PSV</th>\n",
       "      <th>Wii</th>\n",
       "      <th>WiiU</th>\n",
       "      <th>X360</th>\n",
       "      <th>XOne</th>\n",
       "    </tr>\n",
       "    <tr>\n",
       "      <th>year_of_release</th>\n",
       "      <th></th>\n",
       "      <th></th>\n",
       "      <th></th>\n",
       "      <th></th>\n",
       "      <th></th>\n",
       "      <th></th>\n",
       "      <th></th>\n",
       "      <th></th>\n",
       "      <th></th>\n",
       "      <th></th>\n",
       "      <th></th>\n",
       "    </tr>\n",
       "  </thead>\n",
       "  <tbody>\n",
       "    <tr>\n",
       "      <th>2013</th>\n",
       "      <td>56.57</td>\n",
       "      <td>1.54</td>\n",
       "      <td>12.38</td>\n",
       "      <td>113.25</td>\n",
       "      <td>25.99</td>\n",
       "      <td>3.14</td>\n",
       "      <td>10.59</td>\n",
       "      <td>8.59</td>\n",
       "      <td>21.65</td>\n",
       "      <td>88.58</td>\n",
       "      <td>18.96</td>\n",
       "    </tr>\n",
       "    <tr>\n",
       "      <th>2014</th>\n",
       "      <td>43.76</td>\n",
       "      <td>0.00</td>\n",
       "      <td>13.28</td>\n",
       "      <td>47.76</td>\n",
       "      <td>100.00</td>\n",
       "      <td>0.24</td>\n",
       "      <td>11.90</td>\n",
       "      <td>3.75</td>\n",
       "      <td>22.03</td>\n",
       "      <td>34.74</td>\n",
       "      <td>54.07</td>\n",
       "    </tr>\n",
       "    <tr>\n",
       "      <th>2015</th>\n",
       "      <td>27.78</td>\n",
       "      <td>0.00</td>\n",
       "      <td>8.52</td>\n",
       "      <td>16.82</td>\n",
       "      <td>118.90</td>\n",
       "      <td>0.12</td>\n",
       "      <td>6.25</td>\n",
       "      <td>1.14</td>\n",
       "      <td>16.35</td>\n",
       "      <td>11.96</td>\n",
       "      <td>60.14</td>\n",
       "    </tr>\n",
       "    <tr>\n",
       "      <th>2016</th>\n",
       "      <td>15.14</td>\n",
       "      <td>0.00</td>\n",
       "      <td>5.25</td>\n",
       "      <td>3.60</td>\n",
       "      <td>69.25</td>\n",
       "      <td>0.00</td>\n",
       "      <td>4.25</td>\n",
       "      <td>0.18</td>\n",
       "      <td>4.60</td>\n",
       "      <td>1.52</td>\n",
       "      <td>26.15</td>\n",
       "    </tr>\n",
       "  </tbody>\n",
       "</table>\n",
       "</div>"
      ],
      "text/plain": [
       "platform           3DS    DS     PC     PS3     PS4   PSP    PSV   Wii   WiiU  \\\n",
       "year_of_release                                                                 \n",
       "2013             56.57  1.54  12.38  113.25   25.99  3.14  10.59  8.59  21.65   \n",
       "2014             43.76  0.00  13.28   47.76  100.00  0.24  11.90  3.75  22.03   \n",
       "2015             27.78  0.00   8.52   16.82  118.90  0.12   6.25  1.14  16.35   \n",
       "2016             15.14  0.00   5.25    3.60   69.25  0.00   4.25  0.18   4.60   \n",
       "\n",
       "platform          X360   XOne  \n",
       "year_of_release                \n",
       "2013             88.58  18.96  \n",
       "2014             34.74  54.07  \n",
       "2015             11.96  60.14  \n",
       "2016              1.52  26.15  "
      ]
     },
     "execution_count": 36,
     "metadata": {},
     "output_type": "execute_result"
    }
   ],
   "source": [
    "dt_tiempo_de_vida"
   ]
  },
  {
   "cell_type": "code",
   "execution_count": 37,
   "metadata": {},
   "outputs": [
    {
     "data": {
      "image/png": "[encoded data removed]",
      "text/plain": [
       "<Figure size 640x480 with 1 Axes>"
      ]
     },
     "metadata": {},
     "output_type": "display_data"
    }
   ],
   "source": [
    "sns.lineplot(data=dt_tiempo_de_vida)\n",
    "plt.ylabel('Rentabilidad')\n",
    "plt.xlabel('Year')\n",
    "plt.title('Tiempo de vida de las plataformas')\n",
    "plt.show()"
   ]
  },
  {
   "cell_type": "markdown",
   "metadata": {},
   "source": [
    "¿Qué plataformas son líderes en ventas? \n",
    "\n",
    "Las plataformas lideres en ventas son:  (3DS, DS,  PC, PS3, PS4)\n",
    "\n",
    "¿Cuáles crecen y cuáles se reducen? \n",
    " En este gráfico podemos observar como las ventas totales han decrecido al pasar de los años. El play4 es el producto con un mayor pico de crecimineto, especificamente en el 2015 y luego empieza a descender. Las plataformas ( 3DS,   PC, PS4) tiene un pico de crecimiento al pasar de los años y despues empiezan a decaer, mientras las plataformas como PS3  y DS empezaron con niveles alto el primer año y los posteriores años disminuyeron las ventas. En conclusión las plataformas decaen a través de los tiempos, esto debe ser por la naturaleza del producto el cual tiene glan influencia en la tendencia del mercado."
   ]
  },
  {
   "cell_type": "code",
   "execution_count": 39,
   "metadata": {},
   "outputs": [],
   "source": [
    "#Crea un diagrama de caja para las ventas globales de todos los juegos, desglosados por plataforma. ¿Son significativas las diferencias en las ventas? ¿Qué sucede con las ventas promedio en varias plataformas? Describe tus hallazgos."
   ]
  },
  {
   "cell_type": "code",
   "execution_count": 40,
   "metadata": {},
   "outputs": [
    {
     "data": {
      "image/png": "[encoded data removed]",
      "text/plain": [
       "<Figure size 1200x800 with 1 Axes>"
      ]
     },
     "metadata": {},
     "output_type": "display_data"
    }
   ],
   "source": [
    "# Crear el boxplot\n",
    "plt.figure(figsize=(12, 8))\n",
    "sns.boxplot(x='platform', y='total_sales', data=games_data_raw)\n",
    "\n",
    "plt.title('Diagrama de Caja de Ventas Globales por Plataforma')\n",
    "plt.xlabel('Plataforma')\n",
    "plt.ylabel('Ventas Globales (en millones)')\n",
    "\n",
    "# Mostrar el gráfico\n",
    "plt.xticks(rotation=90) \n",
    "plt.show()"
   ]
  },
  {
   "cell_type": "code",
   "execution_count": 41,
   "metadata": {},
   "outputs": [
    {
     "data": {
      "text/plain": [
       "platform\n",
       "GB      2.606735\n",
       "NES     2.561735\n",
       "GEN     1.061034\n",
       "SNES    0.836987\n",
       "PS4     0.801378\n",
       "X360    0.769746\n",
       "2600    0.729173\n",
       "PS3     0.705973\n",
       "Wii     0.687508\n",
       "N64     0.685517\n",
       "XOne    0.645020\n",
       "PS      0.610576\n",
       "PS2     0.581106\n",
       "WiiU    0.559116\n",
       "3DS     0.498077\n",
       "GBA     0.386679\n",
       "DS      0.374765\n",
       "GC      0.357788\n",
       "XB      0.312791\n",
       "SCD     0.310000\n",
       "DC      0.306731\n",
       "PC      0.266448\n",
       "PSP     0.243218\n",
       "WS      0.236667\n",
       "SAT     0.194162\n",
       "PSV     0.125744\n",
       "NG      0.120000\n",
       "TG16    0.080000\n",
       "GG      0.040000\n",
       "3DO     0.033333\n",
       "PCFX    0.030000\n",
       "Name: total_sales, dtype: float64"
      ]
     },
     "execution_count": 41,
     "metadata": {},
     "output_type": "execute_result"
    }
   ],
   "source": [
    "#calcular la media de las ventas globales para cada plataforma\n",
    "ventas_promedio = games_data_raw.groupby('platform')['total_sales'].mean().sort_values(ascending=False)\n",
    "ventas_promedio"
   ]
  },
  {
   "cell_type": "markdown",
   "metadata": {},
   "source": [
    "¿Qué sucede con las ventas promedio en varias plataformas? Describe tus hallazgos:\n",
    "#Con ese grafico se puede observar que las primeras 10 plataformas con las plataformas que tuvieron ventas significativamente altas. Por ejemplo la plataforma Wii, tuvo grandes ventas y tambien valores atipicos, lo que significa que tal vez que reaizaron una estrategia para incrementar las ventas en un determinado periodo."
   ]
  },
  {
   "cell_type": "code",
   "execution_count": 42,
   "metadata": {},
   "outputs": [
    {
     "data": {
      "text/html": [
       "<div>\n",
       "<style scoped>\n",
       "    .dataframe tbody tr th:only-of-type {\n",
       "        vertical-align: middle;\n",
       "    }\n",
       "\n",
       "    .dataframe tbody tr th {\n",
       "        vertical-align: top;\n",
       "    }\n",
       "\n",
       "    .dataframe thead th {\n",
       "        text-align: right;\n",
       "    }\n",
       "</style>\n",
       "<table border=\"1\" class=\"dataframe\">\n",
       "  <thead>\n",
       "    <tr style=\"text-align: right;\">\n",
       "      <th></th>\n",
       "      <th>name</th>\n",
       "      <th>platform</th>\n",
       "      <th>year_of_release</th>\n",
       "      <th>genre</th>\n",
       "      <th>na_sales</th>\n",
       "      <th>eu_sales</th>\n",
       "      <th>jp_sales</th>\n",
       "      <th>other_sales</th>\n",
       "      <th>critic_score</th>\n",
       "      <th>user_score</th>\n",
       "      <th>rating</th>\n",
       "      <th>total_sales</th>\n",
       "    </tr>\n",
       "  </thead>\n",
       "  <tbody>\n",
       "    <tr>\n",
       "      <th>0</th>\n",
       "      <td>Wii Sports</td>\n",
       "      <td>Wii</td>\n",
       "      <td>2006</td>\n",
       "      <td>Sports</td>\n",
       "      <td>41.36</td>\n",
       "      <td>28.96</td>\n",
       "      <td>3.77</td>\n",
       "      <td>8.45</td>\n",
       "      <td>76.0</td>\n",
       "      <td>8.0</td>\n",
       "      <td>E</td>\n",
       "      <td>82.54</td>\n",
       "    </tr>\n",
       "    <tr>\n",
       "      <th>2</th>\n",
       "      <td>Mario Kart Wii</td>\n",
       "      <td>Wii</td>\n",
       "      <td>2008</td>\n",
       "      <td>Racing</td>\n",
       "      <td>15.68</td>\n",
       "      <td>12.76</td>\n",
       "      <td>3.79</td>\n",
       "      <td>3.29</td>\n",
       "      <td>82.0</td>\n",
       "      <td>8.3</td>\n",
       "      <td>E</td>\n",
       "      <td>35.52</td>\n",
       "    </tr>\n",
       "    <tr>\n",
       "      <th>3</th>\n",
       "      <td>Wii Sports Resort</td>\n",
       "      <td>Wii</td>\n",
       "      <td>2009</td>\n",
       "      <td>Sports</td>\n",
       "      <td>15.61</td>\n",
       "      <td>10.93</td>\n",
       "      <td>3.28</td>\n",
       "      <td>2.95</td>\n",
       "      <td>80.0</td>\n",
       "      <td>8.0</td>\n",
       "      <td>E</td>\n",
       "      <td>32.77</td>\n",
       "    </tr>\n",
       "    <tr>\n",
       "      <th>7</th>\n",
       "      <td>Wii Play</td>\n",
       "      <td>Wii</td>\n",
       "      <td>2006</td>\n",
       "      <td>Misc</td>\n",
       "      <td>13.96</td>\n",
       "      <td>9.18</td>\n",
       "      <td>2.93</td>\n",
       "      <td>2.84</td>\n",
       "      <td>58.0</td>\n",
       "      <td>6.6</td>\n",
       "      <td>E</td>\n",
       "      <td>28.91</td>\n",
       "    </tr>\n",
       "    <tr>\n",
       "      <th>8</th>\n",
       "      <td>New Super Mario Bros. Wii</td>\n",
       "      <td>Wii</td>\n",
       "      <td>2009</td>\n",
       "      <td>Platform</td>\n",
       "      <td>14.44</td>\n",
       "      <td>6.94</td>\n",
       "      <td>4.70</td>\n",
       "      <td>2.24</td>\n",
       "      <td>87.0</td>\n",
       "      <td>8.4</td>\n",
       "      <td>E</td>\n",
       "      <td>28.32</td>\n",
       "    </tr>\n",
       "    <tr>\n",
       "      <th>...</th>\n",
       "      <td>...</td>\n",
       "      <td>...</td>\n",
       "      <td>...</td>\n",
       "      <td>...</td>\n",
       "      <td>...</td>\n",
       "      <td>...</td>\n",
       "      <td>...</td>\n",
       "      <td>...</td>\n",
       "      <td>...</td>\n",
       "      <td>...</td>\n",
       "      <td>...</td>\n",
       "      <td>...</td>\n",
       "    </tr>\n",
       "    <tr>\n",
       "      <th>16589</th>\n",
       "      <td>Bomberman</td>\n",
       "      <td>Wii</td>\n",
       "      <td>2008</td>\n",
       "      <td>Puzzle</td>\n",
       "      <td>0.00</td>\n",
       "      <td>0.00</td>\n",
       "      <td>0.01</td>\n",
       "      <td>0.00</td>\n",
       "      <td>NaN</td>\n",
       "      <td>NaN</td>\n",
       "      <td>NaN</td>\n",
       "      <td>0.01</td>\n",
       "    </tr>\n",
       "    <tr>\n",
       "      <th>16626</th>\n",
       "      <td>The Ultimate Battle of the Sexes</td>\n",
       "      <td>Wii</td>\n",
       "      <td>2010</td>\n",
       "      <td>Misc</td>\n",
       "      <td>0.01</td>\n",
       "      <td>0.00</td>\n",
       "      <td>0.00</td>\n",
       "      <td>0.00</td>\n",
       "      <td>NaN</td>\n",
       "      <td>NaN</td>\n",
       "      <td>T</td>\n",
       "      <td>0.01</td>\n",
       "    </tr>\n",
       "    <tr>\n",
       "      <th>16664</th>\n",
       "      <td>Mahou Sensei Negima!? Neo-Pactio Fight!!</td>\n",
       "      <td>Wii</td>\n",
       "      <td>2007</td>\n",
       "      <td>Fighting</td>\n",
       "      <td>0.00</td>\n",
       "      <td>0.00</td>\n",
       "      <td>0.01</td>\n",
       "      <td>0.00</td>\n",
       "      <td>NaN</td>\n",
       "      <td>NaN</td>\n",
       "      <td>NaN</td>\n",
       "      <td>0.01</td>\n",
       "    </tr>\n",
       "    <tr>\n",
       "      <th>16685</th>\n",
       "      <td>Help Wanted: 50 Wacky Jobs (jp sales)</td>\n",
       "      <td>Wii</td>\n",
       "      <td>2008</td>\n",
       "      <td>Simulation</td>\n",
       "      <td>0.00</td>\n",
       "      <td>0.00</td>\n",
       "      <td>0.01</td>\n",
       "      <td>0.00</td>\n",
       "      <td>NaN</td>\n",
       "      <td>NaN</td>\n",
       "      <td>NaN</td>\n",
       "      <td>0.01</td>\n",
       "    </tr>\n",
       "    <tr>\n",
       "      <th>16686</th>\n",
       "      <td>Yattaman Wii: BikkuriDokkiri Machine de Mou Ra...</td>\n",
       "      <td>Wii</td>\n",
       "      <td>2008</td>\n",
       "      <td>Racing</td>\n",
       "      <td>0.00</td>\n",
       "      <td>0.00</td>\n",
       "      <td>0.01</td>\n",
       "      <td>0.00</td>\n",
       "      <td>NaN</td>\n",
       "      <td>NaN</td>\n",
       "      <td>NaN</td>\n",
       "      <td>0.01</td>\n",
       "    </tr>\n",
       "  </tbody>\n",
       "</table>\n",
       "<p>1320 rows × 12 columns</p>\n",
       "</div>"
      ],
      "text/plain": [
       "                                                    name platform  \\\n",
       "0                                             Wii Sports      Wii   \n",
       "2                                         Mario Kart Wii      Wii   \n",
       "3                                      Wii Sports Resort      Wii   \n",
       "7                                               Wii Play      Wii   \n",
       "8                              New Super Mario Bros. Wii      Wii   \n",
       "...                                                  ...      ...   \n",
       "16589                                          Bomberman      Wii   \n",
       "16626                   The Ultimate Battle of the Sexes      Wii   \n",
       "16664           Mahou Sensei Negima!? Neo-Pactio Fight!!      Wii   \n",
       "16685              Help Wanted: 50 Wacky Jobs (jp sales)      Wii   \n",
       "16686  Yattaman Wii: BikkuriDokkiri Machine de Mou Ra...      Wii   \n",
       "\n",
       "       year_of_release       genre  na_sales  eu_sales  jp_sales  other_sales  \\\n",
       "0                 2006      Sports     41.36     28.96      3.77         8.45   \n",
       "2                 2008      Racing     15.68     12.76      3.79         3.29   \n",
       "3                 2009      Sports     15.61     10.93      3.28         2.95   \n",
       "7                 2006        Misc     13.96      9.18      2.93         2.84   \n",
       "8                 2009    Platform     14.44      6.94      4.70         2.24   \n",
       "...                ...         ...       ...       ...       ...          ...   \n",
       "16589             2008      Puzzle      0.00      0.00      0.01         0.00   \n",
       "16626             2010        Misc      0.01      0.00      0.00         0.00   \n",
       "16664             2007    Fighting      0.00      0.00      0.01         0.00   \n",
       "16685             2008  Simulation      0.00      0.00      0.01         0.00   \n",
       "16686             2008      Racing      0.00      0.00      0.01         0.00   \n",
       "\n",
       "       critic_score  user_score rating  total_sales  \n",
       "0              76.0         8.0      E        82.54  \n",
       "2              82.0         8.3      E        35.52  \n",
       "3              80.0         8.0      E        32.77  \n",
       "7              58.0         6.6      E        28.91  \n",
       "8              87.0         8.4      E        28.32  \n",
       "...             ...         ...    ...          ...  \n",
       "16589           NaN         NaN    NaN         0.01  \n",
       "16626           NaN         NaN      T         0.01  \n",
       "16664           NaN         NaN    NaN         0.01  \n",
       "16685           NaN         NaN    NaN         0.01  \n",
       "16686           NaN         NaN    NaN         0.01  \n",
       "\n",
       "[1320 rows x 12 columns]"
      ]
     },
     "execution_count": 42,
     "metadata": {},
     "output_type": "execute_result"
    }
   ],
   "source": [
    "#Mira cómo las reseñas de usuarios y profesionales afectan las ventas de una plataforma popular:\n",
    "#(Wii= escogi Wii ya que es la plataforma con mayores ventas)\n",
    "\n",
    "wii_games = games_data_raw[games_data_raw['platform'] == 'Wii']\n",
    "wii_games"
   ]
  },
  {
   "cell_type": "code",
   "execution_count": 43,
   "metadata": {},
   "outputs": [
    {
     "data": {
      "text/html": [
       "<div>\n",
       "<style scoped>\n",
       "    .dataframe tbody tr th:only-of-type {\n",
       "        vertical-align: middle;\n",
       "    }\n",
       "\n",
       "    .dataframe tbody tr th {\n",
       "        vertical-align: top;\n",
       "    }\n",
       "\n",
       "    .dataframe thead th {\n",
       "        text-align: right;\n",
       "    }\n",
       "</style>\n",
       "<table border=\"1\" class=\"dataframe\">\n",
       "  <thead>\n",
       "    <tr style=\"text-align: right;\">\n",
       "      <th></th>\n",
       "      <th>name</th>\n",
       "      <th>user_score</th>\n",
       "      <th>critic_score</th>\n",
       "      <th>total_sales</th>\n",
       "    </tr>\n",
       "  </thead>\n",
       "  <tbody>\n",
       "    <tr>\n",
       "      <th>0</th>\n",
       "      <td>Wii Sports</td>\n",
       "      <td>8.0</td>\n",
       "      <td>76.0</td>\n",
       "      <td>82.54</td>\n",
       "    </tr>\n",
       "    <tr>\n",
       "      <th>2</th>\n",
       "      <td>Mario Kart Wii</td>\n",
       "      <td>8.3</td>\n",
       "      <td>82.0</td>\n",
       "      <td>35.52</td>\n",
       "    </tr>\n",
       "    <tr>\n",
       "      <th>3</th>\n",
       "      <td>Wii Sports Resort</td>\n",
       "      <td>8.0</td>\n",
       "      <td>80.0</td>\n",
       "      <td>32.77</td>\n",
       "    </tr>\n",
       "    <tr>\n",
       "      <th>7</th>\n",
       "      <td>Wii Play</td>\n",
       "      <td>6.6</td>\n",
       "      <td>58.0</td>\n",
       "      <td>28.91</td>\n",
       "    </tr>\n",
       "    <tr>\n",
       "      <th>8</th>\n",
       "      <td>New Super Mario Bros. Wii</td>\n",
       "      <td>8.4</td>\n",
       "      <td>87.0</td>\n",
       "      <td>28.32</td>\n",
       "    </tr>\n",
       "    <tr>\n",
       "      <th>...</th>\n",
       "      <td>...</td>\n",
       "      <td>...</td>\n",
       "      <td>...</td>\n",
       "      <td>...</td>\n",
       "    </tr>\n",
       "    <tr>\n",
       "      <th>15116</th>\n",
       "      <td>George of the Jungle and the Search for the Se...</td>\n",
       "      <td>4.0</td>\n",
       "      <td>35.0</td>\n",
       "      <td>0.02</td>\n",
       "    </tr>\n",
       "    <tr>\n",
       "      <th>15163</th>\n",
       "      <td>Line Rider 2: Unbound</td>\n",
       "      <td>6.4</td>\n",
       "      <td>62.0</td>\n",
       "      <td>0.02</td>\n",
       "    </tr>\n",
       "    <tr>\n",
       "      <th>15343</th>\n",
       "      <td>Balls of Fury</td>\n",
       "      <td>2.8</td>\n",
       "      <td>19.0</td>\n",
       "      <td>0.02</td>\n",
       "    </tr>\n",
       "    <tr>\n",
       "      <th>15721</th>\n",
       "      <td>Emergency Mayhem</td>\n",
       "      <td>4.3</td>\n",
       "      <td>40.0</td>\n",
       "      <td>0.02</td>\n",
       "    </tr>\n",
       "    <tr>\n",
       "      <th>16308</th>\n",
       "      <td>Groovin' Blocks</td>\n",
       "      <td>8.5</td>\n",
       "      <td>75.0</td>\n",
       "      <td>0.01</td>\n",
       "    </tr>\n",
       "  </tbody>\n",
       "</table>\n",
       "<p>492 rows × 4 columns</p>\n",
       "</div>"
      ],
      "text/plain": [
       "                                                    name  user_score  \\\n",
       "0                                             Wii Sports         8.0   \n",
       "2                                         Mario Kart Wii         8.3   \n",
       "3                                      Wii Sports Resort         8.0   \n",
       "7                                               Wii Play         6.6   \n",
       "8                              New Super Mario Bros. Wii         8.4   \n",
       "...                                                  ...         ...   \n",
       "15116  George of the Jungle and the Search for the Se...         4.0   \n",
       "15163                              Line Rider 2: Unbound         6.4   \n",
       "15343                                      Balls of Fury         2.8   \n",
       "15721                                   Emergency Mayhem         4.3   \n",
       "16308                                    Groovin' Blocks         8.5   \n",
       "\n",
       "       critic_score  total_sales  \n",
       "0              76.0        82.54  \n",
       "2              82.0        35.52  \n",
       "3              80.0        32.77  \n",
       "7              58.0        28.91  \n",
       "8              87.0        28.32  \n",
       "...             ...          ...  \n",
       "15116          35.0         0.02  \n",
       "15163          62.0         0.02  \n",
       "15343          19.0         0.02  \n",
       "15721          40.0         0.02  \n",
       "16308          75.0         0.01  \n",
       "\n",
       "[492 rows x 4 columns]"
      ]
     },
     "execution_count": 43,
     "metadata": {},
     "output_type": "execute_result"
    }
   ],
   "source": [
    "#Tabla de la relacion entre las: ventas globales y las reseñas de usuarios (User_Score) y de críticos (Critic_Score)\n",
    "\n",
    "tabla_resenas_ventas = wii_games[['name', 'user_score', 'critic_score', 'total_sales']].dropna(subset=['user_score', 'critic_score'])\n",
    "tabla_resenas_ventas"
   ]
  },
  {
   "cell_type": "code",
   "execution_count": 44,
   "metadata": {},
   "outputs": [
    {
     "data": {
      "image/png": "[encoded data removed]",
      "text/plain": [
       "<Figure size 1000x600 with 1 Axes>"
      ]
     },
     "metadata": {},
     "output_type": "display_data"
    }
   ],
   "source": [
    "#Crea un gráfico de dispersión y calcula la correlación entre las reseñas y las ventas. Saca conclusiones.\n",
    "\n",
    "# Gráfico de dispersión para la relación entre ventas y reseñas de usuarios\n",
    "plt.figure(figsize=(10, 6))\n",
    "sns.scatterplot(x='user_score', y='total_sales', data=wii_games)\n",
    "plt.title('Relación entre Reseñas de Usuarios y Ventas Globales en Wii')\n",
    "plt.xlabel('Puntuación de Usuarios')\n",
    "plt.ylabel('Ventas Globales (en millones)')\n",
    "plt.show()"
   ]
  },
  {
   "cell_type": "code",
   "execution_count": 45,
   "metadata": {},
   "outputs": [
    {
     "data": {
      "image/png": "[encoded data removed]",
      "text/plain": [
       "<Figure size 1000x600 with 1 Axes>"
      ]
     },
     "metadata": {},
     "output_type": "display_data"
    }
   ],
   "source": [
    "# Gráfico de dispersión para la relación entre ventas y reseñas de críticos\n",
    "plt.figure(figsize=(10, 6))\n",
    "sns.scatterplot(x='critic_score', y='total_sales', data=wii_games)\n",
    "plt.title('Relación entre Reseñas de Críticos y Ventas Globales en Wii')\n",
    "plt.xlabel('Puntuación de Críticos')\n",
    "plt.ylabel('Ventas Globales (en millones)')\n",
    "plt.show()"
   ]
  },
  {
   "cell_type": "code",
   "execution_count": 46,
   "metadata": {},
   "outputs": [
    {
     "data": {
      "text/html": [
       "<div>\n",
       "<style scoped>\n",
       "    .dataframe tbody tr th:only-of-type {\n",
       "        vertical-align: middle;\n",
       "    }\n",
       "\n",
       "    .dataframe tbody tr th {\n",
       "        vertical-align: top;\n",
       "    }\n",
       "\n",
       "    .dataframe thead th {\n",
       "        text-align: right;\n",
       "    }\n",
       "</style>\n",
       "<table border=\"1\" class=\"dataframe\">\n",
       "  <thead>\n",
       "    <tr style=\"text-align: right;\">\n",
       "      <th></th>\n",
       "      <th>user_score</th>\n",
       "      <th>total_sales</th>\n",
       "    </tr>\n",
       "  </thead>\n",
       "  <tbody>\n",
       "    <tr>\n",
       "      <th>user_score</th>\n",
       "      <td>1.000000</td>\n",
       "      <td>0.112414</td>\n",
       "    </tr>\n",
       "    <tr>\n",
       "      <th>total_sales</th>\n",
       "      <td>0.112414</td>\n",
       "      <td>1.000000</td>\n",
       "    </tr>\n",
       "  </tbody>\n",
       "</table>\n",
       "</div>"
      ],
      "text/plain": [
       "             user_score  total_sales\n",
       "user_score     1.000000     0.112414\n",
       "total_sales    0.112414     1.000000"
      ]
     },
     "execution_count": 46,
     "metadata": {},
     "output_type": "execute_result"
    }
   ],
   "source": [
    "#Calcular la correlacion:Reseña de usuarios\n",
    "correlacion_user_score = wii_games[['user_score', 'total_sales']].corr()\n",
    "correlacion_user_score "
   ]
  },
  {
   "cell_type": "code",
   "execution_count": 47,
   "metadata": {},
   "outputs": [
    {
     "data": {
      "text/html": [
       "<div>\n",
       "<style scoped>\n",
       "    .dataframe tbody tr th:only-of-type {\n",
       "        vertical-align: middle;\n",
       "    }\n",
       "\n",
       "    .dataframe tbody tr th {\n",
       "        vertical-align: top;\n",
       "    }\n",
       "\n",
       "    .dataframe thead th {\n",
       "        text-align: right;\n",
       "    }\n",
       "</style>\n",
       "<table border=\"1\" class=\"dataframe\">\n",
       "  <thead>\n",
       "    <tr style=\"text-align: right;\">\n",
       "      <th></th>\n",
       "      <th>critic_score</th>\n",
       "      <th>total_sales</th>\n",
       "    </tr>\n",
       "  </thead>\n",
       "  <tbody>\n",
       "    <tr>\n",
       "      <th>critic_score</th>\n",
       "      <td>1.00000</td>\n",
       "      <td>0.17756</td>\n",
       "    </tr>\n",
       "    <tr>\n",
       "      <th>total_sales</th>\n",
       "      <td>0.17756</td>\n",
       "      <td>1.00000</td>\n",
       "    </tr>\n",
       "  </tbody>\n",
       "</table>\n",
       "</div>"
      ],
      "text/plain": [
       "              critic_score  total_sales\n",
       "critic_score       1.00000      0.17756\n",
       "total_sales        0.17756      1.00000"
      ]
     },
     "execution_count": 47,
     "metadata": {},
     "output_type": "execute_result"
    }
   ],
   "source": [
    "#Calcular la correlacion: Reseña de criticos\n",
    "correlacion_critic_score = wii_games[['critic_score', 'total_sales']].corr()\n",
    "correlacion_critic_score"
   ]
  },
  {
   "cell_type": "markdown",
   "metadata": {},
   "source": [
    "#En los graficos se puede observar que a relación entre las reseñas de usuarios (eje X) y las ventas globales (eje Y) para los juegos de la plataforma Wii. La mayoria de las reseñas de usuarios estan entre 4 y 8, las reseñas con calificacion 7 y 8 las ventas son altas, lo que significa que si el usuario coloco una reseña positiva, es directamente porporcional al aumento de las ventas.\n",
    "\n",
    "En cuanto al gráfico de reseñas de criticos la puntuación va desde los 30 a los 90, siendo 75 y 80 la calificación predominante, en donde se obtuvieron ventas muy altas. \n",
    "\n",
    "Con respecto a la correlación entre las reseña y las ventas se puede interpretar que la aunque la correlación es positiva y cerca de cero (mayores reseñas tienden a estar asociadas con mayores ventas), el valor es muy bajo, lo que sugiere que la influencia de las reseñas de usuarios en las ventas es mínima o casi inexistente."
   ]
  },
  {
   "cell_type": "code",
   "execution_count": 48,
   "metadata": {},
   "outputs": [
    {
     "data": {
      "text/html": [
       "<div>\n",
       "<style scoped>\n",
       "    .dataframe tbody tr th:only-of-type {\n",
       "        vertical-align: middle;\n",
       "    }\n",
       "\n",
       "    .dataframe tbody tr th {\n",
       "        vertical-align: top;\n",
       "    }\n",
       "\n",
       "    .dataframe thead th {\n",
       "        text-align: right;\n",
       "    }\n",
       "</style>\n",
       "<table border=\"1\" class=\"dataframe\">\n",
       "  <thead>\n",
       "    <tr style=\"text-align: right;\">\n",
       "      <th></th>\n",
       "      <th>Género</th>\n",
       "      <th>Cantidad de Juegos</th>\n",
       "    </tr>\n",
       "  </thead>\n",
       "  <tbody>\n",
       "    <tr>\n",
       "      <th>0</th>\n",
       "      <td>Action</td>\n",
       "      <td>3369</td>\n",
       "    </tr>\n",
       "    <tr>\n",
       "      <th>1</th>\n",
       "      <td>Sports</td>\n",
       "      <td>2348</td>\n",
       "    </tr>\n",
       "    <tr>\n",
       "      <th>2</th>\n",
       "      <td>Misc</td>\n",
       "      <td>1750</td>\n",
       "    </tr>\n",
       "    <tr>\n",
       "      <th>3</th>\n",
       "      <td>Role-Playing</td>\n",
       "      <td>1498</td>\n",
       "    </tr>\n",
       "    <tr>\n",
       "      <th>4</th>\n",
       "      <td>Shooter</td>\n",
       "      <td>1323</td>\n",
       "    </tr>\n",
       "    <tr>\n",
       "      <th>5</th>\n",
       "      <td>Adventure</td>\n",
       "      <td>1303</td>\n",
       "    </tr>\n",
       "    <tr>\n",
       "      <th>6</th>\n",
       "      <td>Racing</td>\n",
       "      <td>1249</td>\n",
       "    </tr>\n",
       "    <tr>\n",
       "      <th>7</th>\n",
       "      <td>Platform</td>\n",
       "      <td>888</td>\n",
       "    </tr>\n",
       "    <tr>\n",
       "      <th>8</th>\n",
       "      <td>Simulation</td>\n",
       "      <td>873</td>\n",
       "    </tr>\n",
       "    <tr>\n",
       "      <th>9</th>\n",
       "      <td>Fighting</td>\n",
       "      <td>849</td>\n",
       "    </tr>\n",
       "    <tr>\n",
       "      <th>10</th>\n",
       "      <td>Strategy</td>\n",
       "      <td>683</td>\n",
       "    </tr>\n",
       "    <tr>\n",
       "      <th>11</th>\n",
       "      <td>Puzzle</td>\n",
       "      <td>580</td>\n",
       "    </tr>\n",
       "  </tbody>\n",
       "</table>\n",
       "</div>"
      ],
      "text/plain": [
       "          Género  Cantidad de Juegos\n",
       "0         Action                3369\n",
       "1         Sports                2348\n",
       "2           Misc                1750\n",
       "3   Role-Playing                1498\n",
       "4        Shooter                1323\n",
       "5      Adventure                1303\n",
       "6         Racing                1249\n",
       "7       Platform                 888\n",
       "8     Simulation                 873\n",
       "9       Fighting                 849\n",
       "10      Strategy                 683\n",
       "11        Puzzle                 580"
      ]
     },
     "execution_count": 48,
     "metadata": {},
     "output_type": "execute_result"
    }
   ],
   "source": [
    "#Echa un vistazo a la distribución general de los juegos por género. \n",
    "#¿Qué se puede decir de los géneros más rentables? ¿Puedes generalizar acerca de los géneros con ventas altas y bajas?\n",
    "\n",
    "# Contar la cantidad de juegos por género\n",
    "juegos_por_genero = games_data_raw['genre'].value_counts().reset_index()\n",
    "juegos_por_genero.columns = ['Género', 'Cantidad de Juegos']\n",
    "juegos_por_genero"
   ]
  },
  {
   "cell_type": "code",
   "execution_count": 49,
   "metadata": {},
   "outputs": [
    {
     "data": {
      "text/html": [
       "<div>\n",
       "<style scoped>\n",
       "    .dataframe tbody tr th:only-of-type {\n",
       "        vertical-align: middle;\n",
       "    }\n",
       "\n",
       "    .dataframe tbody tr th {\n",
       "        vertical-align: top;\n",
       "    }\n",
       "\n",
       "    .dataframe thead th {\n",
       "        text-align: right;\n",
       "    }\n",
       "</style>\n",
       "<table border=\"1\" class=\"dataframe\">\n",
       "  <thead>\n",
       "    <tr style=\"text-align: right;\">\n",
       "      <th></th>\n",
       "      <th>Género</th>\n",
       "      <th>Ventas Globales (en millones)</th>\n",
       "    </tr>\n",
       "  </thead>\n",
       "  <tbody>\n",
       "    <tr>\n",
       "      <th>0</th>\n",
       "      <td>Action</td>\n",
       "      <td>1744.17</td>\n",
       "    </tr>\n",
       "    <tr>\n",
       "      <th>1</th>\n",
       "      <td>Sports</td>\n",
       "      <td>1331.27</td>\n",
       "    </tr>\n",
       "    <tr>\n",
       "      <th>2</th>\n",
       "      <td>Shooter</td>\n",
       "      <td>1052.45</td>\n",
       "    </tr>\n",
       "    <tr>\n",
       "      <th>3</th>\n",
       "      <td>Role-Playing</td>\n",
       "      <td>934.56</td>\n",
       "    </tr>\n",
       "    <tr>\n",
       "      <th>4</th>\n",
       "      <td>Platform</td>\n",
       "      <td>827.77</td>\n",
       "    </tr>\n",
       "    <tr>\n",
       "      <th>5</th>\n",
       "      <td>Misc</td>\n",
       "      <td>802.51</td>\n",
       "    </tr>\n",
       "    <tr>\n",
       "      <th>6</th>\n",
       "      <td>Racing</td>\n",
       "      <td>728.67</td>\n",
       "    </tr>\n",
       "    <tr>\n",
       "      <th>7</th>\n",
       "      <td>Fighting</td>\n",
       "      <td>447.53</td>\n",
       "    </tr>\n",
       "    <tr>\n",
       "      <th>8</th>\n",
       "      <td>Simulation</td>\n",
       "      <td>389.97</td>\n",
       "    </tr>\n",
       "    <tr>\n",
       "      <th>9</th>\n",
       "      <td>Puzzle</td>\n",
       "      <td>242.57</td>\n",
       "    </tr>\n",
       "    <tr>\n",
       "      <th>10</th>\n",
       "      <td>Adventure</td>\n",
       "      <td>237.59</td>\n",
       "    </tr>\n",
       "    <tr>\n",
       "      <th>11</th>\n",
       "      <td>Strategy</td>\n",
       "      <td>174.23</td>\n",
       "    </tr>\n",
       "  </tbody>\n",
       "</table>\n",
       "</div>"
      ],
      "text/plain": [
       "          Género  Ventas Globales (en millones)\n",
       "0         Action                        1744.17\n",
       "1         Sports                        1331.27\n",
       "2        Shooter                        1052.45\n",
       "3   Role-Playing                         934.56\n",
       "4       Platform                         827.77\n",
       "5           Misc                         802.51\n",
       "6         Racing                         728.67\n",
       "7       Fighting                         447.53\n",
       "8     Simulation                         389.97\n",
       "9         Puzzle                         242.57\n",
       "10     Adventure                         237.59\n",
       "11      Strategy                         174.23"
      ]
     },
     "execution_count": 49,
     "metadata": {},
     "output_type": "execute_result"
    }
   ],
   "source": [
    "#Calcular las ventas por genero\n",
    "\n",
    "ventas_por_genero = games_data_raw.groupby('genre')['total_sales'].sum().sort_values(ascending=False).reset_index()\n",
    "ventas_por_genero.columns = ['Género', 'Ventas Globales (en millones)']\n",
    "ventas_por_genero"
   ]
  },
  {
   "cell_type": "code",
   "execution_count": 50,
   "metadata": {},
   "outputs": [
    {
     "name": "stdout",
     "output_type": "stream",
     "text": [
      "          Género  Cantidad de Juegos  Ventas Globales (en millones)\n",
      "0         Action                3369                        1744.17\n",
      "1         Sports                2348                        1331.27\n",
      "2           Misc                1750                         802.51\n",
      "3   Role-Playing                1498                         934.56\n",
      "4        Shooter                1323                        1052.45\n",
      "5      Adventure                1303                         237.59\n",
      "6         Racing                1249                         728.67\n",
      "7       Platform                 888                         827.77\n",
      "8     Simulation                 873                         389.97\n",
      "9       Fighting                 849                         447.53\n",
      "10      Strategy                 683                         174.23\n",
      "11        Puzzle                 580                         242.57\n"
     ]
    }
   ],
   "source": [
    "# Combinar ambas tablas\n",
    "juegos_y_ventas_por_genero = pd.merge(juegos_por_genero, ventas_por_genero, on='Género')\n",
    "print(juegos_y_ventas_por_genero)"
   ]
  },
  {
   "cell_type": "code",
   "execution_count": 51,
   "metadata": {
    "scrolled": false
   },
   "outputs": [
    {
     "data": {
      "image/png": "[encoded data removed]",
      "text/plain": [
       "<Figure size 1000x600 with 1 Axes>"
      ]
     },
     "metadata": {},
     "output_type": "display_data"
    }
   ],
   "source": [
    "import seaborn as sns\n",
    "import matplotlib.pyplot as plt\n",
    "\n",
    "# Crear gráfico de cantidad de juegos por género\n",
    "plt.figure(figsize=(10,6))\n",
    "sns.barplot(x='Cantidad de Juegos', y='Género', data=juegos_por_genero, palette=\"viridis\")\n",
    "plt.title('Cantidad de Juegos por Género')\n",
    "plt.xlabel('Cantidad de Juegos')\n",
    "plt.ylabel('Género')\n",
    "plt.show()"
   ]
  },
  {
   "cell_type": "code",
   "execution_count": 52,
   "metadata": {},
   "outputs": [
    {
     "data": {
      "image/png": "[encoded data removed]",
      "text/plain": [
       "<Figure size 1000x600 with 1 Axes>"
      ]
     },
     "metadata": {},
     "output_type": "display_data"
    }
   ],
   "source": [
    "# Crear gráfico de ventas globales por género\n",
    "plt.figure(figsize=(10,6))\n",
    "sns.barplot(x='Ventas Globales (en millones)', y='Género', data=ventas_por_genero, palette=\"magma\")\n",
    "plt.title('Ventas Globales por Género')\n",
    "plt.xlabel('Ventas Globales (en millones)')\n",
    "plt.ylabel('Género')\n",
    "plt.show()"
   ]
  },
  {
   "cell_type": "markdown",
   "metadata": {},
   "source": [
    "Con la tabla anterior y las graficas se puede interpretar que los primeros 5 generos con mayor cantidad de juegos, son los que traen las mayores ventas a la compañia (Action, Sports, Misc, Role-playing y Shooter). El genero màs rentable es Action. Es importante resaltar que para las proximas estrategias se enfoquen no solo en crear juegos para los generos con mayor rentabilidad sino tambien con esta grafica de ventas se observa que hay una gran oportunidad para potencializar juegos poco rentables en el mercado."
   ]
  },
  {
   "cell_type": "markdown",
   "metadata": {},
   "source": [
    "## Paso 4. Crea un perfil de usuario para cada región"
   ]
  },
  {
   "cell_type": "markdown",
   "metadata": {},
   "source": [
    "Cinco principales plataformas por región:\n",
    "REGIÒN NORTEAMERICA"
   ]
  },
  {
   "cell_type": "code",
   "execution_count": 53,
   "metadata": {},
   "outputs": [
    {
     "data": {
      "text/html": [
       "<div>\n",
       "<style scoped>\n",
       "    .dataframe tbody tr th:only-of-type {\n",
       "        vertical-align: middle;\n",
       "    }\n",
       "\n",
       "    .dataframe tbody tr th {\n",
       "        vertical-align: top;\n",
       "    }\n",
       "\n",
       "    .dataframe thead th {\n",
       "        text-align: right;\n",
       "    }\n",
       "</style>\n",
       "<table border=\"1\" class=\"dataframe\">\n",
       "  <thead>\n",
       "    <tr style=\"text-align: right;\">\n",
       "      <th></th>\n",
       "      <th>Plataforma</th>\n",
       "      <th>Ventas en NA (millones)</th>\n",
       "    </tr>\n",
       "  </thead>\n",
       "  <tbody>\n",
       "    <tr>\n",
       "      <th>0</th>\n",
       "      <td>X360</td>\n",
       "      <td>602.47</td>\n",
       "    </tr>\n",
       "    <tr>\n",
       "      <th>1</th>\n",
       "      <td>PS2</td>\n",
       "      <td>583.84</td>\n",
       "    </tr>\n",
       "    <tr>\n",
       "      <th>2</th>\n",
       "      <td>Wii</td>\n",
       "      <td>496.90</td>\n",
       "    </tr>\n",
       "    <tr>\n",
       "      <th>3</th>\n",
       "      <td>PS3</td>\n",
       "      <td>393.49</td>\n",
       "    </tr>\n",
       "    <tr>\n",
       "      <th>4</th>\n",
       "      <td>DS</td>\n",
       "      <td>382.40</td>\n",
       "    </tr>\n",
       "  </tbody>\n",
       "</table>\n",
       "</div>"
      ],
      "text/plain": [
       "  Plataforma  Ventas en NA (millones)\n",
       "0       X360                   602.47\n",
       "1        PS2                   583.84\n",
       "2        Wii                   496.90\n",
       "3        PS3                   393.49\n",
       "4         DS                   382.40"
      ]
     },
     "execution_count": 53,
     "metadata": {},
     "output_type": "execute_result"
    }
   ],
   "source": [
    "top_platforms_na = games_data_raw.groupby('platform')['na_sales'].sum().sort_values(ascending=False).head(5).reset_index()\n",
    "top_platforms_na.columns = ['Plataforma', 'Ventas en NA (millones)']\n",
    "top_platforms_na"
   ]
  },
  {
   "cell_type": "markdown",
   "metadata": {},
   "source": [
    "Cinco principales plataformas por región: REGIÒN EUROPA"
   ]
  },
  {
   "cell_type": "code",
   "execution_count": 54,
   "metadata": {},
   "outputs": [
    {
     "data": {
      "text/html": [
       "<div>\n",
       "<style scoped>\n",
       "    .dataframe tbody tr th:only-of-type {\n",
       "        vertical-align: middle;\n",
       "    }\n",
       "\n",
       "    .dataframe tbody tr th {\n",
       "        vertical-align: top;\n",
       "    }\n",
       "\n",
       "    .dataframe thead th {\n",
       "        text-align: right;\n",
       "    }\n",
       "</style>\n",
       "<table border=\"1\" class=\"dataframe\">\n",
       "  <thead>\n",
       "    <tr style=\"text-align: right;\">\n",
       "      <th></th>\n",
       "      <th>Plataforma</th>\n",
       "      <th>Ventas en EU (millones)</th>\n",
       "    </tr>\n",
       "  </thead>\n",
       "  <tbody>\n",
       "    <tr>\n",
       "      <th>0</th>\n",
       "      <td>PS2</td>\n",
       "      <td>339.29</td>\n",
       "    </tr>\n",
       "    <tr>\n",
       "      <th>1</th>\n",
       "      <td>PS3</td>\n",
       "      <td>330.29</td>\n",
       "    </tr>\n",
       "    <tr>\n",
       "      <th>2</th>\n",
       "      <td>X360</td>\n",
       "      <td>270.76</td>\n",
       "    </tr>\n",
       "    <tr>\n",
       "      <th>3</th>\n",
       "      <td>Wii</td>\n",
       "      <td>262.21</td>\n",
       "    </tr>\n",
       "    <tr>\n",
       "      <th>4</th>\n",
       "      <td>PS</td>\n",
       "      <td>213.61</td>\n",
       "    </tr>\n",
       "  </tbody>\n",
       "</table>\n",
       "</div>"
      ],
      "text/plain": [
       "  Plataforma  Ventas en EU (millones)\n",
       "0        PS2                   339.29\n",
       "1        PS3                   330.29\n",
       "2       X360                   270.76\n",
       "3        Wii                   262.21\n",
       "4         PS                   213.61"
      ]
     },
     "execution_count": 54,
     "metadata": {},
     "output_type": "execute_result"
    }
   ],
   "source": [
    "top_platforms_eu = games_data_raw.groupby('platform')['eu_sales'].sum().sort_values(ascending=False).head(5).reset_index()\n",
    "top_platforms_eu.columns = ['Plataforma', 'Ventas en EU (millones)']\n",
    "top_platforms_eu"
   ]
  },
  {
   "cell_type": "markdown",
   "metadata": {},
   "source": [
    "Cinco principales plataformas por región: REGIÒN JAPÒN"
   ]
  },
  {
   "cell_type": "code",
   "execution_count": 55,
   "metadata": {},
   "outputs": [
    {
     "data": {
      "text/html": [
       "<div>\n",
       "<style scoped>\n",
       "    .dataframe tbody tr th:only-of-type {\n",
       "        vertical-align: middle;\n",
       "    }\n",
       "\n",
       "    .dataframe tbody tr th {\n",
       "        vertical-align: top;\n",
       "    }\n",
       "\n",
       "    .dataframe thead th {\n",
       "        text-align: right;\n",
       "    }\n",
       "</style>\n",
       "<table border=\"1\" class=\"dataframe\">\n",
       "  <thead>\n",
       "    <tr style=\"text-align: right;\">\n",
       "      <th></th>\n",
       "      <th>Plataforma</th>\n",
       "      <th>Ventas en JP (millones)</th>\n",
       "    </tr>\n",
       "  </thead>\n",
       "  <tbody>\n",
       "    <tr>\n",
       "      <th>0</th>\n",
       "      <td>DS</td>\n",
       "      <td>175.57</td>\n",
       "    </tr>\n",
       "    <tr>\n",
       "      <th>1</th>\n",
       "      <td>PS</td>\n",
       "      <td>139.82</td>\n",
       "    </tr>\n",
       "    <tr>\n",
       "      <th>2</th>\n",
       "      <td>PS2</td>\n",
       "      <td>139.20</td>\n",
       "    </tr>\n",
       "    <tr>\n",
       "      <th>3</th>\n",
       "      <td>SNES</td>\n",
       "      <td>116.55</td>\n",
       "    </tr>\n",
       "    <tr>\n",
       "      <th>4</th>\n",
       "      <td>3DS</td>\n",
       "      <td>100.67</td>\n",
       "    </tr>\n",
       "  </tbody>\n",
       "</table>\n",
       "</div>"
      ],
      "text/plain": [
       "  Plataforma  Ventas en JP (millones)\n",
       "0         DS                   175.57\n",
       "1         PS                   139.82\n",
       "2        PS2                   139.20\n",
       "3       SNES                   116.55\n",
       "4        3DS                   100.67"
      ]
     },
     "execution_count": 55,
     "metadata": {},
     "output_type": "execute_result"
    }
   ],
   "source": [
    "top_platforms_jp = games_data_raw.groupby('platform')['jp_sales'].sum().sort_values(ascending=False).head(5).reset_index()\n",
    "top_platforms_jp.columns = ['Plataforma', 'Ventas en JP (millones)']\n",
    "top_platforms_jp"
   ]
  },
  {
   "cell_type": "code",
   "execution_count": 56,
   "metadata": {},
   "outputs": [],
   "source": [
    "#Visualización de la cuota de mercado por plataforma en cada región:\n",
    "#Para ver las variaciones en las cuotas de mercado, podemos graficar las ventas de las principales plataformas en cada región."
   ]
  },
  {
   "cell_type": "code",
   "execution_count": 57,
   "metadata": {},
   "outputs": [
    {
     "data": {
      "image/png": "[encoded data removed]",
      "text/plain": [
       "<Figure size 1000x600 with 1 Axes>"
      ]
     },
     "metadata": {},
     "output_type": "display_data"
    },
    {
     "data": {
      "image/png": "[encoded data removed]",
      "text/plain": [
       "<Figure size 1000x600 with 1 Axes>"
      ]
     },
     "metadata": {},
     "output_type": "display_data"
    },
    {
     "data": {
      "image/png": "[encoded data removed]",
      "text/plain": [
       "<Figure size 1000x600 with 1 Axes>"
      ]
     },
     "metadata": {},
     "output_type": "display_data"
    }
   ],
   "source": [
    "# Importar librerías necesarias\n",
    "import matplotlib.pyplot as plt\n",
    "import seaborn as sns\n",
    "\n",
    "# Gráfico de barras para las 5 plataformas principales en NA\n",
    "plt.figure(figsize=(10,6))\n",
    "sns.barplot(x='Plataforma', y='Ventas en NA (millones)', data=top_platforms_na, palette='Blues_d')\n",
    "plt.title('Top 5 Plataformas en Norteamérica (NA)')\n",
    "plt.xlabel('Plataforma')\n",
    "plt.ylabel('Ventas (millones)')\n",
    "plt.show()\n",
    "\n",
    "# Gráfico de barras para las 5 plataformas principales en EU\n",
    "plt.figure(figsize=(10,6))\n",
    "sns.barplot(x='Plataforma', y='Ventas en EU (millones)', data=top_platforms_eu, palette='Greens_d')\n",
    "plt.title('Top 5 Plataformas en Europa (EU)')\n",
    "plt.xlabel('Plataforma')\n",
    "plt.ylabel('Ventas (millones)')\n",
    "plt.show()\n",
    "\n",
    "# Gráfico de barras para las 5 plataformas principales en JP\n",
    "plt.figure(figsize=(10,6))\n",
    "sns.barplot(x='Plataforma', y='Ventas en JP (millones)', data=top_platforms_jp, palette='Reds_d')\n",
    "plt.title('Top 5 Plataformas en Japón (JP)')\n",
    "plt.xlabel('Plataforma')\n",
    "plt.ylabel('Ventas (millones)')\n",
    "plt.show()"
   ]
  },
  {
   "cell_type": "markdown",
   "metadata": {},
   "source": [
    "Al realizar este análisis y con la ayuda de las gràficas,  podremos identificar  las variaciones en las preferencias de plataformas y géneros en cada región. Norteamerica es la regiòn con mayores ventas de la compañia, especificamente en la platafomra X360, seguido de Europa con la plataforma PS2 y Japòn con la plataforma DS. Las diferencias de los datos obtenidos de las 3 regiones de las plataformas de juegos se da en gran medida debido a las preferencias culturales y de mercado de las regiones, no es lo mismo lo que va a escoger jugar un Norteamericano que un Japones por ejemplo. "
   ]
  },
  {
   "cell_type": "markdown",
   "metadata": {},
   "source": [
    "Los cinco géneros principales en cada regiòn:"
   ]
  },
  {
   "cell_type": "markdown",
   "metadata": {},
   "source": [
    "Generos en NORTEAMERICA"
   ]
  },
  {
   "cell_type": "code",
   "execution_count": 58,
   "metadata": {},
   "outputs": [
    {
     "data": {
      "text/html": [
       "<div>\n",
       "<style scoped>\n",
       "    .dataframe tbody tr th:only-of-type {\n",
       "        vertical-align: middle;\n",
       "    }\n",
       "\n",
       "    .dataframe tbody tr th {\n",
       "        vertical-align: top;\n",
       "    }\n",
       "\n",
       "    .dataframe thead th {\n",
       "        text-align: right;\n",
       "    }\n",
       "</style>\n",
       "<table border=\"1\" class=\"dataframe\">\n",
       "  <thead>\n",
       "    <tr style=\"text-align: right;\">\n",
       "      <th></th>\n",
       "      <th>Género</th>\n",
       "      <th>Ventas en NA (millones)</th>\n",
       "    </tr>\n",
       "  </thead>\n",
       "  <tbody>\n",
       "    <tr>\n",
       "      <th>0</th>\n",
       "      <td>Action</td>\n",
       "      <td>879.01</td>\n",
       "    </tr>\n",
       "    <tr>\n",
       "      <th>1</th>\n",
       "      <td>Sports</td>\n",
       "      <td>684.43</td>\n",
       "    </tr>\n",
       "    <tr>\n",
       "      <th>2</th>\n",
       "      <td>Shooter</td>\n",
       "      <td>592.24</td>\n",
       "    </tr>\n",
       "    <tr>\n",
       "      <th>3</th>\n",
       "      <td>Platform</td>\n",
       "      <td>445.50</td>\n",
       "    </tr>\n",
       "    <tr>\n",
       "      <th>4</th>\n",
       "      <td>Misc</td>\n",
       "      <td>407.27</td>\n",
       "    </tr>\n",
       "  </tbody>\n",
       "</table>\n",
       "</div>"
      ],
      "text/plain": [
       "     Género  Ventas en NA (millones)\n",
       "0    Action                   879.01\n",
       "1    Sports                   684.43\n",
       "2   Shooter                   592.24\n",
       "3  Platform                   445.50\n",
       "4      Misc                   407.27"
      ]
     },
     "execution_count": 58,
     "metadata": {},
     "output_type": "execute_result"
    }
   ],
   "source": [
    "top_genres_na = games_data_raw.groupby('genre')['na_sales'].sum().sort_values(ascending=False).head(5).reset_index()\n",
    "top_genres_na.columns = ['Género', 'Ventas en NA (millones)']\n",
    "top_genres_na"
   ]
  },
  {
   "cell_type": "markdown",
   "metadata": {},
   "source": [
    "Generos en Europa"
   ]
  },
  {
   "cell_type": "code",
   "execution_count": 59,
   "metadata": {},
   "outputs": [
    {
     "data": {
      "text/html": [
       "<div>\n",
       "<style scoped>\n",
       "    .dataframe tbody tr th:only-of-type {\n",
       "        vertical-align: middle;\n",
       "    }\n",
       "\n",
       "    .dataframe tbody tr th {\n",
       "        vertical-align: top;\n",
       "    }\n",
       "\n",
       "    .dataframe thead th {\n",
       "        text-align: right;\n",
       "    }\n",
       "</style>\n",
       "<table border=\"1\" class=\"dataframe\">\n",
       "  <thead>\n",
       "    <tr style=\"text-align: right;\">\n",
       "      <th></th>\n",
       "      <th>Género</th>\n",
       "      <th>Ventas en EU (millones)</th>\n",
       "    </tr>\n",
       "  </thead>\n",
       "  <tbody>\n",
       "    <tr>\n",
       "      <th>0</th>\n",
       "      <td>Action</td>\n",
       "      <td>519.13</td>\n",
       "    </tr>\n",
       "    <tr>\n",
       "      <th>1</th>\n",
       "      <td>Sports</td>\n",
       "      <td>376.79</td>\n",
       "    </tr>\n",
       "    <tr>\n",
       "      <th>2</th>\n",
       "      <td>Shooter</td>\n",
       "      <td>317.34</td>\n",
       "    </tr>\n",
       "    <tr>\n",
       "      <th>3</th>\n",
       "      <td>Racing</td>\n",
       "      <td>236.51</td>\n",
       "    </tr>\n",
       "    <tr>\n",
       "      <th>4</th>\n",
       "      <td>Misc</td>\n",
       "      <td>212.74</td>\n",
       "    </tr>\n",
       "  </tbody>\n",
       "</table>\n",
       "</div>"
      ],
      "text/plain": [
       "    Género  Ventas en EU (millones)\n",
       "0   Action                   519.13\n",
       "1   Sports                   376.79\n",
       "2  Shooter                   317.34\n",
       "3   Racing                   236.51\n",
       "4     Misc                   212.74"
      ]
     },
     "execution_count": 59,
     "metadata": {},
     "output_type": "execute_result"
    }
   ],
   "source": [
    "top_genres_eu = games_data_raw.groupby('genre')['eu_sales'].sum().sort_values(ascending=False).head(5).reset_index()\n",
    "top_genres_eu.columns = ['Género', 'Ventas en EU (millones)']\n",
    "top_genres_eu"
   ]
  },
  {
   "cell_type": "markdown",
   "metadata": {},
   "source": [
    "Generos en Japon"
   ]
  },
  {
   "cell_type": "code",
   "execution_count": 60,
   "metadata": {},
   "outputs": [
    {
     "data": {
      "text/html": [
       "<div>\n",
       "<style scoped>\n",
       "    .dataframe tbody tr th:only-of-type {\n",
       "        vertical-align: middle;\n",
       "    }\n",
       "\n",
       "    .dataframe tbody tr th {\n",
       "        vertical-align: top;\n",
       "    }\n",
       "\n",
       "    .dataframe thead th {\n",
       "        text-align: right;\n",
       "    }\n",
       "</style>\n",
       "<table border=\"1\" class=\"dataframe\">\n",
       "  <thead>\n",
       "    <tr style=\"text-align: right;\">\n",
       "      <th></th>\n",
       "      <th>Género</th>\n",
       "      <th>Ventas en JP (millones)</th>\n",
       "    </tr>\n",
       "  </thead>\n",
       "  <tbody>\n",
       "    <tr>\n",
       "      <th>0</th>\n",
       "      <td>Role-Playing</td>\n",
       "      <td>355.41</td>\n",
       "    </tr>\n",
       "    <tr>\n",
       "      <th>1</th>\n",
       "      <td>Action</td>\n",
       "      <td>161.43</td>\n",
       "    </tr>\n",
       "    <tr>\n",
       "      <th>2</th>\n",
       "      <td>Sports</td>\n",
       "      <td>135.54</td>\n",
       "    </tr>\n",
       "    <tr>\n",
       "      <th>3</th>\n",
       "      <td>Platform</td>\n",
       "      <td>130.83</td>\n",
       "    </tr>\n",
       "    <tr>\n",
       "      <th>4</th>\n",
       "      <td>Misc</td>\n",
       "      <td>108.11</td>\n",
       "    </tr>\n",
       "  </tbody>\n",
       "</table>\n",
       "</div>"
      ],
      "text/plain": [
       "         Género  Ventas en JP (millones)\n",
       "0  Role-Playing                   355.41\n",
       "1        Action                   161.43\n",
       "2        Sports                   135.54\n",
       "3      Platform                   130.83\n",
       "4          Misc                   108.11"
      ]
     },
     "execution_count": 60,
     "metadata": {},
     "output_type": "execute_result"
    }
   ],
   "source": [
    "top_genres_jp = games_data_raw.groupby('genre')['jp_sales'].sum().sort_values(ascending=False).head(5).reset_index()\n",
    "top_genres_jp.columns = ['Género', 'Ventas en JP (millones)']\n",
    "top_genres_jp"
   ]
  },
  {
   "cell_type": "code",
   "execution_count": 61,
   "metadata": {},
   "outputs": [
    {
     "data": {
      "image/png": "[encoded data removed]",
      "text/plain": [
       "<Figure size 1000x600 with 1 Axes>"
      ]
     },
     "metadata": {},
     "output_type": "display_data"
    },
    {
     "data": {
      "image/png": "[encoded data removed]",
      "text/plain": [
       "<Figure size 1000x600 with 1 Axes>"
      ]
     },
     "metadata": {},
     "output_type": "display_data"
    },
    {
     "data": {
      "image/png": "[encoded data removed]",
      "text/plain": [
       "<Figure size 1000x600 with 1 Axes>"
      ]
     },
     "metadata": {},
     "output_type": "display_data"
    }
   ],
   "source": [
    "# Gráfico de barras para los 5 géneros principales en NA\n",
    "plt.figure(figsize=(10,6))\n",
    "sns.barplot(x='Género', y='Ventas en NA (millones)', data=top_genres_na, palette='Blues_d')\n",
    "plt.title('Top 5 Géneros en Norteamérica (NA)')\n",
    "plt.xlabel('Género')\n",
    "plt.ylabel('Ventas (millones)')\n",
    "plt.show()\n",
    "\n",
    "# Gráfico de barras para los 5 géneros principales en EU\n",
    "plt.figure(figsize=(10,6))\n",
    "sns.barplot(x='Género', y='Ventas en EU (millones)', data=top_genres_eu, palette='Greens_d')\n",
    "plt.title('Top 5 Géneros en Europa (EU)')\n",
    "plt.xlabel('Género')\n",
    "plt.ylabel('Ventas (millones)')\n",
    "plt.show()\n",
    "\n",
    "# Gráfico de barras para los 5 géneros principales en JP\n",
    "plt.figure(figsize=(10,6))\n",
    "sns.barplot(x='Género', y='Ventas en JP (millones)', data=top_genres_jp, palette='Reds_d')\n",
    "plt.title('Top 5 Géneros en Japón (JP)')\n",
    "plt.xlabel('Género')\n",
    "plt.ylabel('Ventas (millones)')\n",
    "plt.show()"
   ]
  },
  {
   "cell_type": "markdown",
   "metadata": {},
   "source": [
    "Con las tablas y los gràficos de los generos por regiones se puede identificar que si bien Norteamerica es la region con mayores ventas de la compañia, los generos varian en las regiones, tanto NOrteamerica como Europa tienen gran similitus en los 3 primeros generos: Action, Sports, Shoorter y esto es debido a que como culturas mas similiares que las culturas Asiaticas, las cuales prefieren otro tipo de juegos y generos como Role-Playing con mayores ventas en esta region. "
   ]
  },
  {
   "cell_type": "code",
   "execution_count": 62,
   "metadata": {},
   "outputs": [],
   "source": [
    "#Si las clasificaciones de ESRB afectan a las ventas en regiones individuales.\n",
    "\n",
    "#Agrupar las ventas por clasificación ESRB  (Entertainment Software Rating Board) y región:"
   ]
  },
  {
   "cell_type": "markdown",
   "metadata": {},
   "source": [
    "Region NORTEAMERICA"
   ]
  },
  {
   "cell_type": "code",
   "execution_count": 63,
   "metadata": {},
   "outputs": [
    {
     "data": {
      "text/html": [
       "<div>\n",
       "<style scoped>\n",
       "    .dataframe tbody tr th:only-of-type {\n",
       "        vertical-align: middle;\n",
       "    }\n",
       "\n",
       "    .dataframe tbody tr th {\n",
       "        vertical-align: top;\n",
       "    }\n",
       "\n",
       "    .dataframe thead th {\n",
       "        text-align: right;\n",
       "    }\n",
       "</style>\n",
       "<table border=\"1\" class=\"dataframe\">\n",
       "  <thead>\n",
       "    <tr style=\"text-align: right;\">\n",
       "      <th></th>\n",
       "      <th>rating</th>\n",
       "      <th>na_sales</th>\n",
       "    </tr>\n",
       "  </thead>\n",
       "  <tbody>\n",
       "    <tr>\n",
       "      <th>1</th>\n",
       "      <td>E</td>\n",
       "      <td>1292.99</td>\n",
       "    </tr>\n",
       "    <tr>\n",
       "      <th>7</th>\n",
       "      <td>T</td>\n",
       "      <td>759.75</td>\n",
       "    </tr>\n",
       "    <tr>\n",
       "      <th>5</th>\n",
       "      <td>M</td>\n",
       "      <td>748.48</td>\n",
       "    </tr>\n",
       "    <tr>\n",
       "      <th>2</th>\n",
       "      <td>E10+</td>\n",
       "      <td>353.32</td>\n",
       "    </tr>\n",
       "    <tr>\n",
       "      <th>4</th>\n",
       "      <td>K-A</td>\n",
       "      <td>2.56</td>\n",
       "    </tr>\n",
       "    <tr>\n",
       "      <th>3</th>\n",
       "      <td>EC</td>\n",
       "      <td>1.53</td>\n",
       "    </tr>\n",
       "    <tr>\n",
       "      <th>0</th>\n",
       "      <td>AO</td>\n",
       "      <td>1.26</td>\n",
       "    </tr>\n",
       "    <tr>\n",
       "      <th>6</th>\n",
       "      <td>RP</td>\n",
       "      <td>0.00</td>\n",
       "    </tr>\n",
       "  </tbody>\n",
       "</table>\n",
       "</div>"
      ],
      "text/plain": [
       "  rating  na_sales\n",
       "1      E   1292.99\n",
       "7      T    759.75\n",
       "5      M    748.48\n",
       "2   E10+    353.32\n",
       "4    K-A      2.56\n",
       "3     EC      1.53\n",
       "0     AO      1.26\n",
       "6     RP      0.00"
      ]
     },
     "execution_count": 63,
     "metadata": {},
     "output_type": "execute_result"
    }
   ],
   "source": [
    "# Agrupar las ventas por clasificación ESRB para cada región\n",
    "rating_sales_na = games_data_raw.groupby('rating')['na_sales'].sum().reset_index().sort_values(by='na_sales', ascending=False)\n",
    "rating_sales_na"
   ]
  },
  {
   "cell_type": "markdown",
   "metadata": {},
   "source": [
    "Region EUROPA"
   ]
  },
  {
   "cell_type": "code",
   "execution_count": 64,
   "metadata": {
    "scrolled": true
   },
   "outputs": [
    {
     "data": {
      "text/html": [
       "<div>\n",
       "<style scoped>\n",
       "    .dataframe tbody tr th:only-of-type {\n",
       "        vertical-align: middle;\n",
       "    }\n",
       "\n",
       "    .dataframe tbody tr th {\n",
       "        vertical-align: top;\n",
       "    }\n",
       "\n",
       "    .dataframe thead th {\n",
       "        text-align: right;\n",
       "    }\n",
       "</style>\n",
       "<table border=\"1\" class=\"dataframe\">\n",
       "  <thead>\n",
       "    <tr style=\"text-align: right;\">\n",
       "      <th></th>\n",
       "      <th>rating</th>\n",
       "      <th>eu_sales</th>\n",
       "    </tr>\n",
       "  </thead>\n",
       "  <tbody>\n",
       "    <tr>\n",
       "      <th>1</th>\n",
       "      <td>E</td>\n",
       "      <td>710.25</td>\n",
       "    </tr>\n",
       "    <tr>\n",
       "      <th>5</th>\n",
       "      <td>M</td>\n",
       "      <td>483.97</td>\n",
       "    </tr>\n",
       "    <tr>\n",
       "      <th>7</th>\n",
       "      <td>T</td>\n",
       "      <td>427.03</td>\n",
       "    </tr>\n",
       "    <tr>\n",
       "      <th>2</th>\n",
       "      <td>E10+</td>\n",
       "      <td>188.52</td>\n",
       "    </tr>\n",
       "    <tr>\n",
       "      <th>0</th>\n",
       "      <td>AO</td>\n",
       "      <td>0.61</td>\n",
       "    </tr>\n",
       "    <tr>\n",
       "      <th>4</th>\n",
       "      <td>K-A</td>\n",
       "      <td>0.27</td>\n",
       "    </tr>\n",
       "    <tr>\n",
       "      <th>3</th>\n",
       "      <td>EC</td>\n",
       "      <td>0.11</td>\n",
       "    </tr>\n",
       "    <tr>\n",
       "      <th>6</th>\n",
       "      <td>RP</td>\n",
       "      <td>0.08</td>\n",
       "    </tr>\n",
       "  </tbody>\n",
       "</table>\n",
       "</div>"
      ],
      "text/plain": [
       "  rating  eu_sales\n",
       "1      E    710.25\n",
       "5      M    483.97\n",
       "7      T    427.03\n",
       "2   E10+    188.52\n",
       "0     AO      0.61\n",
       "4    K-A      0.27\n",
       "3     EC      0.11\n",
       "6     RP      0.08"
      ]
     },
     "execution_count": 64,
     "metadata": {},
     "output_type": "execute_result"
    }
   ],
   "source": [
    "rating_sales_eu = games_data_raw.groupby('rating')['eu_sales'].sum().reset_index().sort_values(by='eu_sales', ascending=False)\n",
    "rating_sales_eu"
   ]
  },
  {
   "cell_type": "markdown",
   "metadata": {},
   "source": [
    "Region JAPON"
   ]
  },
  {
   "cell_type": "code",
   "execution_count": 65,
   "metadata": {},
   "outputs": [
    {
     "data": {
      "text/html": [
       "<div>\n",
       "<style scoped>\n",
       "    .dataframe tbody tr th:only-of-type {\n",
       "        vertical-align: middle;\n",
       "    }\n",
       "\n",
       "    .dataframe tbody tr th {\n",
       "        vertical-align: top;\n",
       "    }\n",
       "\n",
       "    .dataframe thead th {\n",
       "        text-align: right;\n",
       "    }\n",
       "</style>\n",
       "<table border=\"1\" class=\"dataframe\">\n",
       "  <thead>\n",
       "    <tr style=\"text-align: right;\">\n",
       "      <th></th>\n",
       "      <th>rating</th>\n",
       "      <th>jp_sales</th>\n",
       "    </tr>\n",
       "  </thead>\n",
       "  <tbody>\n",
       "    <tr>\n",
       "      <th>1</th>\n",
       "      <td>E</td>\n",
       "      <td>198.11</td>\n",
       "    </tr>\n",
       "    <tr>\n",
       "      <th>7</th>\n",
       "      <td>T</td>\n",
       "      <td>151.40</td>\n",
       "    </tr>\n",
       "    <tr>\n",
       "      <th>5</th>\n",
       "      <td>M</td>\n",
       "      <td>64.24</td>\n",
       "    </tr>\n",
       "    <tr>\n",
       "      <th>2</th>\n",
       "      <td>E10+</td>\n",
       "      <td>40.20</td>\n",
       "    </tr>\n",
       "    <tr>\n",
       "      <th>4</th>\n",
       "      <td>K-A</td>\n",
       "      <td>1.46</td>\n",
       "    </tr>\n",
       "    <tr>\n",
       "      <th>0</th>\n",
       "      <td>AO</td>\n",
       "      <td>0.00</td>\n",
       "    </tr>\n",
       "    <tr>\n",
       "      <th>3</th>\n",
       "      <td>EC</td>\n",
       "      <td>0.00</td>\n",
       "    </tr>\n",
       "    <tr>\n",
       "      <th>6</th>\n",
       "      <td>RP</td>\n",
       "      <td>0.00</td>\n",
       "    </tr>\n",
       "  </tbody>\n",
       "</table>\n",
       "</div>"
      ],
      "text/plain": [
       "  rating  jp_sales\n",
       "1      E    198.11\n",
       "7      T    151.40\n",
       "5      M     64.24\n",
       "2   E10+     40.20\n",
       "4    K-A      1.46\n",
       "0     AO      0.00\n",
       "3     EC      0.00\n",
       "6     RP      0.00"
      ]
     },
     "execution_count": 65,
     "metadata": {},
     "output_type": "execute_result"
    }
   ],
   "source": [
    "rating_sales_jp = games_data_raw.groupby('rating')['jp_sales'].sum().reset_index().sort_values(by='jp_sales', ascending=False)\n",
    "rating_sales_jp"
   ]
  },
  {
   "cell_type": "code",
   "execution_count": 66,
   "metadata": {
    "scrolled": false
   },
   "outputs": [
    {
     "data": {
      "image/png": "[encoded data removed]",
      "text/plain": [
       "<Figure size 1000x600 with 1 Axes>"
      ]
     },
     "metadata": {},
     "output_type": "display_data"
    },
    {
     "data": {
      "image/png": "[encoded data removed]",
      "text/plain": [
       "<Figure size 1000x600 with 1 Axes>"
      ]
     },
     "metadata": {},
     "output_type": "display_data"
    },
    {
     "data": {
      "image/png": "[encoded data removed]",
      "text/plain": [
       "<Figure size 1000x600 with 1 Axes>"
      ]
     },
     "metadata": {},
     "output_type": "display_data"
    }
   ],
   "source": [
    "# Gráfico para ventas por clasificación ESRB en NA\n",
    "plt.figure(figsize=(10,6))\n",
    "sns.barplot(x='rating', y='na_sales', data=rating_sales_na, palette='Blues_d')\n",
    "plt.title('Ventas por Clasificación ESRB en Norteamérica (NA)')\n",
    "plt.xlabel('Clasificación ESRB')\n",
    "plt.ylabel('Ventas (millones)')\n",
    "plt.show()\n",
    "\n",
    "# Gráfico para ventas por clasificación ESRB en EU\n",
    "plt.figure(figsize=(10,6))\n",
    "sns.barplot(x='rating', y='eu_sales', data=rating_sales_eu, palette='Greens_d')\n",
    "plt.title('Ventas por Clasificación ESRB en Europa (EU)')\n",
    "plt.xlabel('Clasificación ESRB')\n",
    "plt.ylabel('Ventas (millones)')\n",
    "plt.show()\n",
    "\n",
    "# Gráfico para ventas por clasificación ESRB en JP\n",
    "plt.figure(figsize=(10,6))\n",
    "sns.barplot(x='rating', y='jp_sales', data=rating_sales_jp, palette='Reds_d')\n",
    "plt.title('Ventas por Clasificación ESRB en Japón (JP)')\n",
    "plt.xlabel('Clasificación ESRB')\n",
    "plt.ylabel('Ventas (millones)')\n",
    "plt.show()"
   ]
  },
  {
   "cell_type": "markdown",
   "metadata": {},
   "source": [
    "Con el analisis del Rating ESRB, se puede determinar para qué público está recomendado el contenido de los videojuegos. \n",
    "E: Everyone (Todos los públicos).\n",
    "T: Teen (Adolescentes).\n",
    "M: Mature (Maduro, 17+).\n",
    "E10+: Everyone 10+ (Para mayores de 10 años).\n",
    "K-A: Kids to Adults (Niños a Adultos, usada en juegos más antiguos, ahora reemplazada por E).\n",
    "EC: Early Childhood (Primera infancia).\n",
    "AO: Adults Only (Solo para adultos).\n",
    "RP: Rating Pending (Clasificación pendiente).\n",
    "\n",
    "En conclusion en todas las regiones NA. EU Y JA, los juegos con clasificacion E son los màs vendidos, lo que significa que el mercado busca juegos para todo el publico en general. "
   ]
  },
  {
   "cell_type": "markdown",
   "metadata": {},
   "source": [
    "# Paso 5. Prueba las siguientes hipótesis:"
   ]
  },
  {
   "cell_type": "markdown",
   "metadata": {},
   "source": [
    "1. Prueba Hipotesis: Las calificaciones promedio de los usuarios para las plataformas Xbox One y PC son las mismas."
   ]
  },
  {
   "cell_type": "markdown",
   "metadata": {},
   "source": [
    "Hipótesis:\n",
    "Hipótesis nula (H₀): Las calificaciones promedio de los usuarios para Xbox One y PC son iguales.\n",
    "Hipótesis alternativa (H₁): Las calificaciones promedio de los usuarios para Xbox One y PC son diferentes."
   ]
  },
  {
   "cell_type": "code",
   "execution_count": 126,
   "metadata": {},
   "outputs": [
    {
     "data": {
      "text/html": [
       "<div>\n",
       "<style scoped>\n",
       "    .dataframe tbody tr th:only-of-type {\n",
       "        vertical-align: middle;\n",
       "    }\n",
       "\n",
       "    .dataframe tbody tr th {\n",
       "        vertical-align: top;\n",
       "    }\n",
       "\n",
       "    .dataframe thead th {\n",
       "        text-align: right;\n",
       "    }\n",
       "</style>\n",
       "<table border=\"1\" class=\"dataframe\">\n",
       "  <thead>\n",
       "    <tr style=\"text-align: right;\">\n",
       "      <th></th>\n",
       "      <th>name</th>\n",
       "      <th>platform</th>\n",
       "      <th>year_of_release</th>\n",
       "      <th>genre</th>\n",
       "      <th>na_sales</th>\n",
       "      <th>eu_sales</th>\n",
       "      <th>jp_sales</th>\n",
       "      <th>other_sales</th>\n",
       "      <th>critic_score</th>\n",
       "      <th>user_score</th>\n",
       "      <th>rating</th>\n",
       "      <th>total_sales</th>\n",
       "    </tr>\n",
       "  </thead>\n",
       "  <tbody>\n",
       "    <tr>\n",
       "      <th>85</th>\n",
       "      <td>The Sims 3</td>\n",
       "      <td>PC</td>\n",
       "      <td>2009</td>\n",
       "      <td>Simulation</td>\n",
       "      <td>0.99</td>\n",
       "      <td>6.42</td>\n",
       "      <td>0.00</td>\n",
       "      <td>0.60</td>\n",
       "      <td>86.0</td>\n",
       "      <td>7.6</td>\n",
       "      <td>T</td>\n",
       "      <td>8.01</td>\n",
       "    </tr>\n",
       "    <tr>\n",
       "      <th>99</th>\n",
       "      <td>Call of Duty: Black Ops 3</td>\n",
       "      <td>XOne</td>\n",
       "      <td>2015</td>\n",
       "      <td>Shooter</td>\n",
       "      <td>4.59</td>\n",
       "      <td>2.11</td>\n",
       "      <td>0.01</td>\n",
       "      <td>0.68</td>\n",
       "      <td>NaN</td>\n",
       "      <td>NaN</td>\n",
       "      <td>NaN</td>\n",
       "      <td>7.39</td>\n",
       "    </tr>\n",
       "    <tr>\n",
       "      <th>138</th>\n",
       "      <td>World of Warcraft</td>\n",
       "      <td>PC</td>\n",
       "      <td>2004</td>\n",
       "      <td>Role-Playing</td>\n",
       "      <td>0.08</td>\n",
       "      <td>6.21</td>\n",
       "      <td>0.00</td>\n",
       "      <td>0.00</td>\n",
       "      <td>93.0</td>\n",
       "      <td>7.3</td>\n",
       "      <td>T</td>\n",
       "      <td>6.29</td>\n",
       "    </tr>\n",
       "    <tr>\n",
       "      <th>165</th>\n",
       "      <td>Grand Theft Auto V</td>\n",
       "      <td>XOne</td>\n",
       "      <td>2014</td>\n",
       "      <td>Action</td>\n",
       "      <td>2.81</td>\n",
       "      <td>2.19</td>\n",
       "      <td>0.00</td>\n",
       "      <td>0.47</td>\n",
       "      <td>97.0</td>\n",
       "      <td>7.9</td>\n",
       "      <td>M</td>\n",
       "      <td>5.47</td>\n",
       "    </tr>\n",
       "    <tr>\n",
       "      <th>179</th>\n",
       "      <td>Call of Duty: Advanced Warfare</td>\n",
       "      <td>XOne</td>\n",
       "      <td>2014</td>\n",
       "      <td>Shooter</td>\n",
       "      <td>3.22</td>\n",
       "      <td>1.55</td>\n",
       "      <td>0.01</td>\n",
       "      <td>0.48</td>\n",
       "      <td>81.0</td>\n",
       "      <td>5.4</td>\n",
       "      <td>M</td>\n",
       "      <td>5.26</td>\n",
       "    </tr>\n",
       "  </tbody>\n",
       "</table>\n",
       "</div>"
      ],
      "text/plain": [
       "                               name platform  year_of_release         genre  \\\n",
       "85                       The Sims 3       PC             2009    Simulation   \n",
       "99        Call of Duty: Black Ops 3     XOne             2015       Shooter   \n",
       "138               World of Warcraft       PC             2004  Role-Playing   \n",
       "165              Grand Theft Auto V     XOne             2014        Action   \n",
       "179  Call of Duty: Advanced Warfare     XOne             2014       Shooter   \n",
       "\n",
       "     na_sales  eu_sales  jp_sales  other_sales  critic_score  user_score  \\\n",
       "85       0.99      6.42      0.00         0.60          86.0         7.6   \n",
       "99       4.59      2.11      0.01         0.68           NaN         NaN   \n",
       "138      0.08      6.21      0.00         0.00          93.0         7.3   \n",
       "165      2.81      2.19      0.00         0.47          97.0         7.9   \n",
       "179      3.22      1.55      0.01         0.48          81.0         5.4   \n",
       "\n",
       "    rating  total_sales  \n",
       "85       T         8.01  \n",
       "99     NaN         7.39  \n",
       "138      T         6.29  \n",
       "165      M         5.47  \n",
       "179      M         5.26  "
      ]
     },
     "execution_count": 126,
     "metadata": {},
     "output_type": "execute_result"
    }
   ],
   "source": [
    "# Filtrar las plataformas Xbox One y PC\n",
    "xbox_pc_data = games_data_raw[games_data_raw['platform'].isin(['XOne', 'PC'])]\n",
    "xbox_pc_data.head()"
   ]
  },
  {
   "cell_type": "code",
   "execution_count": 127,
   "metadata": {},
   "outputs": [],
   "source": [
    "# Separar los datos por plataforma\n",
    "xbox_scores = xbox_pc_data[xbox_pc_data['platform'] == 'XOne']['user_score'].dropna()\n",
    "\n",
    "pc_scores = xbox_pc_data[xbox_pc_data['platform'] == 'PC']['user_score'].dropna()\n"
   ]
  },
  {
   "cell_type": "code",
   "execution_count": 134,
   "metadata": {},
   "outputs": [
    {
     "data": {
      "text/plain": [
       "6.521428571428572"
      ]
     },
     "execution_count": 134,
     "metadata": {},
     "output_type": "execute_result"
    }
   ],
   "source": [
    "xbox_scores.mean()"
   ]
  },
  {
   "cell_type": "code",
   "execution_count": 133,
   "metadata": {},
   "outputs": [
    {
     "data": {
      "text/plain": [
       "7.062467532467533"
      ]
     },
     "execution_count": 133,
     "metadata": {},
     "output_type": "execute_result"
    }
   ],
   "source": [
    "pc_scores.mean()"
   ]
  },
  {
   "cell_type": "code",
   "execution_count": 130,
   "metadata": {},
   "outputs": [],
   "source": [
    "# Realizar la prueba t de muestras independientes (t-test)\n",
    "t_stat, p_value = stats.ttest_ind(xbox_scores, pc_scores, equal_var=False)  "
   ]
  },
  {
   "cell_type": "code",
   "execution_count": 131,
   "metadata": {},
   "outputs": [
    {
     "name": "stdout",
     "output_type": "stream",
     "text": [
      "T-statistic: -4.653422798410771\n",
      "P-value: 4.935072360183574e-06\n"
     ]
    }
   ],
   "source": [
    "# Mostrar los resultados\n",
    "print(f\"T-statistic: {t_stat}\")\n",
    "print(f\"P-value: {p_value}\")"
   ]
  },
  {
   "cell_type": "code",
   "execution_count": 132,
   "metadata": {},
   "outputs": [
    {
     "name": "stdout",
     "output_type": "stream",
     "text": [
      "Rechazamos la hipótesis nula. Las calificaciones promedio son diferentes.\n"
     ]
    }
   ],
   "source": [
    "# Interpretación\n",
    "alpha = 0.05  # Nivel de significancia\n",
    "\n",
    "if p_value < alpha:\n",
    "    print(\"Rechazamos la hipótesis nula. Las calificaciones promedio son diferentes.\")\n",
    "else:\n",
    "    print(\"No rechazamos la hipótesis nula. Las calificaciones promedio son iguales.\")"
   ]
  },
  {
   "cell_type": "markdown",
   "metadata": {},
   "source": [
    "Para realizar la hipotesis de: Las calificaciones promedio de los usuarios para Xbox One y PC son iguales lo que realice es que filtre primero los datos de las  plataformas Xbox One y PC y les realice la prueba ttest tiene como objetivo comparar los promedios de dos grupos independientes para determinar si son significativamente diferentes entre sí. Con esta prueba se obtuvo como resultado que las calificaciones promedio de esas dos plataformas si son diferentesy lo comprobe realizando el promedio y si son distintos"
   ]
  },
  {
   "cell_type": "markdown",
   "metadata": {},
   "source": [
    "2. Prueba Hipotesis: Las calificaciones promedio de los usuarios para los géneros de Acción y Deportes son diferentes."
   ]
  },
  {
   "cell_type": "markdown",
   "metadata": {},
   "source": [
    "Hipótesis nula (H₀): Las calificaciones promedio de los géneros de Acción y Deportes son iguales.\n",
    "Hipótesis alternativa (H₁): Las calificaciones promedio de los géneros de Acción y Deportes son diferentes."
   ]
  },
  {
   "cell_type": "code",
   "execution_count": 139,
   "metadata": {},
   "outputs": [
    {
     "data": {
      "text/html": [
       "<div>\n",
       "<style scoped>\n",
       "    .dataframe tbody tr th:only-of-type {\n",
       "        vertical-align: middle;\n",
       "    }\n",
       "\n",
       "    .dataframe tbody tr th {\n",
       "        vertical-align: top;\n",
       "    }\n",
       "\n",
       "    .dataframe thead th {\n",
       "        text-align: right;\n",
       "    }\n",
       "</style>\n",
       "<table border=\"1\" class=\"dataframe\">\n",
       "  <thead>\n",
       "    <tr style=\"text-align: right;\">\n",
       "      <th></th>\n",
       "      <th>name</th>\n",
       "      <th>platform</th>\n",
       "      <th>year_of_release</th>\n",
       "      <th>genre</th>\n",
       "      <th>na_sales</th>\n",
       "      <th>eu_sales</th>\n",
       "      <th>jp_sales</th>\n",
       "      <th>other_sales</th>\n",
       "      <th>critic_score</th>\n",
       "      <th>user_score</th>\n",
       "      <th>rating</th>\n",
       "      <th>total_sales</th>\n",
       "    </tr>\n",
       "  </thead>\n",
       "  <tbody>\n",
       "    <tr>\n",
       "      <th>0</th>\n",
       "      <td>Wii Sports</td>\n",
       "      <td>Wii</td>\n",
       "      <td>2006</td>\n",
       "      <td>Sports</td>\n",
       "      <td>41.36</td>\n",
       "      <td>28.96</td>\n",
       "      <td>3.77</td>\n",
       "      <td>8.45</td>\n",
       "      <td>76.0</td>\n",
       "      <td>8.0</td>\n",
       "      <td>E</td>\n",
       "      <td>82.54</td>\n",
       "    </tr>\n",
       "    <tr>\n",
       "      <th>3</th>\n",
       "      <td>Wii Sports Resort</td>\n",
       "      <td>Wii</td>\n",
       "      <td>2009</td>\n",
       "      <td>Sports</td>\n",
       "      <td>15.61</td>\n",
       "      <td>10.93</td>\n",
       "      <td>3.28</td>\n",
       "      <td>2.95</td>\n",
       "      <td>80.0</td>\n",
       "      <td>8.0</td>\n",
       "      <td>E</td>\n",
       "      <td>32.77</td>\n",
       "    </tr>\n",
       "    <tr>\n",
       "      <th>13</th>\n",
       "      <td>Wii Fit</td>\n",
       "      <td>Wii</td>\n",
       "      <td>2007</td>\n",
       "      <td>Sports</td>\n",
       "      <td>8.92</td>\n",
       "      <td>8.03</td>\n",
       "      <td>3.60</td>\n",
       "      <td>2.15</td>\n",
       "      <td>80.0</td>\n",
       "      <td>7.7</td>\n",
       "      <td>E</td>\n",
       "      <td>22.70</td>\n",
       "    </tr>\n",
       "    <tr>\n",
       "      <th>15</th>\n",
       "      <td>Wii Fit Plus</td>\n",
       "      <td>Wii</td>\n",
       "      <td>2009</td>\n",
       "      <td>Sports</td>\n",
       "      <td>9.01</td>\n",
       "      <td>8.49</td>\n",
       "      <td>2.53</td>\n",
       "      <td>1.77</td>\n",
       "      <td>80.0</td>\n",
       "      <td>7.4</td>\n",
       "      <td>E</td>\n",
       "      <td>21.80</td>\n",
       "    </tr>\n",
       "    <tr>\n",
       "      <th>16</th>\n",
       "      <td>Grand Theft Auto V</td>\n",
       "      <td>PS3</td>\n",
       "      <td>2013</td>\n",
       "      <td>Action</td>\n",
       "      <td>7.02</td>\n",
       "      <td>9.09</td>\n",
       "      <td>0.98</td>\n",
       "      <td>3.96</td>\n",
       "      <td>97.0</td>\n",
       "      <td>8.2</td>\n",
       "      <td>M</td>\n",
       "      <td>21.05</td>\n",
       "    </tr>\n",
       "  </tbody>\n",
       "</table>\n",
       "</div>"
      ],
      "text/plain": [
       "                  name platform  year_of_release   genre  na_sales  eu_sales  \\\n",
       "0           Wii Sports      Wii             2006  Sports     41.36     28.96   \n",
       "3    Wii Sports Resort      Wii             2009  Sports     15.61     10.93   \n",
       "13             Wii Fit      Wii             2007  Sports      8.92      8.03   \n",
       "15        Wii Fit Plus      Wii             2009  Sports      9.01      8.49   \n",
       "16  Grand Theft Auto V      PS3             2013  Action      7.02      9.09   \n",
       "\n",
       "    jp_sales  other_sales  critic_score  user_score rating  total_sales  \n",
       "0       3.77         8.45          76.0         8.0      E        82.54  \n",
       "3       3.28         2.95          80.0         8.0      E        32.77  \n",
       "13      3.60         2.15          80.0         7.7      E        22.70  \n",
       "15      2.53         1.77          80.0         7.4      E        21.80  \n",
       "16      0.98         3.96          97.0         8.2      M        21.05  "
      ]
     },
     "execution_count": 139,
     "metadata": {},
     "output_type": "execute_result"
    }
   ],
   "source": [
    "# Filtrar los géneros Acción y Deportes\n",
    "action_sports_data = games_data_raw[games_data_raw['genre'].isin(['Action', 'Sports'])]\n",
    "action_sports_data.head()"
   ]
  },
  {
   "cell_type": "code",
   "execution_count": 141,
   "metadata": {},
   "outputs": [],
   "source": [
    "# Separar los datos por género\n",
    "action_scores = action_sports_data[action_sports_data['genre'] == 'Action']['user_score'].dropna()\n",
    "sports_scores = action_sports_data[action_sports_data['genre'] == 'Sports']['user_score'].dropna()"
   ]
  },
  {
   "cell_type": "code",
   "execution_count": 146,
   "metadata": {},
   "outputs": [
    {
     "data": {
      "text/plain": [
       "7.054043715846995"
      ]
     },
     "execution_count": 146,
     "metadata": {},
     "output_type": "execute_result"
    }
   ],
   "source": [
    "action_scores.mean()"
   ]
  },
  {
   "cell_type": "code",
   "execution_count": 147,
   "metadata": {},
   "outputs": [
    {
     "data": {
      "text/plain": [
       "6.961196736174069"
      ]
     },
     "execution_count": 147,
     "metadata": {},
     "output_type": "execute_result"
    }
   ],
   "source": [
    "sports_scores.mean()"
   ]
  },
  {
   "cell_type": "code",
   "execution_count": 142,
   "metadata": {},
   "outputs": [],
   "source": [
    "# Realizar la prueba t de muestras independientes (t-test)\n",
    "t_stat, p_value = stats.ttest_ind(action_scores, sports_scores, equal_var=False)  # Asumiendo varianzas desiguales"
   ]
  },
  {
   "cell_type": "code",
   "execution_count": 143,
   "metadata": {},
   "outputs": [
    {
     "name": "stdout",
     "output_type": "stream",
     "text": [
      "T-statistic: 1.57746791633354\n",
      "P-value: 0.11483818791498286\n"
     ]
    }
   ],
   "source": [
    "# Mostrar los resultados\n",
    "print(f\"T-statistic: {t_stat}\")\n",
    "print(f\"P-value: {p_value}\")"
   ]
  },
  {
   "cell_type": "code",
   "execution_count": 144,
   "metadata": {},
   "outputs": [
    {
     "name": "stdout",
     "output_type": "stream",
     "text": [
      "No rechazamos la hipótesis nula. Las calificaciones promedio para los géneros de Acción y Deportes son iguales.\n"
     ]
    }
   ],
   "source": [
    "# Interpretación\n",
    "alpha = 0.05  # Nivel de significancia\n",
    "\n",
    "if p_value < alpha:\n",
    "    print(\"Rechazamos la hipótesis nula. Las calificaciones promedio para los géneros de Acción y Deportes son diferentes.\")\n",
    "else:\n",
    "    print(\"No rechazamos la hipótesis nula. Las calificaciones promedio para los géneros de Acción y Deportes son iguales.\")"
   ]
  },
  {
   "cell_type": "markdown",
   "metadata": {},
   "source": [
    "Esto significa que Si bien al realizar los promedios de los puntajes de Action y Sports aunque parece haber una ligera diferencia Action: 7.05 y Sports 6.96, fue necesario verificar estadisticamente a través de la prueba t-test, la cual indica que si bien hay diferencia pero es muy minima, lo cual no da como resultado una diferencia real de los datos y por ende  podemos concluir que No rechazamos la Hipotesis nula ya que  no hay diferencia significativa entre los dos generos. \n"
   ]
  },
  {
   "cell_type": "markdown",
   "metadata": {},
   "source": [
    "# Paso 6. Escribe una conclusión general"
   ]
  },
  {
   "cell_type": "markdown",
   "metadata": {},
   "source": [
    "Concluyo con este analisis de datos  obtenidos a traves del archivo 'games' de la tienda online Ice que vende videojuegos por todo el mundo, que hay 11.559 juegos que oferta la compañía, sin embargo cada juego esta clasificado por una plataforma  y genero. Los años de estreno de los videojuegos se han incrementado a lo largo de los años que empiezan desde 1980 al 2016, obteniendo así a través de los años diferente cantidades de ventas . Las mejores plataformas de los juegos en ventas son PS2 , X360 y PS3, siendo el mas rentable es PS2. Sin embargo tambien se identificó que las plataformas tienen un tiempo de vida, es decir los primeros años de lanzamiento de los juegos  las ventas son altas pero llega un momento que estas caen. El PS4 es el producto que tuvo mayor cremiento en los ultimos años hasta el 2015 donde empezo a bajar las ventas. Lo anterior es tipico del negocio de videojuegos ya que es muy tendencial. Por otro lado, las reseñas de los usuarios y criticos tienen baja influencia en las ventas , si bien hay picos donde las reseñas son altas y las ventas tambien, pero no tan significativo.  EL Genero Action y los juegos E (everyone) son los mas vendido en las 3 regiones analizadas, sin embargo las pataformas son diferentes en cada region y esto se debe a los gustos y tendencias de las mismas. Para terminar, con este analisis se puede tomar deciciones para las campañas publicitarias y así poder incrementar las ventas de videojuegos que si bien tienen potencial de rentabilidad pero que hay que trabajar en nichos de mercados mas especificos. "
   ]
  }
 ],
 "metadata": {
  "ExecuteTimeLog": [
   {
    "duration": 7,
    "start_time": "2024-09-25T15:42:47.184Z"
   },
   {
    "duration": 285,
    "start_time": "2024-09-25T15:44:20.854Z"
   },
   {
    "duration": 561,
    "start_time": "2024-09-25T16:11:40.494Z"
   },
   {
    "duration": 76,
    "start_time": "2024-09-25T16:13:38.316Z"
   },
   {
    "duration": 58,
    "start_time": "2024-09-25T16:13:50.512Z"
   },
   {
    "duration": 62,
    "start_time": "2024-09-25T16:13:57.654Z"
   },
   {
    "duration": 45,
    "start_time": "2024-09-25T16:59:47.780Z"
   },
   {
    "duration": 16,
    "start_time": "2024-09-25T17:01:26.348Z"
   },
   {
    "duration": 22,
    "start_time": "2024-09-25T17:08:41.380Z"
   },
   {
    "duration": 11,
    "start_time": "2024-09-25T17:09:47.936Z"
   },
   {
    "duration": 22,
    "start_time": "2024-09-25T17:10:21.797Z"
   },
   {
    "duration": 9,
    "start_time": "2024-09-25T17:20:13.678Z"
   },
   {
    "duration": 6,
    "start_time": "2024-09-25T17:23:43.240Z"
   },
   {
    "duration": 9,
    "start_time": "2024-09-25T17:23:53.309Z"
   },
   {
    "duration": 3,
    "start_time": "2024-09-25T17:24:17.370Z"
   },
   {
    "duration": 3,
    "start_time": "2024-09-25T17:27:08.474Z"
   },
   {
    "duration": 13,
    "start_time": "2024-09-25T17:27:20.309Z"
   },
   {
    "duration": 13,
    "start_time": "2024-09-25T17:28:15.502Z"
   },
   {
    "duration": 2,
    "start_time": "2024-09-25T17:28:39.878Z"
   },
   {
    "duration": 34,
    "start_time": "2024-09-25T17:28:39.882Z"
   },
   {
    "duration": 12,
    "start_time": "2024-09-25T17:28:39.917Z"
   },
   {
    "duration": 21,
    "start_time": "2024-09-25T17:28:39.931Z"
   },
   {
    "duration": 8,
    "start_time": "2024-09-25T17:28:39.955Z"
   },
   {
    "duration": 25,
    "start_time": "2024-09-25T17:28:39.964Z"
   },
   {
    "duration": 17,
    "start_time": "2024-09-25T17:30:15.085Z"
   },
   {
    "duration": 11,
    "start_time": "2024-09-25T17:30:19.820Z"
   },
   {
    "duration": 5,
    "start_time": "2024-09-25T17:31:40.430Z"
   },
   {
    "duration": 3,
    "start_time": "2024-09-25T17:39:38.418Z"
   },
   {
    "duration": 5,
    "start_time": "2024-09-25T17:43:50.668Z"
   },
   {
    "duration": 4,
    "start_time": "2024-09-25T17:44:38.400Z"
   },
   {
    "duration": 14,
    "start_time": "2024-09-25T17:44:49.511Z"
   },
   {
    "duration": 20,
    "start_time": "2024-09-25T18:05:04.889Z"
   },
   {
    "duration": 17,
    "start_time": "2024-09-25T18:07:43.571Z"
   },
   {
    "duration": 296,
    "start_time": "2024-09-25T19:43:51.200Z"
   },
   {
    "duration": 51,
    "start_time": "2024-09-25T19:43:51.498Z"
   },
   {
    "duration": 13,
    "start_time": "2024-09-25T19:43:51.552Z"
   },
   {
    "duration": 23,
    "start_time": "2024-09-25T19:43:51.567Z"
   },
   {
    "duration": 9,
    "start_time": "2024-09-25T19:43:51.592Z"
   },
   {
    "duration": 33,
    "start_time": "2024-09-25T19:43:51.602Z"
   },
   {
    "duration": 12,
    "start_time": "2024-09-25T19:43:51.637Z"
   },
   {
    "duration": 6,
    "start_time": "2024-09-25T19:43:51.651Z"
   },
   {
    "duration": 4,
    "start_time": "2024-09-25T19:43:51.659Z"
   },
   {
    "duration": 13,
    "start_time": "2024-09-25T19:43:51.665Z"
   },
   {
    "duration": 17,
    "start_time": "2024-09-25T19:43:58.990Z"
   },
   {
    "duration": 2,
    "start_time": "2024-09-25T19:44:50.044Z"
   },
   {
    "duration": 188,
    "start_time": "2024-09-25T19:44:53.701Z"
   },
   {
    "duration": 4,
    "start_time": "2024-09-25T19:45:20.824Z"
   },
   {
    "duration": 4,
    "start_time": "2024-09-25T19:46:18.744Z"
   },
   {
    "duration": 6,
    "start_time": "2024-09-25T19:46:48.140Z"
   },
   {
    "duration": 10,
    "start_time": "2024-09-25T19:49:18.483Z"
   },
   {
    "duration": 7,
    "start_time": "2024-09-25T19:49:20.636Z"
   },
   {
    "duration": 418,
    "start_time": "2024-09-25T19:50:05.582Z"
   },
   {
    "duration": 593,
    "start_time": "2024-09-25T19:50:29.044Z"
   },
   {
    "duration": 5,
    "start_time": "2024-09-25T19:50:57.840Z"
   },
   {
    "duration": 6,
    "start_time": "2024-09-25T19:51:00.533Z"
   },
   {
    "duration": 57,
    "start_time": "2024-09-25T19:51:03.045Z"
   },
   {
    "duration": 4,
    "start_time": "2024-09-25T19:56:42.698Z"
   },
   {
    "duration": 5,
    "start_time": "2024-09-25T19:56:46.408Z"
   },
   {
    "duration": 10,
    "start_time": "2024-09-25T19:56:50.397Z"
   },
   {
    "duration": 11,
    "start_time": "2024-09-25T19:57:15.964Z"
   },
   {
    "duration": 8,
    "start_time": "2024-09-25T19:57:18.960Z"
   },
   {
    "duration": 9,
    "start_time": "2024-09-25T19:57:24.267Z"
   },
   {
    "duration": 4,
    "start_time": "2024-09-25T19:57:29.332Z"
   },
   {
    "duration": 9,
    "start_time": "2024-09-25T20:00:05.979Z"
   },
   {
    "duration": 4,
    "start_time": "2024-09-25T20:00:13.698Z"
   },
   {
    "duration": 130,
    "start_time": "2024-09-25T20:00:17.031Z"
   },
   {
    "duration": 2,
    "start_time": "2024-09-25T20:01:07.193Z"
   },
   {
    "duration": 2,
    "start_time": "2024-09-25T20:01:22.761Z"
   },
   {
    "duration": 31,
    "start_time": "2024-09-25T20:01:22.765Z"
   },
   {
    "duration": 10,
    "start_time": "2024-09-25T20:01:22.798Z"
   },
   {
    "duration": 18,
    "start_time": "2024-09-25T20:01:22.810Z"
   },
   {
    "duration": 8,
    "start_time": "2024-09-25T20:01:22.831Z"
   },
   {
    "duration": 5,
    "start_time": "2024-09-25T20:01:22.841Z"
   },
   {
    "duration": 13,
    "start_time": "2024-09-25T20:01:22.848Z"
   },
   {
    "duration": 5,
    "start_time": "2024-09-25T20:01:22.863Z"
   },
   {
    "duration": 17,
    "start_time": "2024-09-25T20:01:38.831Z"
   },
   {
    "duration": 4,
    "start_time": "2024-09-25T20:01:42.909Z"
   },
   {
    "duration": 3,
    "start_time": "2024-09-25T20:01:45.247Z"
   },
   {
    "duration": 4,
    "start_time": "2024-09-25T20:01:50.495Z"
   },
   {
    "duration": 10,
    "start_time": "2024-09-25T20:02:51.000Z"
   },
   {
    "duration": 2,
    "start_time": "2024-09-25T20:03:53.745Z"
   },
   {
    "duration": 4,
    "start_time": "2024-09-25T20:04:17.598Z"
   },
   {
    "duration": 4,
    "start_time": "2024-09-25T20:08:17.618Z"
   },
   {
    "duration": 6,
    "start_time": "2024-09-25T20:24:29.918Z"
   },
   {
    "duration": 4,
    "start_time": "2024-09-25T20:27:23.843Z"
   },
   {
    "duration": 7,
    "start_time": "2024-09-25T20:27:40.487Z"
   },
   {
    "duration": 4,
    "start_time": "2024-09-25T20:30:07.713Z"
   },
   {
    "duration": 12,
    "start_time": "2024-09-25T20:30:12.362Z"
   },
   {
    "duration": 12,
    "start_time": "2024-09-25T20:30:21.649Z"
   },
   {
    "duration": 12,
    "start_time": "2024-09-25T20:31:47.989Z"
   },
   {
    "duration": 13,
    "start_time": "2024-09-25T20:32:50.899Z"
   },
   {
    "duration": 9,
    "start_time": "2024-09-25T20:44:58.230Z"
   },
   {
    "duration": 5,
    "start_time": "2024-09-25T20:46:21.992Z"
   },
   {
    "duration": 4,
    "start_time": "2024-09-25T20:46:34.550Z"
   },
   {
    "duration": 6,
    "start_time": "2024-09-25T20:53:19.368Z"
   },
   {
    "duration": 3,
    "start_time": "2024-09-25T20:53:22.613Z"
   },
   {
    "duration": 5,
    "start_time": "2024-09-25T20:53:38.079Z"
   },
   {
    "duration": 3,
    "start_time": "2024-09-25T20:54:04.251Z"
   },
   {
    "duration": 5,
    "start_time": "2024-09-25T20:54:18.061Z"
   },
   {
    "duration": 5,
    "start_time": "2024-09-25T20:56:10.250Z"
   },
   {
    "duration": 5,
    "start_time": "2024-09-25T20:56:12.081Z"
   },
   {
    "duration": 4,
    "start_time": "2024-09-25T20:57:32.022Z"
   },
   {
    "duration": 10,
    "start_time": "2024-09-25T20:57:49.488Z"
   },
   {
    "duration": 1768,
    "start_time": "2024-09-25T21:03:08.949Z"
   },
   {
    "duration": 107,
    "start_time": "2024-09-25T21:04:49.093Z"
   },
   {
    "duration": 137,
    "start_time": "2024-09-25T21:05:09.856Z"
   },
   {
    "duration": 159,
    "start_time": "2024-09-25T21:13:23.578Z"
   },
   {
    "duration": 113,
    "start_time": "2024-09-25T21:13:41.633Z"
   },
   {
    "duration": 208,
    "start_time": "2024-09-25T21:16:55.803Z"
   },
   {
    "duration": 204,
    "start_time": "2024-09-25T21:17:16.008Z"
   },
   {
    "duration": 202,
    "start_time": "2024-09-25T21:17:54.849Z"
   },
   {
    "duration": 195,
    "start_time": "2024-09-25T21:23:21.456Z"
   },
   {
    "duration": 6,
    "start_time": "2024-09-25T21:26:13.242Z"
   },
   {
    "duration": 11,
    "start_time": "2024-09-25T21:26:19.661Z"
   },
   {
    "duration": 10,
    "start_time": "2024-09-25T21:27:00.863Z"
   },
   {
    "duration": 41,
    "start_time": "2024-09-25T21:38:36.859Z"
   },
   {
    "duration": 4,
    "start_time": "2024-09-25T21:39:05.893Z"
   },
   {
    "duration": 8,
    "start_time": "2024-09-25T21:39:28.965Z"
   },
   {
    "duration": 3,
    "start_time": "2024-09-25T21:43:06.358Z"
   },
   {
    "duration": 9,
    "start_time": "2024-09-25T21:43:12.084Z"
   },
   {
    "duration": 4,
    "start_time": "2024-09-25T21:49:52.466Z"
   },
   {
    "duration": 181,
    "start_time": "2024-09-25T21:50:40.233Z"
   },
   {
    "duration": 171,
    "start_time": "2024-09-25T21:52:28.302Z"
   },
   {
    "duration": 180,
    "start_time": "2024-09-25T21:52:50.359Z"
   },
   {
    "duration": 3,
    "start_time": "2024-09-25T22:01:47.602Z"
   },
   {
    "duration": 6,
    "start_time": "2024-09-25T22:03:09.775Z"
   },
   {
    "duration": 5,
    "start_time": "2024-09-25T22:06:56.024Z"
   },
   {
    "duration": 51,
    "start_time": "2024-09-25T22:09:53.413Z"
   },
   {
    "duration": 14,
    "start_time": "2024-09-25T22:10:02.027Z"
   },
   {
    "duration": 11,
    "start_time": "2024-09-25T22:10:12.768Z"
   },
   {
    "duration": 502,
    "start_time": "2024-09-25T22:10:35.998Z"
   },
   {
    "duration": 43,
    "start_time": "2024-09-25T22:14:42.812Z"
   },
   {
    "duration": 11,
    "start_time": "2024-09-25T22:15:23.009Z"
   },
   {
    "duration": 18,
    "start_time": "2024-09-25T22:15:25.179Z"
   },
   {
    "duration": 6,
    "start_time": "2024-09-25T22:15:29.167Z"
   },
   {
    "duration": 9,
    "start_time": "2024-09-25T22:15:31.167Z"
   },
   {
    "duration": 15,
    "start_time": "2024-09-25T22:15:32.863Z"
   },
   {
    "duration": 15,
    "start_time": "2024-09-25T22:15:35.403Z"
   },
   {
    "duration": 14,
    "start_time": "2024-09-25T22:16:54.470Z"
   },
   {
    "duration": 291,
    "start_time": "2024-09-25T22:17:59.725Z"
   },
   {
    "duration": 2,
    "start_time": "2024-09-25T22:20:04.249Z"
   },
   {
    "duration": 3,
    "start_time": "2024-09-25T22:20:06.548Z"
   },
   {
    "duration": 2,
    "start_time": "2024-09-25T22:20:12.287Z"
   },
   {
    "duration": 2,
    "start_time": "2024-09-25T22:22:32.315Z"
   },
   {
    "duration": 3,
    "start_time": "2024-09-26T00:34:38.772Z"
   },
   {
    "duration": 3,
    "start_time": "2024-09-26T00:36:01.712Z"
   },
   {
    "duration": 161,
    "start_time": "2024-09-26T01:04:23.970Z"
   },
   {
    "duration": 2515,
    "start_time": "2024-09-26T01:04:40.557Z"
   },
   {
    "duration": 50,
    "start_time": "2024-09-26T01:04:43.074Z"
   },
   {
    "duration": 11,
    "start_time": "2024-09-26T01:04:43.126Z"
   },
   {
    "duration": 21,
    "start_time": "2024-09-26T01:04:43.139Z"
   },
   {
    "duration": 9,
    "start_time": "2024-09-26T01:04:43.162Z"
   },
   {
    "duration": 4,
    "start_time": "2024-09-26T01:04:43.172Z"
   },
   {
    "duration": 10,
    "start_time": "2024-09-26T01:04:43.178Z"
   },
   {
    "duration": 4,
    "start_time": "2024-09-26T01:04:43.210Z"
   },
   {
    "duration": 4,
    "start_time": "2024-09-26T01:04:43.215Z"
   },
   {
    "duration": 10,
    "start_time": "2024-09-26T01:04:43.220Z"
   },
   {
    "duration": 16,
    "start_time": "2024-09-26T01:04:43.232Z"
   },
   {
    "duration": 4,
    "start_time": "2024-09-26T01:04:43.250Z"
   },
   {
    "duration": 3,
    "start_time": "2024-09-26T01:04:43.256Z"
   },
   {
    "duration": 51,
    "start_time": "2024-09-26T01:04:43.263Z"
   },
   {
    "duration": 4,
    "start_time": "2024-09-26T01:04:43.316Z"
   },
   {
    "duration": 6,
    "start_time": "2024-09-26T01:04:43.322Z"
   },
   {
    "duration": 13,
    "start_time": "2024-09-26T01:04:43.330Z"
   },
   {
    "duration": 12,
    "start_time": "2024-09-26T01:04:43.344Z"
   },
   {
    "duration": 4,
    "start_time": "2024-09-26T01:04:43.357Z"
   },
   {
    "duration": 6,
    "start_time": "2024-09-26T01:04:43.363Z"
   },
   {
    "duration": 40,
    "start_time": "2024-09-26T01:04:43.371Z"
   },
   {
    "duration": 8,
    "start_time": "2024-09-26T01:04:43.412Z"
   },
   {
    "duration": 222,
    "start_time": "2024-09-26T01:04:43.421Z"
   },
   {
    "duration": 11,
    "start_time": "2024-09-26T01:04:43.645Z"
   },
   {
    "duration": 4,
    "start_time": "2024-09-26T01:04:43.658Z"
   },
   {
    "duration": 8,
    "start_time": "2024-09-26T01:04:43.663Z"
   },
   {
    "duration": 3,
    "start_time": "2024-09-26T01:04:43.672Z"
   },
   {
    "duration": 33,
    "start_time": "2024-09-26T01:04:43.678Z"
   },
   {
    "duration": 190,
    "start_time": "2024-09-26T01:04:43.713Z"
   },
   {
    "duration": 5,
    "start_time": "2024-09-26T01:04:43.905Z"
   },
   {
    "duration": 5,
    "start_time": "2024-09-26T01:04:43.912Z"
   },
   {
    "duration": 12,
    "start_time": "2024-09-26T01:04:43.919Z"
   },
   {
    "duration": 12,
    "start_time": "2024-09-26T01:04:43.933Z"
   },
   {
    "duration": 382,
    "start_time": "2024-09-26T01:04:43.947Z"
   },
   {
    "duration": 3,
    "start_time": "2024-09-26T01:04:44.331Z"
   },
   {
    "duration": 2,
    "start_time": "2024-09-26T01:04:44.336Z"
   },
   {
    "duration": 244,
    "start_time": "2024-09-26T01:04:44.340Z"
   },
   {
    "duration": 43,
    "start_time": "2024-09-26T01:05:07.774Z"
   },
   {
    "duration": 406,
    "start_time": "2024-09-26T01:05:41.422Z"
   },
   {
    "duration": 363,
    "start_time": "2024-09-26T01:10:34.135Z"
   },
   {
    "duration": 8,
    "start_time": "2024-09-26T01:10:43.214Z"
   },
   {
    "duration": 3,
    "start_time": "2024-09-26T01:17:16.465Z"
   },
   {
    "duration": 3,
    "start_time": "2024-09-26T01:20:04.650Z"
   },
   {
    "duration": 288,
    "start_time": "2024-09-26T01:21:48.213Z"
   },
   {
    "duration": 5,
    "start_time": "2024-09-26T01:21:58.765Z"
   },
   {
    "duration": 19,
    "start_time": "2024-09-26T01:22:04.567Z"
   },
   {
    "duration": 121,
    "start_time": "2024-09-26T01:27:07.975Z"
   },
   {
    "duration": 36,
    "start_time": "2024-09-26T01:27:37.742Z"
   },
   {
    "duration": 13,
    "start_time": "2024-09-26T01:27:43.871Z"
   },
   {
    "duration": 13,
    "start_time": "2024-09-26T01:28:54.013Z"
   },
   {
    "duration": 2,
    "start_time": "2024-09-26T01:30:07.336Z"
   },
   {
    "duration": 272,
    "start_time": "2024-09-26T01:34:07.600Z"
   },
   {
    "duration": 128,
    "start_time": "2024-09-26T01:34:23.973Z"
   },
   {
    "duration": 49,
    "start_time": "2024-09-26T01:34:28.552Z"
   },
   {
    "duration": 153,
    "start_time": "2024-09-26T01:34:39.711Z"
   },
   {
    "duration": 8,
    "start_time": "2024-09-26T01:37:03.862Z"
   },
   {
    "duration": 4,
    "start_time": "2024-09-26T01:37:08.172Z"
   },
   {
    "duration": 8,
    "start_time": "2024-09-26T01:37:12.591Z"
   },
   {
    "duration": 2,
    "start_time": "2024-09-26T01:40:00.269Z"
   },
   {
    "duration": 3,
    "start_time": "2024-09-26T01:42:38.410Z"
   },
   {
    "duration": 2465,
    "start_time": "2024-09-26T12:41:47.469Z"
   },
   {
    "duration": 45,
    "start_time": "2024-09-26T12:41:49.935Z"
   },
   {
    "duration": 11,
    "start_time": "2024-09-26T12:41:49.982Z"
   },
   {
    "duration": 26,
    "start_time": "2024-09-26T12:41:49.994Z"
   },
   {
    "duration": 8,
    "start_time": "2024-09-26T12:41:50.022Z"
   },
   {
    "duration": 4,
    "start_time": "2024-09-26T12:41:50.033Z"
   },
   {
    "duration": 12,
    "start_time": "2024-09-26T12:41:50.039Z"
   },
   {
    "duration": 4,
    "start_time": "2024-09-26T12:41:50.053Z"
   },
   {
    "duration": 4,
    "start_time": "2024-09-26T12:41:50.058Z"
   },
   {
    "duration": 43,
    "start_time": "2024-09-26T12:41:50.063Z"
   },
   {
    "duration": 15,
    "start_time": "2024-09-26T12:41:50.108Z"
   },
   {
    "duration": 4,
    "start_time": "2024-09-26T12:41:50.125Z"
   },
   {
    "duration": 4,
    "start_time": "2024-09-26T12:41:50.130Z"
   },
   {
    "duration": 10,
    "start_time": "2024-09-26T12:41:50.138Z"
   },
   {
    "duration": 5,
    "start_time": "2024-09-26T12:41:50.149Z"
   },
   {
    "duration": 6,
    "start_time": "2024-09-26T12:41:50.155Z"
   },
   {
    "duration": 49,
    "start_time": "2024-09-26T12:41:50.163Z"
   },
   {
    "duration": 12,
    "start_time": "2024-09-26T12:41:50.213Z"
   },
   {
    "duration": 4,
    "start_time": "2024-09-26T12:41:50.227Z"
   },
   {
    "duration": 3,
    "start_time": "2024-09-26T12:41:50.233Z"
   },
   {
    "duration": 5,
    "start_time": "2024-09-26T12:41:50.238Z"
   },
   {
    "duration": 7,
    "start_time": "2024-09-26T12:41:50.245Z"
   },
   {
    "duration": 237,
    "start_time": "2024-09-26T12:41:50.254Z"
   },
   {
    "duration": 18,
    "start_time": "2024-09-26T12:41:50.493Z"
   },
   {
    "duration": 4,
    "start_time": "2024-09-26T12:41:50.512Z"
   },
   {
    "duration": 9,
    "start_time": "2024-09-26T12:41:50.517Z"
   },
   {
    "duration": 3,
    "start_time": "2024-09-26T12:41:50.527Z"
   },
   {
    "duration": 9,
    "start_time": "2024-09-26T12:41:50.532Z"
   },
   {
    "duration": 197,
    "start_time": "2024-09-26T12:41:50.543Z"
   },
   {
    "duration": 2,
    "start_time": "2024-09-26T12:41:50.742Z"
   },
   {
    "duration": 5,
    "start_time": "2024-09-26T12:41:50.745Z"
   },
   {
    "duration": 8,
    "start_time": "2024-09-26T12:41:50.753Z"
   },
   {
    "duration": 10,
    "start_time": "2024-09-26T12:41:50.763Z"
   },
   {
    "duration": 324,
    "start_time": "2024-09-26T12:41:50.774Z"
   },
   {
    "duration": 2,
    "start_time": "2024-09-26T12:41:51.100Z"
   },
   {
    "duration": 3,
    "start_time": "2024-09-26T12:41:51.104Z"
   },
   {
    "duration": 404,
    "start_time": "2024-09-26T12:41:51.109Z"
   },
   {
    "duration": 7,
    "start_time": "2024-09-26T12:41:51.515Z"
   },
   {
    "duration": 17,
    "start_time": "2024-09-26T12:41:51.524Z"
   },
   {
    "duration": 11,
    "start_time": "2024-09-26T12:41:51.542Z"
   },
   {
    "duration": 216,
    "start_time": "2024-09-26T12:41:51.558Z"
   },
   {
    "duration": 146,
    "start_time": "2024-09-26T12:41:51.775Z"
   },
   {
    "duration": 6,
    "start_time": "2024-09-26T12:41:51.923Z"
   },
   {
    "duration": 6,
    "start_time": "2024-09-26T12:41:51.931Z"
   },
   {
    "duration": 598,
    "start_time": "2024-09-26T13:22:53.459Z"
   },
   {
    "duration": 7,
    "start_time": "2024-09-26T13:23:15.940Z"
   },
   {
    "duration": 8,
    "start_time": "2024-09-26T13:23:30.620Z"
   },
   {
    "duration": 10,
    "start_time": "2024-09-26T13:24:20.204Z"
   },
   {
    "duration": 7,
    "start_time": "2024-09-26T13:24:41.844Z"
   },
   {
    "duration": 168,
    "start_time": "2024-09-26T13:27:32.746Z"
   },
   {
    "duration": 157,
    "start_time": "2024-09-26T13:27:54.771Z"
   },
   {
    "duration": 153,
    "start_time": "2024-09-26T13:36:09.813Z"
   },
   {
    "duration": 41,
    "start_time": "2024-09-26T13:36:21.283Z"
   },
   {
    "duration": 11,
    "start_time": "2024-09-26T13:36:27.631Z"
   },
   {
    "duration": 9,
    "start_time": "2024-09-26T13:38:48.949Z"
   },
   {
    "duration": 4,
    "start_time": "2024-09-26T13:39:08.925Z"
   },
   {
    "duration": 9,
    "start_time": "2024-09-26T13:39:43.946Z"
   },
   {
    "duration": 2,
    "start_time": "2024-09-26T13:40:21.332Z"
   },
   {
    "duration": 225,
    "start_time": "2024-09-26T13:40:36.924Z"
   },
   {
    "duration": 342,
    "start_time": "2024-09-26T13:43:21.059Z"
   },
   {
    "duration": 15,
    "start_time": "2024-09-26T13:50:31.882Z"
   },
   {
    "duration": 9,
    "start_time": "2024-09-26T13:54:03.051Z"
   },
   {
    "duration": 9,
    "start_time": "2024-09-26T13:54:52.527Z"
   },
   {
    "duration": 9,
    "start_time": "2024-09-26T13:56:19.697Z"
   },
   {
    "duration": 157,
    "start_time": "2024-09-26T13:56:48.926Z"
   },
   {
    "duration": 343,
    "start_time": "2024-09-26T13:58:50.670Z"
   },
   {
    "duration": 2,
    "start_time": "2024-09-26T14:06:19.390Z"
   },
   {
    "duration": 21,
    "start_time": "2024-09-26T14:06:51.997Z"
   },
   {
    "duration": 11,
    "start_time": "2024-09-26T14:07:02.493Z"
   },
   {
    "duration": 10,
    "start_time": "2024-09-26T14:07:28.825Z"
   },
   {
    "duration": 2,
    "start_time": "2024-09-26T14:08:04.666Z"
   },
   {
    "duration": 4,
    "start_time": "2024-09-26T14:08:44.673Z"
   },
   {
    "duration": 10,
    "start_time": "2024-09-26T14:08:59.117Z"
   },
   {
    "duration": 10,
    "start_time": "2024-09-26T14:09:35.677Z"
   },
   {
    "duration": 168,
    "start_time": "2024-09-26T14:09:52.189Z"
   },
   {
    "duration": 394,
    "start_time": "2024-09-26T14:10:25.798Z"
   },
   {
    "duration": 169,
    "start_time": "2024-09-26T15:27:15.820Z"
   },
   {
    "duration": 12,
    "start_time": "2024-09-26T15:27:51.878Z"
   },
   {
    "duration": 12,
    "start_time": "2024-09-26T15:28:27.214Z"
   },
   {
    "duration": 2563,
    "start_time": "2024-09-26T15:28:32.954Z"
   },
   {
    "duration": 49,
    "start_time": "2024-09-26T15:28:35.520Z"
   },
   {
    "duration": 12,
    "start_time": "2024-09-26T15:28:35.570Z"
   },
   {
    "duration": 20,
    "start_time": "2024-09-26T15:28:35.585Z"
   },
   {
    "duration": 7,
    "start_time": "2024-09-26T15:28:35.609Z"
   },
   {
    "duration": 16,
    "start_time": "2024-09-26T15:28:35.618Z"
   },
   {
    "duration": 11,
    "start_time": "2024-09-26T15:28:35.637Z"
   },
   {
    "duration": 5,
    "start_time": "2024-09-26T15:28:35.650Z"
   },
   {
    "duration": 4,
    "start_time": "2024-09-26T15:28:35.657Z"
   },
   {
    "duration": 12,
    "start_time": "2024-09-26T15:28:35.662Z"
   },
   {
    "duration": 17,
    "start_time": "2024-09-26T15:28:35.676Z"
   },
   {
    "duration": 4,
    "start_time": "2024-09-26T15:28:35.731Z"
   },
   {
    "duration": 4,
    "start_time": "2024-09-26T15:28:35.737Z"
   },
   {
    "duration": 10,
    "start_time": "2024-09-26T15:28:35.744Z"
   },
   {
    "duration": 4,
    "start_time": "2024-09-26T15:28:35.756Z"
   },
   {
    "duration": 7,
    "start_time": "2024-09-26T15:28:35.762Z"
   },
   {
    "duration": 14,
    "start_time": "2024-09-26T15:28:35.770Z"
   },
   {
    "duration": 49,
    "start_time": "2024-09-26T15:28:35.786Z"
   },
   {
    "duration": 4,
    "start_time": "2024-09-26T15:28:35.837Z"
   },
   {
    "duration": 5,
    "start_time": "2024-09-26T15:28:35.844Z"
   },
   {
    "duration": 4,
    "start_time": "2024-09-26T15:28:35.851Z"
   },
   {
    "duration": 8,
    "start_time": "2024-09-26T15:28:35.857Z"
   },
   {
    "duration": 230,
    "start_time": "2024-09-26T15:28:35.866Z"
   },
   {
    "duration": 10,
    "start_time": "2024-09-26T15:28:36.098Z"
   },
   {
    "duration": 4,
    "start_time": "2024-09-26T15:28:36.109Z"
   },
   {
    "duration": 24,
    "start_time": "2024-09-26T15:28:36.115Z"
   },
   {
    "duration": 4,
    "start_time": "2024-09-26T15:28:36.140Z"
   },
   {
    "duration": 11,
    "start_time": "2024-09-26T15:28:36.145Z"
   },
   {
    "duration": 188,
    "start_time": "2024-09-26T15:28:36.158Z"
   },
   {
    "duration": 2,
    "start_time": "2024-09-26T15:28:36.348Z"
   },
   {
    "duration": 6,
    "start_time": "2024-09-26T15:28:36.352Z"
   },
   {
    "duration": 10,
    "start_time": "2024-09-26T15:28:36.360Z"
   },
   {
    "duration": 11,
    "start_time": "2024-09-26T15:28:36.371Z"
   },
   {
    "duration": 364,
    "start_time": "2024-09-26T15:28:36.384Z"
   },
   {
    "duration": 3,
    "start_time": "2024-09-26T15:28:36.749Z"
   },
   {
    "duration": 3,
    "start_time": "2024-09-26T15:28:36.754Z"
   },
   {
    "duration": 399,
    "start_time": "2024-09-26T15:28:36.758Z"
   },
   {
    "duration": 7,
    "start_time": "2024-09-26T15:28:37.159Z"
   },
   {
    "duration": 17,
    "start_time": "2024-09-26T15:28:37.167Z"
   },
   {
    "duration": 11,
    "start_time": "2024-09-26T15:28:37.186Z"
   },
   {
    "duration": 151,
    "start_time": "2024-09-26T15:28:37.203Z"
   },
   {
    "duration": 141,
    "start_time": "2024-09-26T15:28:37.356Z"
   },
   {
    "duration": 7,
    "start_time": "2024-09-26T15:28:37.500Z"
   },
   {
    "duration": 23,
    "start_time": "2024-09-26T15:28:37.509Z"
   },
   {
    "duration": 8,
    "start_time": "2024-09-26T15:28:37.533Z"
   },
   {
    "duration": 9,
    "start_time": "2024-09-26T15:28:37.543Z"
   },
   {
    "duration": 6,
    "start_time": "2024-09-26T15:28:37.553Z"
   },
   {
    "duration": 196,
    "start_time": "2024-09-26T15:28:37.560Z"
   },
   {
    "duration": 182,
    "start_time": "2024-09-26T15:28:37.758Z"
   },
   {
    "duration": 10,
    "start_time": "2024-09-26T15:28:37.942Z"
   },
   {
    "duration": 8,
    "start_time": "2024-09-26T15:28:37.954Z"
   },
   {
    "duration": 9,
    "start_time": "2024-09-26T15:28:37.963Z"
   },
   {
    "duration": 2,
    "start_time": "2024-09-26T15:28:37.973Z"
   },
   {
    "duration": 460,
    "start_time": "2024-09-26T15:28:37.977Z"
   },
   {
    "duration": 9,
    "start_time": "2024-09-26T15:28:38.439Z"
   },
   {
    "duration": 8,
    "start_time": "2024-09-26T15:28:38.449Z"
   },
   {
    "duration": 9,
    "start_time": "2024-09-26T15:28:38.459Z"
   },
   {
    "duration": 367,
    "start_time": "2024-09-26T15:28:38.470Z"
   },
   {
    "duration": 2,
    "start_time": "2024-09-26T15:28:38.840Z"
   },
   {
    "duration": 10,
    "start_time": "2024-09-26T15:28:38.844Z"
   },
   {
    "duration": 8,
    "start_time": "2024-09-26T15:28:38.856Z"
   },
   {
    "duration": 8,
    "start_time": "2024-09-26T15:28:38.866Z"
   },
   {
    "duration": 432,
    "start_time": "2024-09-26T15:28:38.876Z"
   },
   {
    "duration": 6,
    "start_time": "2024-09-26T15:28:39.310Z"
   },
   {
    "duration": 5,
    "start_time": "2024-09-26T15:29:34.682Z"
   },
   {
    "duration": 9,
    "start_time": "2024-09-26T15:29:45.724Z"
   },
   {
    "duration": 75,
    "start_time": "2024-09-26T15:30:00.452Z"
   },
   {
    "duration": 448,
    "start_time": "2024-09-26T15:32:57.416Z"
   },
   {
    "duration": 5,
    "start_time": "2024-09-26T15:33:05.282Z"
   },
   {
    "duration": 5,
    "start_time": "2024-09-26T15:33:07.156Z"
   },
   {
    "duration": 13,
    "start_time": "2024-09-26T15:33:08.676Z"
   },
   {
    "duration": 41,
    "start_time": "2024-09-26T15:33:37.870Z"
   },
   {
    "duration": 4,
    "start_time": "2024-09-26T15:34:06.233Z"
   },
   {
    "duration": 12,
    "start_time": "2024-09-26T15:34:07.813Z"
   },
   {
    "duration": 14,
    "start_time": "2024-09-26T15:34:21.101Z"
   },
   {
    "duration": 2,
    "start_time": "2024-09-26T15:35:30.124Z"
   },
   {
    "duration": 3,
    "start_time": "2024-09-26T15:35:34.619Z"
   },
   {
    "duration": 4,
    "start_time": "2024-09-26T15:35:52.383Z"
   },
   {
    "duration": 6,
    "start_time": "2024-09-26T15:36:19.377Z"
   },
   {
    "duration": 4,
    "start_time": "2024-09-26T15:36:53.633Z"
   },
   {
    "duration": 4,
    "start_time": "2024-09-26T15:37:36.941Z"
   },
   {
    "duration": 3,
    "start_time": "2024-09-26T15:37:38.489Z"
   },
   {
    "duration": 4,
    "start_time": "2024-09-26T15:37:40.024Z"
   },
   {
    "duration": 3,
    "start_time": "2024-09-26T15:37:41.564Z"
   },
   {
    "duration": 3,
    "start_time": "2024-09-26T15:37:43.604Z"
   },
   {
    "duration": 3,
    "start_time": "2024-09-26T15:37:47.756Z"
   },
   {
    "duration": 3,
    "start_time": "2024-09-26T15:37:51.036Z"
   },
   {
    "duration": 3,
    "start_time": "2024-09-26T15:38:52.944Z"
   },
   {
    "duration": 3,
    "start_time": "2024-09-26T15:38:54.489Z"
   },
   {
    "duration": 6,
    "start_time": "2024-09-26T15:39:17.016Z"
   },
   {
    "duration": 15,
    "start_time": "2024-09-26T15:39:31.935Z"
   },
   {
    "duration": 3,
    "start_time": "2024-09-26T15:40:16.462Z"
   },
   {
    "duration": 5,
    "start_time": "2024-09-26T15:42:51.644Z"
   },
   {
    "duration": 6,
    "start_time": "2024-09-26T15:43:35.376Z"
   },
   {
    "duration": 7,
    "start_time": "2024-09-26T15:43:54.756Z"
   },
   {
    "duration": 7,
    "start_time": "2024-09-26T15:44:33.745Z"
   },
   {
    "duration": 5,
    "start_time": "2024-09-26T15:44:40.915Z"
   },
   {
    "duration": 4,
    "start_time": "2024-09-26T16:05:03.048Z"
   },
   {
    "duration": 4,
    "start_time": "2024-09-26T16:05:30.540Z"
   },
   {
    "duration": 2,
    "start_time": "2024-09-26T16:05:41.374Z"
   },
   {
    "duration": 3,
    "start_time": "2024-09-26T16:05:49.339Z"
   },
   {
    "duration": 3,
    "start_time": "2024-09-26T16:05:58.567Z"
   },
   {
    "duration": 4,
    "start_time": "2024-09-26T16:27:41.799Z"
   },
   {
    "duration": 4,
    "start_time": "2024-09-26T16:28:48.398Z"
   },
   {
    "duration": 4,
    "start_time": "2024-09-26T16:28:50.386Z"
   },
   {
    "duration": 8,
    "start_time": "2024-09-26T16:28:56.742Z"
   },
   {
    "duration": 17,
    "start_time": "2024-09-26T16:29:21.720Z"
   },
   {
    "duration": 6,
    "start_time": "2024-09-26T16:30:10.320Z"
   },
   {
    "duration": 6,
    "start_time": "2024-09-26T16:30:22.058Z"
   },
   {
    "duration": 6,
    "start_time": "2024-09-26T16:32:44.755Z"
   },
   {
    "duration": 18,
    "start_time": "2024-09-26T16:33:21.987Z"
   },
   {
    "duration": 12,
    "start_time": "2024-09-26T16:33:38.203Z"
   },
   {
    "duration": 6,
    "start_time": "2024-09-26T16:33:49.500Z"
   },
   {
    "duration": 7,
    "start_time": "2024-09-26T16:37:02.943Z"
   },
   {
    "duration": 12,
    "start_time": "2024-09-26T16:37:13.642Z"
   },
   {
    "duration": 5,
    "start_time": "2024-09-26T16:37:25.627Z"
   },
   {
    "duration": 3,
    "start_time": "2024-09-26T16:37:28.358Z"
   },
   {
    "duration": 3,
    "start_time": "2024-09-26T16:37:30.128Z"
   },
   {
    "duration": 5,
    "start_time": "2024-09-26T16:37:36.818Z"
   },
   {
    "duration": 4,
    "start_time": "2024-09-26T16:37:58.828Z"
   },
   {
    "duration": 4,
    "start_time": "2024-09-26T16:38:04.358Z"
   },
   {
    "duration": 3,
    "start_time": "2024-09-26T16:38:11.352Z"
   },
   {
    "duration": 12,
    "start_time": "2024-09-26T16:40:07.469Z"
   },
   {
    "duration": 5,
    "start_time": "2024-09-26T16:40:09.710Z"
   },
   {
    "duration": 5,
    "start_time": "2024-09-26T16:40:12.349Z"
   },
   {
    "duration": 5,
    "start_time": "2024-09-26T16:40:13.934Z"
   },
   {
    "duration": 3,
    "start_time": "2024-09-26T16:40:15.835Z"
   },
   {
    "duration": 2,
    "start_time": "2024-09-26T16:40:17.298Z"
   },
   {
    "duration": 4,
    "start_time": "2024-09-26T16:40:21.341Z"
   },
   {
    "duration": 3,
    "start_time": "2024-09-26T16:40:41.198Z"
   },
   {
    "duration": 3,
    "start_time": "2024-09-26T16:40:47.148Z"
   },
   {
    "duration": 7,
    "start_time": "2024-09-26T16:41:49.500Z"
   },
   {
    "duration": 6,
    "start_time": "2024-09-26T16:42:09.124Z"
   },
   {
    "duration": 5,
    "start_time": "2024-09-26T16:42:21.994Z"
   },
   {
    "duration": 17,
    "start_time": "2024-09-26T16:42:56.999Z"
   },
   {
    "duration": 13,
    "start_time": "2024-09-26T16:43:01.518Z"
   },
   {
    "duration": 15,
    "start_time": "2024-09-26T16:43:23.458Z"
   },
   {
    "duration": 5,
    "start_time": "2024-09-26T16:43:41.353Z"
   },
   {
    "duration": 3,
    "start_time": "2024-09-26T16:43:45.783Z"
   },
   {
    "duration": 4,
    "start_time": "2024-09-26T16:43:47.672Z"
   },
   {
    "duration": 4,
    "start_time": "2024-09-26T16:43:54.718Z"
   },
   {
    "duration": 7,
    "start_time": "2024-09-26T16:44:08.461Z"
   },
   {
    "duration": 6,
    "start_time": "2024-09-26T16:44:12.565Z"
   },
   {
    "duration": 4,
    "start_time": "2024-09-26T16:44:19.958Z"
   },
   {
    "duration": 12,
    "start_time": "2024-09-26T17:00:42.628Z"
   },
   {
    "duration": 13,
    "start_time": "2024-09-26T17:00:53.770Z"
   },
   {
    "duration": 40,
    "start_time": "2024-09-26T17:01:29.906Z"
   },
   {
    "duration": 39,
    "start_time": "2024-09-26T17:02:20.301Z"
   },
   {
    "duration": 7,
    "start_time": "2024-09-26T17:03:09.016Z"
   },
   {
    "duration": 6,
    "start_time": "2024-09-26T17:03:54.568Z"
   },
   {
    "duration": 166,
    "start_time": "2024-09-26T17:09:16.503Z"
   },
   {
    "duration": 11,
    "start_time": "2024-09-26T17:09:40.413Z"
   },
   {
    "duration": 5,
    "start_time": "2024-09-26T17:09:43.211Z"
   },
   {
    "duration": 11,
    "start_time": "2024-09-26T17:10:10.942Z"
   },
   {
    "duration": 5,
    "start_time": "2024-09-26T17:10:12.773Z"
   },
   {
    "duration": 2,
    "start_time": "2024-09-26T17:10:14.778Z"
   },
   {
    "duration": 252,
    "start_time": "2024-09-26T17:32:09.739Z"
   },
   {
    "duration": 172,
    "start_time": "2024-09-26T17:32:36.241Z"
   }
  ],
  "kernelspec": {
   "display_name": "Python 3 (ipykernel)",
   "language": "python",
   "name": "python3"
  },
  "language_info": {
   "codemirror_mode": {
    "name": "ipython",
    "version": 3
   },
   "file_extension": ".py",
   "mimetype": "text/x-python",
   "name": "python",
   "nbconvert_exporter": "python",
   "pygments_lexer": "ipython3",
   "version": "3.9.19"
  },
  "toc": {
   "base_numbering": 1,
   "nav_menu": {},
   "number_sections": true,
   "sideBar": true,
   "skip_h1_title": true,
   "title_cell": "Table of Contents",
   "title_sidebar": "Contents",
   "toc_cell": false,
   "toc_position": {},
   "toc_section_display": true,
   "toc_window_display": false
  }
 },
 "nbformat": 4,
 "nbformat_minor": 2
}
